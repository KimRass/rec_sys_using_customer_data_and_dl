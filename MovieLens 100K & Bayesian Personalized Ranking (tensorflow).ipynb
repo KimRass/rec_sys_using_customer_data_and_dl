{
 "cells": [
  {
   "cell_type": "markdown",
   "metadata": {
    "toc": true
   },
   "source": [
    "<h1>Table of Contents<span class=\"tocSkip\"></span></h1>\n",
    "<div class=\"toc\"><ul class=\"toc-item\"><li><span><a href=\"#K-Core-Pruning\" data-toc-modified-id=\"K-Core-Pruning-1\"><span class=\"toc-item-num\">1&nbsp;&nbsp;</span>K-Core Pruning</a></span></li><li><span><a href=\"#Spliting-Dataset\" data-toc-modified-id=\"Spliting-Dataset-2\"><span class=\"toc-item-num\">2&nbsp;&nbsp;</span>Spliting Dataset</a></span></li><li><span><a href=\"#Modeling\" data-toc-modified-id=\"Modeling-3\"><span class=\"toc-item-num\">3&nbsp;&nbsp;</span>Modeling</a></span></li></ul></div>"
   ]
  },
  {
   "cell_type": "code",
   "execution_count": 14,
   "metadata": {
    "ExecuteTime": {
     "end_time": "2022-01-16T04:32:41.609743Z",
     "start_time": "2022-01-16T04:32:41.599746Z"
    }
   },
   "outputs": [
    {
     "name": "stderr",
     "output_type": "stream",
     "text": [
      "C:\\Users\\82104\\anaconda3\\lib\\site-packages\\tqdm\\std.py:697: FutureWarning: The Panel class is removed from pandas. Accessing it from the top-level namespace will also be removed in the next version\n",
      "  from pandas import Panel\n"
     ]
    }
   ],
   "source": [
    "import os\n",
    "import random\n",
    "from tqdm.notebook import tqdm\n",
    "import numpy as np\n",
    "import pandas as pd\n",
    "import matplotlib.pyplot as plt\n",
    "from google_drive_downloader import GoogleDriveDownloader as gdd\n",
    "from sklearn.model_selection import train_test_split\n",
    "import copy\n",
    "import tensorflow as tf\n",
    "from tensorflow.keras import Input, Model, Sequential\n",
    "from tensorflow.keras.preprocessing import image_dataset_from_directory\n",
    "from tensorflow.keras.preprocessing.sequence import pad_sequences\n",
    "from tensorflow.keras.preprocessing.image import load_img, img_to_array, ImageDataGenerator\n",
    "from tensorflow.keras.layers import Input, Dense, Flatten, Dropout, Concatenate, Add, Dot, Multiply, Reshape, Activation, BatchNormalization, SimpleRNNCell, RNN, SimpleRNN, LSTM, Embedding, Bidirectional, TimeDistributed, Conv1D, Conv2D, MaxPool1D, MaxPool2D, GlobalMaxPool1D, GlobalMaxPool2D, AveragePooling1D, AveragePooling2D, GlobalAveragePooling1D, GlobalAveragePooling2D, ZeroPadding2D\n",
    "from tensorflow.keras.optimizers import SGD, Adam, Adagrad\n",
    "from tensorflow.keras.metrics import RootMeanSquaredError, BinaryCrossentropy, SparseCategoricalAccuracy\n",
    "from tensorflow.keras.layers.experimental.preprocessing import Rescaling\n",
    "from tensorflow.keras.callbacks import EarlyStopping, ModelCheckpoint\n",
    "from tensorflow.keras.activations import linear, sigmoid, relu\n",
    "\n",
    "tqdm.pandas()\n",
    "np.set_printoptions(precision=3)\n",
    "plt.style.use(\"dark_background\")"
   ]
  },
  {
   "cell_type": "code",
   "execution_count": 15,
   "metadata": {
    "ExecuteTime": {
     "end_time": "2022-01-16T04:32:41.824165Z",
     "start_time": "2022-01-16T04:32:41.768096Z"
    }
   },
   "outputs": [],
   "source": [
    "users = pd.read_csv(\"Datasets/MovieLens 100k/100k_users.csv\")\n",
    "movies = pd.read_csv(\"Datasets/MovieLens 100k/100k_movies.csv\")\n",
    "ratings = pd.read_csv(\"Datasets/MovieLens 100k/100k_ratings.csv\")"
   ]
  },
  {
   "cell_type": "markdown",
   "metadata": {},
   "source": [
    "# K-Core Pruning"
   ]
  },
  {
   "cell_type": "code",
   "execution_count": 3,
   "metadata": {
    "ExecuteTime": {
     "end_time": "2022-01-16T04:02:42.407875Z",
     "start_time": "2022-01-16T04:02:42.337405Z"
    }
   },
   "outputs": [
    {
     "name": "stdout",
     "output_type": "stream",
     "text": [
      "len(ratings): 99,991\n",
      "len(ratings): 99,023\n",
      "Finished!\n"
     ]
    }
   ],
   "source": [
    "thr = 5\n",
    "len_prev = -1\n",
    "len_next = -2\n",
    "while len_prev != len_next:\n",
    "    len_prev = len(ratings)\n",
    "    print(f\"len(ratings): {len(ratings):,}\")\n",
    "    \n",
    "    user_n_ratings = ratings[\"user_id\"].value_counts()\n",
    "    users_ = user_n_ratings[user_n_ratings>thr].index\n",
    "    \n",
    "    item_n_ratings = ratings[\"item_id\"].value_counts()\n",
    "    items_ = item_n_ratings[item_n_ratings>thr].index\n",
    "\n",
    "    ratings = ratings[(ratings[\"user_id\"].isin(users_)) & (ratings[\"item_id\"].isin(items_))]\n",
    "    len_next = len(ratings)\n",
    "print(\"Finished!\")"
   ]
  },
  {
   "cell_type": "markdown",
   "metadata": {},
   "source": [
    "# Spliting Dataset\n",
    "- 시간 순서대로 Dataset을 나누겠습니다."
   ]
  },
  {
   "cell_type": "code",
   "execution_count": 4,
   "metadata": {
    "ExecuteTime": {
     "end_time": "2022-01-16T04:02:43.778402Z",
     "start_time": "2022-01-16T04:02:42.412098Z"
    }
   },
   "outputs": [
    {
     "data": {
      "application/vnd.jupyter.widget-view+json": {
       "model_id": "f669fc0372f84a9da660a5ebbd800c83",
       "version_major": 2,
       "version_minor": 0
      },
      "text/plain": [
       "HBox(children=(HTML(value=''), FloatProgress(value=0.0, max=943.0), HTML(value='')))"
      ]
     },
     "metadata": {},
     "output_type": "display_data"
    },
    {
     "name": "stdout",
     "output_type": "stream",
     "text": [
      "\n",
      "len(ratings_tr): 88,681\n",
      "len(ratings_te): 10,342\n"
     ]
    }
   ],
   "source": [
    "ratings_tr = pd.DataFrame()\n",
    "ratings_te = pd.DataFrame()\n",
    "for _, group in tqdm(ratings.groupby([\"user_id\"])):\n",
    "    tr, te = train_test_split(group, test_size=0.1, shuffle=False)\n",
    "    ratings_tr = pd.concat([ratings_tr, tr], axis=0)\n",
    "    ratings_te = pd.concat([ratings_te, te], axis=0)\n",
    "\n",
    "print(f\"len(ratings_tr): {len(ratings_tr):,}\")\n",
    "print(f\"len(ratings_te): {len(ratings_te):,}\")"
   ]
  },
  {
   "cell_type": "code",
   "execution_count": 5,
   "metadata": {
    "ExecuteTime": {
     "end_time": "2022-01-16T04:02:48.804375Z",
     "start_time": "2022-01-16T04:02:43.781155Z"
    }
   },
   "outputs": [
    {
     "data": {
      "application/vnd.jupyter.widget-view+json": {
       "model_id": "e16b92539f4d4ebe865504d7924fbed3",
       "version_major": 2,
       "version_minor": 0
      },
      "text/plain": [
       "HBox(children=(HTML(value=''), FloatProgress(value=0.0, max=10342.0), HTML(value='')))"
      ]
     },
     "metadata": {},
     "output_type": "display_data"
    },
    {
     "name": "stdout",
     "output_type": "stream",
     "text": [
      "\n"
     ]
    }
   ],
   "source": [
    "movie_n_ratings = ratings.groupby([\"item_id\"]).size().sort_values(ascending=False)\n",
    "\n",
    "X_te = copy.deepcopy(ratings_te)\n",
    "y_te = ratings_te[[\"rating\"]]\n",
    "user_movies = ratings.groupby([\"user_id\"])[\"item_id\"].apply(frozenset)\n",
    "X_te[\"items\"] = X_te[\"user_id\"].apply(lambda x : user_movies[x])\n",
    "X_te = X_te.drop([\"rating\"], axis=1)\n",
    "\n",
    "# `item_id`: 본 영화 1개\n",
    "# `items_100`: 보지 않은 영화 100개\n",
    "X_te[\"items_100\"] = X_te.progress_apply(lambda x:random.choices(list(x[\"items\"] - {x[\"item_id\"]}), k=100, weights=movie_n_ratings[list(x[\"items\"] - {x[\"item_id\"]})]), axis=1)"
   ]
  },
  {
   "cell_type": "markdown",
   "metadata": {},
   "source": [
    "# Modeling"
   ]
  },
  {
   "cell_type": "code",
   "execution_count": 6,
   "metadata": {
    "ExecuteTime": {
     "end_time": "2022-01-16T04:02:48.922864Z",
     "start_time": "2022-01-16T04:02:48.804375Z"
    }
   },
   "outputs": [],
   "source": [
    "input_user = Input(shape=(), name=\"Input_user\")\n",
    "input_pos = Input(shape=(), name=\"Input_pos\")\n",
    "input_neg = Input(shape=(), name=\"Input_neg\")\n",
    "inputs = [input_user, input_pos, input_neg]\n",
    "\n",
    "n_users = ratings[\"user_id\"].max() + 1\n",
    "n_items = ratings[\"item_id\"].max() + 1\n",
    "dim = 30\n",
    "embedding_user = Embedding(input_dim=n_users, output_dim=dim + 1, name=\"Embedding_user\")\n",
    "embedding_item = Embedding(input_dim=n_items, output_dim=dim + 1, name=\"Embedding_item\")\n",
    "\n",
    "z1 = embedding_user(input_user)\n",
    "z2 = embedding_item(input_pos)\n",
    "z3 = embedding_item(input_neg)\n",
    "\n",
    "pos_score = Dot(axes=(1, 1))([z1, z2])\n",
    "neg_score = Dot(axes=(1, 1))([z1, z3])\n",
    "diff = pos_score - neg_score\n",
    "outputs = sigmoid(diff)\n",
    "\n",
    "model = Model(inputs=inputs, outputs=outputs)"
   ]
  },
  {
   "cell_type": "code",
   "execution_count": 7,
   "metadata": {
    "ExecuteTime": {
     "end_time": "2022-01-16T04:02:48.938659Z",
     "start_time": "2022-01-16T04:02:48.922864Z"
    }
   },
   "outputs": [],
   "source": [
    "#유저 임베딩에서 우리는 마지막 임베딩에 1을 추가해주어야 합니다. 아이템 임베딩의 마지막 원소값 Bias를 추가하기 위함입니다.바로 아래와 같은 방식으로 유저 임베딩과 아이템 임베딩이 형성됩니다.\n",
    "# Dot 연산으로 Bias 연산까지 같이 수행하기 위해 아래와 같이 코드를 작성하게 됩니다.\n",
    "# U=[u1,u2,u3,...,u60,1]I=[i1,i2,i3,...,i60,ibias]\n",
    "\n",
    "# z1 = embedding_user(input_user)\n",
    "# one_emb = tf.ones_like(user_emb[:, -1:])"
   ]
  },
  {
   "cell_type": "code",
   "execution_count": 8,
   "metadata": {
    "ExecuteTime": {
     "end_time": "2022-01-16T04:02:48.958521Z",
     "start_time": "2022-01-16T04:02:48.938659Z"
    }
   },
   "outputs": [],
   "source": [
    "# Matrix Factoriation은 쉽게 Overfitting, 즉 학습 데이터에만 과적합되는 현상이 발생합니다. 이를 방지하기 위해 가장 기본적인 방법론 중 하나는 Weight Decay, 즉 weight의 값이 너무 커지지 않도록 방지하는 것입니다. 이를 위해 아래와 같이 Loss를 추가해주게 되면, weight가 어느정도 줄어드는 방향으로 모델이 학습하게 됩니다.\n",
    "# l2_user = z1**2\n",
    "# l2_pos_item = z2**2\n",
    "# l2_neg_item = z3**2\n",
    "# l2_reg = 0.0001\n",
    "\n",
    "# weight_decay = l2_reg*tf.reduce_sum(l2_user + l2_pos_item + l2_neg_item)\n",
    "\n",
    "# model.add_loss(weight_decay)\n",
    "\n",
    "model.compile(optimizer=Adagrad(1), loss=\"binary_crossentropy\", metrics=[\"acc\"])"
   ]
  },
  {
   "cell_type": "code",
   "execution_count": 9,
   "metadata": {
    "ExecuteTime": {
     "end_time": "2022-01-16T04:02:49.059047Z",
     "start_time": "2022-01-16T04:02:48.962537Z"
    }
   },
   "outputs": [],
   "source": [
    "all_movies = set(ratings_tr[\"item_id\"])\n",
    "user_not_movies = all_movies - user_movies\n",
    "user_not_movies = user_not_movies.map(list)\n",
    "\n",
    "def get_bpr_dataset(ratings_tr, user_not_movies):\n",
    "    ratings_tr_batch = copy.deepcopy(ratings_tr)\n",
    "    ratings_tr_batch = ratings_tr_batch.sample(frac=1)\n",
    "    ratings_tr_batch[\"neg_item\"] = ratings_tr_batch.apply(lambda x : random.choice(user_not_movies[x[\"user_id\"]]), axis=1)\n",
    "    \n",
    "    x = [ratings_tr_batch[\"user_id\"].values, ratings_tr_batch[\"item_id\"].values, ratings_tr_batch[\"neg_item\"].values]\n",
    "    y = np.ones(shape=(len(ratings_tr_batch), 1))\n",
    "    \n",
    "    return x, y\n",
    "\n",
    "n_epochs = 10\n",
    "for i in range(1, n_epochs + 1):\n",
    "    print(f\"epoch: {i:>3d}\")\n",
    "    X, y = get_bpr_dataset(ratings_tr, user_not_movies)\n",
    "    model.fit(x=X, y=y, batch_size=64, verbose=2)"
   ]
  },
  {
   "cell_type": "code",
   "execution_count": 12,
   "metadata": {
    "ExecuteTime": {
     "end_time": "2022-01-16T04:16:01.125532Z",
     "start_time": "2022-01-16T04:16:01.109874Z"
    }
   },
   "outputs": [],
   "source": [
    "model = Model(inputs=inputs, outputs=outputs)"
   ]
  },
  {
   "cell_type": "code",
   "execution_count": 13,
   "metadata": {
    "ExecuteTime": {
     "end_time": "2022-01-16T04:28:33.624588Z",
     "start_time": "2022-01-16T04:28:33.569803Z"
    }
   },
   "outputs": [
    {
     "data": {
      "text/html": [
       "<div>\n",
       "<style scoped>\n",
       "    .dataframe tbody tr th:only-of-type {\n",
       "        vertical-align: middle;\n",
       "    }\n",
       "\n",
       "    .dataframe tbody tr th {\n",
       "        vertical-align: top;\n",
       "    }\n",
       "\n",
       "    .dataframe thead th {\n",
       "        text-align: right;\n",
       "    }\n",
       "</style>\n",
       "<table border=\"1\" class=\"dataframe\">\n",
       "  <thead>\n",
       "    <tr style=\"text-align: right;\">\n",
       "      <th></th>\n",
       "      <th>user_id</th>\n",
       "      <th>item_id</th>\n",
       "      <th>items</th>\n",
       "      <th>items_100</th>\n",
       "    </tr>\n",
       "  </thead>\n",
       "  <tbody>\n",
       "    <tr>\n",
       "      <th>77066</th>\n",
       "      <td>1</td>\n",
       "      <td>124</td>\n",
       "      <td>(1, 2, 3, 4, 5, 6, 7, 8, 9, 10, 11, 12, 13, 14...</td>\n",
       "      <td>[265, 73, 245, 62, 215, 196, 194, 193, 214, 22...</td>\n",
       "    </tr>\n",
       "    <tr>\n",
       "      <th>77231</th>\n",
       "      <td>1</td>\n",
       "      <td>95</td>\n",
       "      <td>(1, 2, 3, 4, 5, 6, 7, 8, 9, 10, 11, 12, 13, 14...</td>\n",
       "      <td>[228, 90, 98, 7, 179, 189, 195, 5, 204, 147, 9...</td>\n",
       "    </tr>\n",
       "    <tr>\n",
       "      <th>77623</th>\n",
       "      <td>1</td>\n",
       "      <td>217</td>\n",
       "      <td>(1, 2, 3, 4, 5, 6, 7, 8, 9, 10, 11, 12, 13, 14...</td>\n",
       "      <td>[180, 202, 262, 58, 91, 174, 22, 79, 174, 94, ...</td>\n",
       "    </tr>\n",
       "    <tr>\n",
       "      <th>78164</th>\n",
       "      <td>1</td>\n",
       "      <td>58</td>\n",
       "      <td>(1, 2, 3, 4, 5, 6, 7, 8, 9, 10, 11, 12, 13, 14...</td>\n",
       "      <td>[12, 79, 227, 199, 181, 181, 198, 169, 204, 15...</td>\n",
       "    </tr>\n",
       "    <tr>\n",
       "      <th>78688</th>\n",
       "      <td>1</td>\n",
       "      <td>142</td>\n",
       "      <td>(1, 2, 3, 4, 5, 6, 7, 8, 9, 10, 11, 12, 13, 14...</td>\n",
       "      <td>[240, 179, 152, 269, 47, 153, 228, 31, 154, 23...</td>\n",
       "    </tr>\n",
       "    <tr>\n",
       "      <th>...</th>\n",
       "      <td>...</td>\n",
       "      <td>...</td>\n",
       "      <td>...</td>\n",
       "      <td>...</td>\n",
       "    </tr>\n",
       "    <tr>\n",
       "      <th>99163</th>\n",
       "      <td>943</td>\n",
       "      <td>415</td>\n",
       "      <td>(2, 1028, 9, 11, 12, 526, 1044, 22, 23, 24, 10...</td>\n",
       "      <td>[42, 51, 117, 92, 173, 12, 219, 23, 423, 1047,...</td>\n",
       "    </tr>\n",
       "    <tr>\n",
       "      <th>99311</th>\n",
       "      <td>943</td>\n",
       "      <td>219</td>\n",
       "      <td>(2, 1028, 9, 11, 12, 526, 1044, 22, 23, 24, 10...</td>\n",
       "      <td>[228, 127, 181, 200, 419, 151, 943, 161, 1067,...</td>\n",
       "    </tr>\n",
       "    <tr>\n",
       "      <th>99603</th>\n",
       "      <td>943</td>\n",
       "      <td>796</td>\n",
       "      <td>(2, 1028, 9, 11, 12, 526, 1044, 22, 23, 24, 10...</td>\n",
       "      <td>[182, 69, 391, 50, 229, 92, 172, 471, 825, 367...</td>\n",
       "    </tr>\n",
       "    <tr>\n",
       "      <th>99823</th>\n",
       "      <td>943</td>\n",
       "      <td>739</td>\n",
       "      <td>(2, 1028, 9, 11, 12, 526, 1044, 22, 23, 24, 10...</td>\n",
       "      <td>[655, 181, 200, 526, 181, 625, 443, 217, 132, ...</td>\n",
       "    </tr>\n",
       "    <tr>\n",
       "      <th>99970</th>\n",
       "      <td>943</td>\n",
       "      <td>391</td>\n",
       "      <td>(2, 1028, 9, 11, 12, 526, 1044, 22, 23, 24, 10...</td>\n",
       "      <td>[62, 423, 195, 1028, 443, 427, 228, 655, 568, ...</td>\n",
       "    </tr>\n",
       "  </tbody>\n",
       "</table>\n",
       "<p>10342 rows × 4 columns</p>\n",
       "</div>"
      ],
      "text/plain": [
       "       user_id  item_id                                              items  \\\n",
       "77066        1      124  (1, 2, 3, 4, 5, 6, 7, 8, 9, 10, 11, 12, 13, 14...   \n",
       "77231        1       95  (1, 2, 3, 4, 5, 6, 7, 8, 9, 10, 11, 12, 13, 14...   \n",
       "77623        1      217  (1, 2, 3, 4, 5, 6, 7, 8, 9, 10, 11, 12, 13, 14...   \n",
       "78164        1       58  (1, 2, 3, 4, 5, 6, 7, 8, 9, 10, 11, 12, 13, 14...   \n",
       "78688        1      142  (1, 2, 3, 4, 5, 6, 7, 8, 9, 10, 11, 12, 13, 14...   \n",
       "...        ...      ...                                                ...   \n",
       "99163      943      415  (2, 1028, 9, 11, 12, 526, 1044, 22, 23, 24, 10...   \n",
       "99311      943      219  (2, 1028, 9, 11, 12, 526, 1044, 22, 23, 24, 10...   \n",
       "99603      943      796  (2, 1028, 9, 11, 12, 526, 1044, 22, 23, 24, 10...   \n",
       "99823      943      739  (2, 1028, 9, 11, 12, 526, 1044, 22, 23, 24, 10...   \n",
       "99970      943      391  (2, 1028, 9, 11, 12, 526, 1044, 22, 23, 24, 10...   \n",
       "\n",
       "                                               items_100  \n",
       "77066  [265, 73, 245, 62, 215, 196, 194, 193, 214, 22...  \n",
       "77231  [228, 90, 98, 7, 179, 189, 195, 5, 204, 147, 9...  \n",
       "77623  [180, 202, 262, 58, 91, 174, 22, 79, 174, 94, ...  \n",
       "78164  [12, 79, 227, 199, 181, 181, 198, 169, 204, 15...  \n",
       "78688  [240, 179, 152, 269, 47, 153, 228, 31, 154, 23...  \n",
       "...                                                  ...  \n",
       "99163  [42, 51, 117, 92, 173, 12, 219, 23, 423, 1047,...  \n",
       "99311  [228, 127, 181, 200, 419, 151, 943, 161, 1067,...  \n",
       "99603  [182, 69, 391, 50, 229, 92, 172, 471, 825, 367...  \n",
       "99823  [655, 181, 200, 526, 181, 625, 443, 217, 132, ...  \n",
       "99970  [62, 423, 195, 1028, 443, 427, 228, 655, 568, ...  \n",
       "\n",
       "[10342 rows x 4 columns]"
      ]
     },
     "execution_count": 13,
     "metadata": {},
     "output_type": "execute_result"
    }
   ],
   "source": [
    "X_te"
   ]
  },
  {
   "cell_type": "code",
   "execution_count": null,
   "metadata": {},
   "outputs": [],
   "source": []
  },
  {
   "cell_type": "code",
   "execution_count": null,
   "metadata": {},
   "outputs": [],
   "source": []
  },
  {
   "cell_type": "code",
   "execution_count": null,
   "metadata": {},
   "outputs": [],
   "source": [
    "model.predict"
   ]
  }
 ],
 "metadata": {
  "hide_input": false,
  "kernelspec": {
   "display_name": "Python 3",
   "language": "python",
   "name": "python3"
  },
  "language_info": {
   "codemirror_mode": {
    "name": "ipython",
    "version": 3
   },
   "file_extension": ".py",
   "mimetype": "text/x-python",
   "name": "python",
   "nbconvert_exporter": "python",
   "pygments_lexer": "ipython3",
   "version": "3.8.5"
  },
  "toc": {
   "base_numbering": 1,
   "nav_menu": {},
   "number_sections": true,
   "sideBar": true,
   "skip_h1_title": false,
   "title_cell": "Table of Contents",
   "title_sidebar": "Contents",
   "toc_cell": true,
   "toc_position": {},
   "toc_section_display": true,
   "toc_window_display": false
  },
  "varInspector": {
   "cols": {
    "lenName": 16,
    "lenType": 16,
    "lenVar": 40
   },
   "kernels_config": {
    "python": {
     "delete_cmd_postfix": "",
     "delete_cmd_prefix": "del ",
     "library": "var_list.py",
     "varRefreshCmd": "print(var_dic_list())"
    },
    "r": {
     "delete_cmd_postfix": ") ",
     "delete_cmd_prefix": "rm(",
     "library": "var_list.r",
     "varRefreshCmd": "cat(var_dic_list()) "
    }
   },
   "types_to_exclude": [
    "module",
    "function",
    "builtin_function_or_method",
    "instance",
    "_Feature"
   ],
   "window_display": false
  }
 },
 "nbformat": 4,
 "nbformat_minor": 4
}
