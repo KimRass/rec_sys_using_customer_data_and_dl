{
 "cells": [
  {
   "cell_type": "markdown",
   "metadata": {
    "toc": true
   },
   "source": [
    "<h1>Table of Contents<span class=\"tocSkip\"></span></h1>\n",
    "<div class=\"toc\"><ul class=\"toc-item\"><li><span><a href=\"#Spliting-Dataset\" data-toc-modified-id=\"Spliting-Dataset-1\"><span class=\"toc-item-num\">1&nbsp;&nbsp;</span>Spliting Dataset</a></span></li><li><span><a href=\"#Modeling\" data-toc-modified-id=\"Modeling-2\"><span class=\"toc-item-num\">2&nbsp;&nbsp;</span>Modeling</a></span></li><li><span><a href=\"#Predict\" data-toc-modified-id=\"Predict-3\"><span class=\"toc-item-num\">3&nbsp;&nbsp;</span>Predict</a></span></li><li><span><a href=\"#Recommendation\" data-toc-modified-id=\"Recommendation-4\"><span class=\"toc-item-num\">4&nbsp;&nbsp;</span>Recommendation</a></span></li></ul></div>"
   ]
  },
  {
   "cell_type": "code",
   "execution_count": 1,
   "metadata": {
    "ExecuteTime": {
     "end_time": "2022-01-16T06:06:20.636457Z",
     "start_time": "2022-01-16T06:06:14.372906Z"
    }
   },
   "outputs": [
    {
     "name": "stderr",
     "output_type": "stream",
     "text": [
      "C:\\Users\\82104\\anaconda3\\lib\\site-packages\\tqdm\\std.py:697: FutureWarning: The Panel class is removed from pandas. Accessing it from the top-level namespace will also be removed in the next version\n",
      "  from pandas import Panel\n"
     ]
    }
   ],
   "source": [
    "import os\n",
    "import random\n",
    "from tqdm.notebook import tqdm\n",
    "import numpy as np\n",
    "import pandas as pd\n",
    "import matplotlib.pyplot as plt\n",
    "from google_drive_downloader import GoogleDriveDownloader as gdd\n",
    "from sklearn.model_selection import train_test_split\n",
    "import copy\n",
    "import tensorflow as tf\n",
    "from tensorflow.keras import Input, Model, Sequential\n",
    "from tensorflow.keras.preprocessing import image_dataset_from_directory\n",
    "from tensorflow.keras.preprocessing.sequence import pad_sequences\n",
    "from tensorflow.keras.preprocessing.image import load_img, img_to_array, ImageDataGenerator\n",
    "from tensorflow.keras.layers import Input, Dense, Flatten, Dropout, Concatenate, Add, Dot, Multiply, Reshape, Activation, BatchNormalization, SimpleRNNCell, RNN, SimpleRNN, LSTM, Embedding, Bidirectional, TimeDistributed, Conv1D, Conv2D, MaxPool1D, MaxPool2D, GlobalMaxPool1D, GlobalMaxPool2D, AveragePooling1D, AveragePooling2D, GlobalAveragePooling1D, GlobalAveragePooling2D, ZeroPadding2D\n",
    "from tensorflow.keras.optimizers import SGD, Adam, Adagrad\n",
    "from tensorflow.keras.metrics import RootMeanSquaredError, BinaryCrossentropy, SparseCategoricalAccuracy\n",
    "from tensorflow.keras.layers.experimental.preprocessing import Rescaling\n",
    "from tensorflow.keras.callbacks import EarlyStopping, ModelCheckpoint\n",
    "from tensorflow.keras.activations import linear, sigmoid, relu\n",
    "\n",
    "tqdm.pandas()\n",
    "np.set_printoptions(precision=3)\n",
    "plt.style.use(\"dark_background\")"
   ]
  },
  {
   "cell_type": "code",
   "execution_count": 116,
   "metadata": {
    "ExecuteTime": {
     "end_time": "2022-01-16T08:21:58.934307Z",
     "start_time": "2022-01-16T08:21:51.985053Z"
    }
   },
   "outputs": [],
   "source": [
    "movies = pd.read_csv(\"./Datasets/MovieLens/movies.csv\", index_col=0)\n",
    "genres = pd.read_csv(\"./Datasets/MovieLens/genres.csv\", index_col=0)\n",
    "gdd.download_file_from_google_drive(file_id=\"15vsm-VWAC3Y-7jr7ROL_xy0ufkIfqSke\", dest_path=\"D:/ratings.csv\")\n",
    "ratings = pd.read_csv(\"D:/ratings.csv\")\n",
    "ratings = ratings.drop([\"Unnamed: 0\"], axis=1)\n",
    "\n",
    "ratings = ratings.drop([\"rated_at\"], axis=1)"
   ]
  },
  {
   "cell_type": "code",
   "execution_count": 42,
   "metadata": {
    "ExecuteTime": {
     "end_time": "2022-01-16T06:34:19.069675Z",
     "start_time": "2022-01-16T06:34:15.902045Z"
    }
   },
   "outputs": [
    {
     "name": "stdout",
     "output_type": "stream",
     "text": [
      "len(likes): 9,995,410\n",
      "len(likes_tar): 1,165,926\n",
      "11.7%\n"
     ]
    }
   ],
   "source": [
    "likes = ratings[(ratings[\"rating\"]>=4.0)]\n",
    "dislikes = ratings[(ratings[\"rating\"]<=2.0)]\n",
    "\n",
    "user_n_ratings = likes[\"user_id\"].value_counts()\n",
    "cumsum_user = user_n_ratings.cumsum()/len(likes)\n",
    "concat = pd.concat([user_n_ratings, cumsum_user], axis=1)\n",
    "concat.columns = [\"n_rating\", \"cumsum\"]\n",
    "# 평점을 `thr_user`개 이상 남긴 사용자가 전체 평점의 70%를 차지합니다.\n",
    "thr_user = concat[concat[\"cumsum\"]<0.4][\"n_rating\"].tolist()[-1]\n",
    "\n",
    "item_n_ratings = likes[\"movie_id\"].value_counts()\n",
    "cumsum_item = item_n_ratings.cumsum()/len(likes)\n",
    "concat = pd.concat([item_n_ratings, cumsum_item], axis=1)\n",
    "concat.columns = [\"n_rating\", \"cumsum\"]\n",
    "# 평점이 `thr_item`개 이상인 영화가 전체 평점의 70%를 차지합니다.\n",
    "thr_item = concat[concat[\"cumsum\"]<0.4][\"n_rating\"].tolist()[-1]\n",
    "\n",
    "likes_tar = likes[(likes[\"user_id\"].isin(user_n_ratings[user_n_ratings>=thr_user].index)) & (likes[\"movie_id\"].isin(item_n_ratings[item_n_ratings>=thr_item].index))]\n",
    "\n",
    "print(f\"len(likes): {len(likes):,}\")\n",
    "print(f\"len(likes_tar): {len(likes_tar):,}\")\n",
    "print(f\"{len(likes_tar)/len(likes):.1%}\")"
   ]
  },
  {
   "cell_type": "code",
   "execution_count": 43,
   "metadata": {
    "ExecuteTime": {
     "end_time": "2022-01-16T06:40:40.849867Z",
     "start_time": "2022-01-16T06:34:23.624385Z"
    }
   },
   "outputs": [
    {
     "data": {
      "application/vnd.jupyter.widget-view+json": {
       "model_id": "64aacfb80a6e4f3687240d10fc6d10f5",
       "version_major": 2,
       "version_minor": 0
      },
      "text/plain": [
       "HBox(children=(HTML(value=''), FloatProgress(value=0.0, max=126126.0), HTML(value='')))"
      ]
     },
     "metadata": {},
     "output_type": "display_data"
    },
    {
     "name": "stdout",
     "output_type": "stream",
     "text": [
      "\n"
     ]
    },
    {
     "data": {
      "application/vnd.jupyter.widget-view+json": {
       "model_id": "c817868f9680469db07b6fb370325cce",
       "version_major": 2,
       "version_minor": 0
      },
      "text/plain": [
       "HBox(children=(HTML(value=''), FloatProgress(value=0.0, max=1165926.0), HTML(value='')))"
      ]
     },
     "metadata": {},
     "output_type": "display_data"
    },
    {
     "name": "stdout",
     "output_type": "stream",
     "text": [
      "\n"
     ]
    },
    {
     "name": "stderr",
     "output_type": "stream",
     "text": [
      "<ipython-input-43-e557f06183e9>:6: SettingWithCopyWarning: \n",
      "A value is trying to be set on a copy of a slice from a DataFrame.\n",
      "Try using .loc[row_indexer,col_indexer] = value instead\n",
      "\n",
      "See the caveats in the documentation: https://pandas.pydata.org/pandas-docs/stable/user_guide/indexing.html#returning-a-view-versus-a-copy\n",
      "  likes_tar[\"neg_movie_id\"] = likes_tar[\"user_id\"].progress_apply(lambda x:random.choices(user_dislikes[x], k=1, weights=movie_n_ratings[user_dislikes[x]])[0] if x in user_dislikes else np.nan)\n"
     ]
    }
   ],
   "source": [
    "movie_n_ratings = ratings.groupby([\"movie_id\"]).size().sort_values(ascending=False)\n",
    "\n",
    "# user_movies = ratings.groupby([\"user_id\"])[\"movie_id\"].apply(frozenset)\n",
    "# X_te[\"items\"] = X_te[\"user_id\"].apply(lambda x:user_movies[x])\n",
    "user_dislikes = dislikes.groupby([\"user_id\"])[\"movie_id\"].progress_apply(list)\n",
    "likes_tar[\"neg_movie_id\"] = likes_tar[\"user_id\"].progress_apply(lambda x:int(random.choices(user_dislikes[x], k=1, weights=movie_n_ratings[user_dislikes[x]])[0]) if x in user_dislikes else np.nan)\n",
    "likes_tar = likes_tar[likes_tar[\"neg_movie_id\"].notna()]"
   ]
  },
  {
   "cell_type": "code",
   "execution_count": null,
   "metadata": {},
   "outputs": [],
   "source": [
    "# y_te = likes_tar_te[[\"rating\"]]\n",
    "\n",
    "# X_te = copy.deepcopy(likes_tar_te)\n",
    "# X_te = X_te.drop([\"rating\"], axis=1)\n",
    "\n",
    "\n",
    "# `movie_id`: 높은 평점을 준 영화 1개\n",
    "# `items_100`: 낮은 평점을 준 영화 100개\n",
    "# X_te[\"items_100\"] = X_te.progress_apply(lambda x:random.choices(list(x[\"items\"] - {x[\"movie_id\"]}), k=100, weights=movie_n_ratings[list(x[\"items\"] - {x[\"movie_id\"]})]), axis=1)"
   ]
  },
  {
   "cell_type": "markdown",
   "metadata": {},
   "source": [
    "# Spliting Dataset"
   ]
  },
  {
   "cell_type": "code",
   "execution_count": 49,
   "metadata": {
    "ExecuteTime": {
     "end_time": "2022-01-16T06:42:12.006212Z",
     "start_time": "2022-01-16T06:42:00.517836Z"
    }
   },
   "outputs": [
    {
     "data": {
      "application/vnd.jupyter.widget-view+json": {
       "model_id": "09754f29911246769903b584ef007645",
       "version_major": 2,
       "version_minor": 0
      },
      "text/plain": [
       "HBox(children=(HTML(value=''), FloatProgress(value=0.0, max=12461.0), HTML(value='')))"
      ]
     },
     "metadata": {},
     "output_type": "display_data"
    },
    {
     "name": "stdout",
     "output_type": "stream",
     "text": [
      "\n",
      "len(likes_tar_tr): 917,783\n",
      "len(likes_tar_te): 235,710\n"
     ]
    }
   ],
   "source": [
    "trs = list()\n",
    "tes = list()\n",
    "for _, group in likes_tar.groupby([\"user_id\"]):\n",
    "    # 최근에 평점을 남긴 영화가 Test data set에 포함되도록 합니다.\n",
    "    tr, te = train_test_split(group, test_size=0.2, shuffle=False)\n",
    "    trs.append(tr)\n",
    "    tes.append(te)\n",
    "likes_tar_tr = pd.concat(trs, axis=0)\n",
    "likes_tar_te = pd.concat(tes, axis=0)\n",
    "likes_tar_tr = likes_tar_tr.sample(frac=1)\n",
    "likes_tar_te = likes_tar_te.sample(frac=1)\n",
    "\n",
    "print(f\"len(likes_tar_tr): {len(likes_tar_tr):,}\")\n",
    "print(f\"len(likes_tar_te): {len(likes_tar_te):,}\")"
   ]
  },
  {
   "cell_type": "code",
   "execution_count": 23,
   "metadata": {
    "ExecuteTime": {
     "end_time": "2022-01-16T05:47:24.565344Z",
     "start_time": "2022-01-16T05:47:16.158838Z"
    }
   },
   "outputs": [],
   "source": [
    "# user_movies = ratings.groupby([\"user_id\"])[\"movie_id\"].apply(frozenset)\n",
    "# X_te[\"items\"] = X_te[\"user_id\"].apply(lambda x:user_movies[x])\n",
    "# user_dislikes = dislikes.groupby([\"user_id\"])[\"movie_id\"].apply(frozenset)\n",
    "# X_te[\"dislikes\"] = X_te[\"user_id\"].apply(lambda x:user_dislikes[x] if x in user_dislikes else np.nan)\n",
    "\n",
    "# y_te = likes_tar_te[[\"rating\"]]\n",
    "\n",
    "# X_te = copy.deepcopy(likes_tar_te)\n",
    "# X_te = X_te.drop([\"rating\"], axis=1)\n",
    "\n",
    "# movie_n_ratings = likes_tar.groupby([\"movie_id\"]).size().sort_values(ascending=False)\n",
    "\n",
    "# `movie_id`: 높은 평점을 준 영화 1개\n",
    "# `items_100`: 낮은 평점을 준 영화 100개\n",
    "# X_te[\"items_100\"] = X_te.progress_apply(lambda x:random.choices(list(x[\"items\"] - {x[\"movie_id\"]}), k=100, weights=movie_n_ratings[list(x[\"items\"] - {x[\"movie_id\"]})]), axis=1)"
   ]
  },
  {
   "cell_type": "markdown",
   "metadata": {},
   "source": [
    "# Modeling"
   ]
  },
  {
   "cell_type": "code",
   "execution_count": 58,
   "metadata": {
    "ExecuteTime": {
     "end_time": "2022-01-16T07:08:54.612691Z",
     "start_time": "2022-01-16T07:08:54.390790Z"
    }
   },
   "outputs": [],
   "source": [
    "input_user = Input(shape=(), name=\"Input_user\")\n",
    "input_pos = Input(shape=(), name=\"Input_pos\")\n",
    "input_neg = Input(shape=(), name=\"Input_neg\")\n",
    "inputs = [input_user, input_pos, input_neg]\n",
    "\n",
    "n_users = ratings[\"user_id\"].max() + 1\n",
    "n_items = ratings[\"movie_id\"].max() + 1\n",
    "dim = 64\n",
    "embedding_user = Embedding(input_dim=n_users, output_dim=dim, name=\"Embedding_user\")\n",
    "embedding_item = Embedding(input_dim=n_items, output_dim=dim, name=\"Embedding_item\")\n",
    "\n",
    "z1 = embedding_user(input_user)\n",
    "z2 = embedding_item(input_pos)\n",
    "z3 = embedding_item(input_neg)\n",
    "\n",
    "pos_score = Dot(axes=(1, 1))([z1, z2])\n",
    "neg_score = Dot(axes=(1, 1))([z1, z3])\n",
    "diff = pos_score - neg_score\n",
    "outputs = sigmoid(diff)\n",
    "\n",
    "model = Model(inputs=inputs, outputs=outputs)\n",
    "\n",
    "model.compile(optimizer=Adagrad(), loss=\"binary_crossentropy\", metrics=[\"binary_accuracy\"])\n",
    "\n",
    "X = [likes_tar_tr[\"user_id\"].values, likes_tar_tr[\"movie_id\"].values, likes_tar_tr[\"neg_movie_id\"].values]\n",
    "y = np.ones(shape=(len(likes_tar_tr), 1))\n",
    "\n",
    "es = EarlyStopping(monitor=\"val_loss\", mode=\"auto\", verbose=1, patience=2)\n",
    "model_path = \"./movielens_bpr_tf.h5\"\n",
    "mc = ModelCheckpoint(filepath=model_path, monitor=\"val_binary_accuracy\", mode=\"auto\", verbose=1, save_best_only=True)\n",
    "model.fit(x=X, y=y, validation_split=0.2, batch_size=128, epochs=32, verbose=2, callbacks=[es, mc])"
   ]
  },
  {
   "cell_type": "markdown",
   "metadata": {},
   "source": [
    "# Predict"
   ]
  },
  {
   "cell_type": "code",
   "execution_count": 93,
   "metadata": {
    "ExecuteTime": {
     "end_time": "2022-01-16T07:37:35.050371Z",
     "start_time": "2022-01-16T07:37:35.036411Z"
    }
   },
   "outputs": [],
   "source": [
    "model_test = Model(inputs=[input_user, input_pos], outputs=pos_score)"
   ]
  },
  {
   "cell_type": "code",
   "execution_count": 95,
   "metadata": {
    "ExecuteTime": {
     "end_time": "2022-01-16T07:38:06.970386Z",
     "start_time": "2022-01-16T07:38:06.954281Z"
    }
   },
   "outputs": [
    {
     "data": {
      "text/html": [
       "<div>\n",
       "<style scoped>\n",
       "    .dataframe tbody tr th:only-of-type {\n",
       "        vertical-align: middle;\n",
       "    }\n",
       "\n",
       "    .dataframe tbody tr th {\n",
       "        vertical-align: top;\n",
       "    }\n",
       "\n",
       "    .dataframe thead th {\n",
       "        text-align: right;\n",
       "    }\n",
       "</style>\n",
       "<table border=\"1\" class=\"dataframe\">\n",
       "  <thead>\n",
       "    <tr style=\"text-align: right;\">\n",
       "      <th></th>\n",
       "      <th>user_id</th>\n",
       "      <th>movie_id</th>\n",
       "      <th>rating</th>\n",
       "      <th>neg_movie_id</th>\n",
       "    </tr>\n",
       "  </thead>\n",
       "  <tbody>\n",
       "    <tr>\n",
       "      <th>15055150</th>\n",
       "      <td>103973</td>\n",
       "      <td>7438</td>\n",
       "      <td>4.5</td>\n",
       "      <td>434</td>\n",
       "    </tr>\n",
       "    <tr>\n",
       "      <th>5046580</th>\n",
       "      <td>34632</td>\n",
       "      <td>4995</td>\n",
       "      <td>5.0</td>\n",
       "      <td>1127</td>\n",
       "    </tr>\n",
       "    <tr>\n",
       "      <th>17471603</th>\n",
       "      <td>120842</td>\n",
       "      <td>6874</td>\n",
       "      <td>5.0</td>\n",
       "      <td>76251</td>\n",
       "    </tr>\n",
       "    <tr>\n",
       "      <th>2644634</th>\n",
       "      <td>17961</td>\n",
       "      <td>8961</td>\n",
       "      <td>4.0</td>\n",
       "      <td>6957</td>\n",
       "    </tr>\n",
       "    <tr>\n",
       "      <th>16507849</th>\n",
       "      <td>114204</td>\n",
       "      <td>2804</td>\n",
       "      <td>5.0</td>\n",
       "      <td>10</td>\n",
       "    </tr>\n",
       "  </tbody>\n",
       "</table>\n",
       "</div>"
      ],
      "text/plain": [
       "          user_id  movie_id  rating  neg_movie_id\n",
       "15055150   103973      7438     4.5           434\n",
       "5046580     34632      4995     5.0          1127\n",
       "17471603   120842      6874     5.0         76251\n",
       "2644634     17961      8961     4.0          6957\n",
       "16507849   114204      2804     5.0            10"
      ]
     },
     "execution_count": 95,
     "metadata": {},
     "output_type": "execute_result"
    }
   ],
   "source": [
    "likes_tar_te.head()"
   ]
  },
  {
   "cell_type": "code",
   "execution_count": null,
   "metadata": {},
   "outputs": [],
   "source": [
    "for name, row in likes_tar_te.iterrows():\n",
    "    input_user = np.array([row[\"user_id\"]])\n",
    "    input_pos = np.array([row[\"movie_id\"]])\n",
    "    pos_score = model_test.predict([input_user, input_pos])[0][0]\n",
    "    \n",
    "    input_neg = np.array([row[\"neg_movie_id\"]])\n",
    "    neg_score = model_test.predict([input_user, input_neg])[0][0]"
   ]
  },
  {
   "cell_type": "markdown",
   "metadata": {},
   "source": [
    "# Recommendation"
   ]
  },
  {
   "cell_type": "code",
   "execution_count": 130,
   "metadata": {
    "ExecuteTime": {
     "end_time": "2022-01-16T08:29:38.085591Z",
     "start_time": "2022-01-16T08:29:36.121353Z"
    }
   },
   "outputs": [],
   "source": [
    "item_embs = pd.DataFrame(model.get_layer(\"Embedding_item\").get_weights()[0])\n",
    "item_embs = item_embs[item_embs.index.isin(movies[\"id\"])]\n",
    "id2title = {row[\"id\"]:row[\"title\"] for name, row in movies.iterrows()}\n",
    "item_embs.index = item_embs.apply(lambda x:id2title[x.name], axis=1)"
   ]
  },
  {
   "cell_type": "code",
   "execution_count": 177,
   "metadata": {
    "ExecuteTime": {
     "end_time": "2022-01-16T09:01:14.699460Z",
     "start_time": "2022-01-16T09:01:14.655519Z"
    }
   },
   "outputs": [
    {
     "data": {
      "text/html": [
       "<div>\n",
       "<style scoped>\n",
       "    .dataframe tbody tr th:only-of-type {\n",
       "        vertical-align: middle;\n",
       "    }\n",
       "\n",
       "    .dataframe tbody tr th {\n",
       "        vertical-align: top;\n",
       "    }\n",
       "\n",
       "    .dataframe thead th {\n",
       "        text-align: right;\n",
       "    }\n",
       "</style>\n",
       "<table border=\"1\" class=\"dataframe\">\n",
       "  <thead>\n",
       "    <tr style=\"text-align: right;\">\n",
       "      <th></th>\n",
       "      <th>id</th>\n",
       "      <th>title</th>\n",
       "      <th>release_year</th>\n",
       "    </tr>\n",
       "  </thead>\n",
       "  <tbody>\n",
       "    <tr>\n",
       "      <th>4790</th>\n",
       "      <td>4886</td>\n",
       "      <td>Monsters, Inc.</td>\n",
       "      <td>2001</td>\n",
       "    </tr>\n",
       "  </tbody>\n",
       "</table>\n",
       "</div>"
      ],
      "text/plain": [
       "        id           title  release_year\n",
       "4790  4886  Monsters, Inc.          2001"
      ]
     },
     "execution_count": 177,
     "metadata": {},
     "output_type": "execute_result"
    }
   ],
   "source": [
    "movies[movies[\"title\"].str.contains(\"Monsters,\")]"
   ]
  },
  {
   "cell_type": "code",
   "execution_count": 179,
   "metadata": {
    "ExecuteTime": {
     "end_time": "2022-01-16T09:01:31.576476Z",
     "start_time": "2022-01-16T09:01:31.550493Z"
    }
   },
   "outputs": [
    {
     "data": {
      "text/plain": [
       "Raiders of the Lost Ark (Indiana Jones and the Raiders of the Lost Ark)    1.951831\n",
       "Star Wars: Episode V - The Empire Strikes Back                             1.853958\n",
       "Shawshank Redemption, The                                                  1.842067\n",
       "Star Wars: Episode IV - A New Hope                                         1.756639\n",
       "Usual Suspects, The                                                        1.735136\n",
       "Godfather, The                                                             1.730903\n",
       "Back to the Future                                                         1.722280\n",
       "One Flew Over the Cuckoo's Nest                                            1.667557\n",
       "Silence of the Lambs, The                                                  1.652493\n",
       "Goodfellas                                                                 1.643711\n",
       "dtype: float32"
      ]
     },
     "execution_count": 179,
     "metadata": {},
     "output_type": "execute_result"
    }
   ],
   "source": [
    "# tar = \"Star Wars: Episode V - The Empire Strikes Back\"\n",
    "tar = \"Monsters, Inc.\"\n",
    "tar_vec = item_embs.loc[tar]\n",
    "rank = item_embs.dot(tar_vec).sort_values(ascending=False)[:10]\n",
    "\n",
    "rank"
   ]
  }
 ],
 "metadata": {
  "hide_input": false,
  "kernelspec": {
   "display_name": "Python 3",
   "language": "python",
   "name": "python3"
  },
  "language_info": {
   "codemirror_mode": {
    "name": "ipython",
    "version": 3
   },
   "file_extension": ".py",
   "mimetype": "text/x-python",
   "name": "python",
   "nbconvert_exporter": "python",
   "pygments_lexer": "ipython3",
   "version": "3.8.5"
  },
  "toc": {
   "base_numbering": 1,
   "nav_menu": {},
   "number_sections": true,
   "sideBar": true,
   "skip_h1_title": false,
   "title_cell": "Table of Contents",
   "title_sidebar": "Contents",
   "toc_cell": true,
   "toc_position": {},
   "toc_section_display": true,
   "toc_window_display": false
  },
  "varInspector": {
   "cols": {
    "lenName": 16,
    "lenType": 16,
    "lenVar": 40
   },
   "kernels_config": {
    "python": {
     "delete_cmd_postfix": "",
     "delete_cmd_prefix": "del ",
     "library": "var_list.py",
     "varRefreshCmd": "print(var_dic_list())"
    },
    "r": {
     "delete_cmd_postfix": ") ",
     "delete_cmd_prefix": "rm(",
     "library": "var_list.r",
     "varRefreshCmd": "cat(var_dic_list()) "
    }
   },
   "types_to_exclude": [
    "module",
    "function",
    "builtin_function_or_method",
    "instance",
    "_Feature"
   ],
   "window_display": false
  }
 },
 "nbformat": 4,
 "nbformat_minor": 4
}
