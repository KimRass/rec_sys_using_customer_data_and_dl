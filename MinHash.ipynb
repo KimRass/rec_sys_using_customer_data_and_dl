{
 "cells": [
  {
   "cell_type": "markdown",
   "metadata": {},
   "source": [
    "분산 환경인 하둡이나 스파크를 쓰지 않고도, 노트북 수준으로도 충분히  대용량의 추천 엔진을 디자인할 수 있음을 보여주는 예제 프로젝트입니다. \n",
    "\n",
    "### _Objective_ \n",
    "* 실제 추천 서버로 동작하기 위해서는 대규모의 요청에서도 빠르게 응답할 수 있어야 합니다.\n",
    "* 이를 위해서 `MinHash` 알고리즘과 `Redis` 캐시 서버를 이용한 방법론을 살펴보도록 하겠습니다."
   ]
  },
  {
   "cell_type": "code",
   "execution_count": 1,
   "metadata": {},
   "outputs": [
    {
     "name": "stderr",
     "output_type": "stream",
     "text": [
      "C:\\Users\\5CG7092POZ\\Anaconda3\\envs\\tf2.0\\lib\\site-packages\\tqdm\\std.py:668: FutureWarning: The Panel class is removed from pandas. Accessing it from the top-level namespace will also be removed in the next version\n",
      "  from pandas import Panel\n"
     ]
    }
   ],
   "source": [
    "import os\n",
    "import numpy as np\n",
    "import pandas as pd\n",
    "from tqdm import tqdm\n",
    "import tensorflow as tf\n",
    "from google_drive_downloader import GoogleDriveDownloader as gdd\n",
    "\n",
    "tqdm.pandas()"
   ]
  },
  {
   "cell_type": "code",
   "execution_count": 2,
   "metadata": {},
   "outputs": [
    {
     "name": "stderr",
     "output_type": "stream",
     "text": [
      "C:\\Users\\5CG7092POZ\\Anaconda3\\envs\\tf2.0\\lib\\site-packages\\numpy\\lib\\arraysetops.py:580: FutureWarning: elementwise comparison failed; returning scalar instead, but in the future will perform elementwise comparison\n",
      "  mask |= (ar1 == a)\n"
     ]
    }
   ],
   "source": [
    "gdd.download_file_from_google_drive(file_id=\"1uPjBuhv96mJP9oFi-KNyVzNkSlS7U2xY\", dest_path=\"./movies.csv\")\n",
    "movies_df = pd.read_csv(\"movies.csv\", index_col=0)\n",
    "\n",
    "gdd.download_file_from_google_drive(file_id=\"1hik_RSV0e5r_P3iYe4sK8B-eNWxmIWOa\", dest_path=\"./genres.csv\")\n",
    "genres_df = pd.read_csv(\"genres.csv\", index_col=0)\n",
    "\n",
    "gdd.download_file_from_google_drive(file_id=\"15vsm-VWAC3Y-7jr7ROL_xy0ufkIfqSke\", dest_path=\"./ratings.csv\")\n",
    "ratings_df = pd.read_csv(\"ratings.csv\", index_col=0)"
   ]
  },
  {
   "cell_type": "code",
   "execution_count": 3,
   "metadata": {},
   "outputs": [
    {
     "data": {
      "text/html": [
       "<div>\n",
       "<style scoped>\n",
       "    .dataframe tbody tr th:only-of-type {\n",
       "        vertical-align: middle;\n",
       "    }\n",
       "\n",
       "    .dataframe tbody tr th {\n",
       "        vertical-align: top;\n",
       "    }\n",
       "\n",
       "    .dataframe thead th {\n",
       "        text-align: right;\n",
       "    }\n",
       "</style>\n",
       "<table border=\"1\" class=\"dataframe\">\n",
       "  <thead>\n",
       "    <tr style=\"text-align: right;\">\n",
       "      <th></th>\n",
       "      <th>user_id</th>\n",
       "      <th>movie_id</th>\n",
       "      <th>rating</th>\n",
       "      <th>rated_at</th>\n",
       "    </tr>\n",
       "  </thead>\n",
       "  <tbody>\n",
       "    <tr>\n",
       "      <th>0</th>\n",
       "      <td>1</td>\n",
       "      <td>2</td>\n",
       "      <td>3.5</td>\n",
       "      <td>1112486027</td>\n",
       "    </tr>\n",
       "    <tr>\n",
       "      <th>1</th>\n",
       "      <td>1</td>\n",
       "      <td>29</td>\n",
       "      <td>3.5</td>\n",
       "      <td>1112484676</td>\n",
       "    </tr>\n",
       "    <tr>\n",
       "      <th>2</th>\n",
       "      <td>1</td>\n",
       "      <td>32</td>\n",
       "      <td>3.5</td>\n",
       "      <td>1112484819</td>\n",
       "    </tr>\n",
       "    <tr>\n",
       "      <th>3</th>\n",
       "      <td>1</td>\n",
       "      <td>47</td>\n",
       "      <td>3.5</td>\n",
       "      <td>1112484727</td>\n",
       "    </tr>\n",
       "    <tr>\n",
       "      <th>4</th>\n",
       "      <td>1</td>\n",
       "      <td>50</td>\n",
       "      <td>3.5</td>\n",
       "      <td>1112484580</td>\n",
       "    </tr>\n",
       "    <tr>\n",
       "      <th>...</th>\n",
       "      <td>...</td>\n",
       "      <td>...</td>\n",
       "      <td>...</td>\n",
       "      <td>...</td>\n",
       "    </tr>\n",
       "    <tr>\n",
       "      <th>20000258</th>\n",
       "      <td>138493</td>\n",
       "      <td>68954</td>\n",
       "      <td>4.5</td>\n",
       "      <td>1258126920</td>\n",
       "    </tr>\n",
       "    <tr>\n",
       "      <th>20000259</th>\n",
       "      <td>138493</td>\n",
       "      <td>69526</td>\n",
       "      <td>4.5</td>\n",
       "      <td>1259865108</td>\n",
       "    </tr>\n",
       "    <tr>\n",
       "      <th>20000260</th>\n",
       "      <td>138493</td>\n",
       "      <td>69644</td>\n",
       "      <td>3.0</td>\n",
       "      <td>1260209457</td>\n",
       "    </tr>\n",
       "    <tr>\n",
       "      <th>20000261</th>\n",
       "      <td>138493</td>\n",
       "      <td>70286</td>\n",
       "      <td>5.0</td>\n",
       "      <td>1258126944</td>\n",
       "    </tr>\n",
       "    <tr>\n",
       "      <th>20000262</th>\n",
       "      <td>138493</td>\n",
       "      <td>71619</td>\n",
       "      <td>2.5</td>\n",
       "      <td>1255811136</td>\n",
       "    </tr>\n",
       "  </tbody>\n",
       "</table>\n",
       "<p>20000263 rows × 4 columns</p>\n",
       "</div>"
      ],
      "text/plain": [
       "          user_id  movie_id  rating    rated_at\n",
       "0               1         2     3.5  1112486027\n",
       "1               1        29     3.5  1112484676\n",
       "2               1        32     3.5  1112484819\n",
       "3               1        47     3.5  1112484727\n",
       "4               1        50     3.5  1112484580\n",
       "...           ...       ...     ...         ...\n",
       "20000258   138493     68954     4.5  1258126920\n",
       "20000259   138493     69526     4.5  1259865108\n",
       "20000260   138493     69644     3.0  1260209457\n",
       "20000261   138493     70286     5.0  1258126944\n",
       "20000262   138493     71619     2.5  1255811136\n",
       "\n",
       "[20000263 rows x 4 columns]"
      ]
     },
     "execution_count": 3,
     "metadata": {},
     "output_type": "execute_result"
    }
   ],
   "source": [
    "ratings_df"
   ]
  },
  {
   "cell_type": "code",
   "execution_count": 4,
   "metadata": {},
   "outputs": [],
   "source": [
    "#data type을 변경하여 메모리를 최대한 줄입니다.\n",
    "ratings_df[\"rating\"] = (ratings_df[\"rating\"]*2).astype(np.uint8)\n",
    "ratings_df[\"movie_id\"] = ratings_df[\"movie_id\"].astype(np.uint32)\n",
    "ratings_df[\"user_id\"] = ratings_df[\"user_id\"].astype(np.uint32)\n",
    "\n",
    "#필요 없는 column을 제거합니다.\n",
    "ratings_df = ratings_df.drop(columns=\"rated_at\")"
   ]
  },
  {
   "cell_type": "code",
   "execution_count": 5,
   "metadata": {},
   "outputs": [
    {
     "data": {
      "text/html": [
       "<div>\n",
       "<style scoped>\n",
       "    .dataframe tbody tr th:only-of-type {\n",
       "        vertical-align: middle;\n",
       "    }\n",
       "\n",
       "    .dataframe tbody tr th {\n",
       "        vertical-align: top;\n",
       "    }\n",
       "\n",
       "    .dataframe thead th {\n",
       "        text-align: right;\n",
       "    }\n",
       "</style>\n",
       "<table border=\"1\" class=\"dataframe\">\n",
       "  <thead>\n",
       "    <tr style=\"text-align: right;\">\n",
       "      <th></th>\n",
       "      <th>user_id</th>\n",
       "      <th>movie_id</th>\n",
       "      <th>rating</th>\n",
       "    </tr>\n",
       "  </thead>\n",
       "  <tbody>\n",
       "    <tr>\n",
       "      <th>0</th>\n",
       "      <td>1</td>\n",
       "      <td>2</td>\n",
       "      <td>7</td>\n",
       "    </tr>\n",
       "    <tr>\n",
       "      <th>1</th>\n",
       "      <td>1</td>\n",
       "      <td>29</td>\n",
       "      <td>7</td>\n",
       "    </tr>\n",
       "    <tr>\n",
       "      <th>2</th>\n",
       "      <td>1</td>\n",
       "      <td>32</td>\n",
       "      <td>7</td>\n",
       "    </tr>\n",
       "    <tr>\n",
       "      <th>3</th>\n",
       "      <td>1</td>\n",
       "      <td>47</td>\n",
       "      <td>7</td>\n",
       "    </tr>\n",
       "    <tr>\n",
       "      <th>4</th>\n",
       "      <td>1</td>\n",
       "      <td>50</td>\n",
       "      <td>7</td>\n",
       "    </tr>\n",
       "    <tr>\n",
       "      <th>...</th>\n",
       "      <td>...</td>\n",
       "      <td>...</td>\n",
       "      <td>...</td>\n",
       "    </tr>\n",
       "    <tr>\n",
       "      <th>20000258</th>\n",
       "      <td>138493</td>\n",
       "      <td>68954</td>\n",
       "      <td>9</td>\n",
       "    </tr>\n",
       "    <tr>\n",
       "      <th>20000259</th>\n",
       "      <td>138493</td>\n",
       "      <td>69526</td>\n",
       "      <td>9</td>\n",
       "    </tr>\n",
       "    <tr>\n",
       "      <th>20000260</th>\n",
       "      <td>138493</td>\n",
       "      <td>69644</td>\n",
       "      <td>6</td>\n",
       "    </tr>\n",
       "    <tr>\n",
       "      <th>20000261</th>\n",
       "      <td>138493</td>\n",
       "      <td>70286</td>\n",
       "      <td>10</td>\n",
       "    </tr>\n",
       "    <tr>\n",
       "      <th>20000262</th>\n",
       "      <td>138493</td>\n",
       "      <td>71619</td>\n",
       "      <td>5</td>\n",
       "    </tr>\n",
       "  </tbody>\n",
       "</table>\n",
       "<p>20000263 rows × 3 columns</p>\n",
       "</div>"
      ],
      "text/plain": [
       "          user_id  movie_id  rating\n",
       "0               1         2       7\n",
       "1               1        29       7\n",
       "2               1        32       7\n",
       "3               1        47       7\n",
       "4               1        50       7\n",
       "...           ...       ...     ...\n",
       "20000258   138493     68954       9\n",
       "20000259   138493     69526       9\n",
       "20000260   138493     69644       6\n",
       "20000261   138493     70286      10\n",
       "20000262   138493     71619       5\n",
       "\n",
       "[20000263 rows x 3 columns]"
      ]
     },
     "execution_count": 5,
     "metadata": {},
     "output_type": "execute_result"
    }
   ],
   "source": [
    "ratings_df"
   ]
  },
  {
   "cell_type": "markdown",
   "metadata": {},
   "source": [
    "### (2) 데이터 샘플링하기\n",
    "\n",
    "빠른 실습을 위해 영화 중 Top 1000개에 해당하는 영화만 가져와 보도록 하겠습니다."
   ]
  },
  {
   "cell_type": "code",
   "execution_count": 6,
   "metadata": {},
   "outputs": [],
   "source": [
    "n_ratings_top1000 = ratings_df[\"movie_id\"].value_counts()[:1000].index\n",
    "\n",
    "ratings_df_top1000 = ratings_df[ratings_df[\"movie_id\"].isin(n_ratings_top1000)]"
   ]
  },
  {
   "cell_type": "code",
   "execution_count": 7,
   "metadata": {},
   "outputs": [
    {
     "data": {
      "text/html": [
       "<div>\n",
       "<style scoped>\n",
       "    .dataframe tbody tr th:only-of-type {\n",
       "        vertical-align: middle;\n",
       "    }\n",
       "\n",
       "    .dataframe tbody tr th {\n",
       "        vertical-align: top;\n",
       "    }\n",
       "\n",
       "    .dataframe thead th {\n",
       "        text-align: right;\n",
       "    }\n",
       "</style>\n",
       "<table border=\"1\" class=\"dataframe\">\n",
       "  <thead>\n",
       "    <tr style=\"text-align: right;\">\n",
       "      <th></th>\n",
       "      <th>user_id</th>\n",
       "      <th>movie_id</th>\n",
       "      <th>rating</th>\n",
       "    </tr>\n",
       "  </thead>\n",
       "  <tbody>\n",
       "    <tr>\n",
       "      <th>0</th>\n",
       "      <td>1</td>\n",
       "      <td>2</td>\n",
       "      <td>7</td>\n",
       "    </tr>\n",
       "    <tr>\n",
       "      <th>1</th>\n",
       "      <td>1</td>\n",
       "      <td>29</td>\n",
       "      <td>7</td>\n",
       "    </tr>\n",
       "    <tr>\n",
       "      <th>2</th>\n",
       "      <td>1</td>\n",
       "      <td>32</td>\n",
       "      <td>7</td>\n",
       "    </tr>\n",
       "    <tr>\n",
       "      <th>3</th>\n",
       "      <td>1</td>\n",
       "      <td>47</td>\n",
       "      <td>7</td>\n",
       "    </tr>\n",
       "    <tr>\n",
       "      <th>4</th>\n",
       "      <td>1</td>\n",
       "      <td>50</td>\n",
       "      <td>7</td>\n",
       "    </tr>\n",
       "    <tr>\n",
       "      <th>...</th>\n",
       "      <td>...</td>\n",
       "      <td>...</td>\n",
       "      <td>...</td>\n",
       "    </tr>\n",
       "    <tr>\n",
       "      <th>20000243</th>\n",
       "      <td>138493</td>\n",
       "      <td>53996</td>\n",
       "      <td>9</td>\n",
       "    </tr>\n",
       "    <tr>\n",
       "      <th>20000249</th>\n",
       "      <td>138493</td>\n",
       "      <td>59315</td>\n",
       "      <td>8</td>\n",
       "    </tr>\n",
       "    <tr>\n",
       "      <th>20000252</th>\n",
       "      <td>138493</td>\n",
       "      <td>60069</td>\n",
       "      <td>8</td>\n",
       "    </tr>\n",
       "    <tr>\n",
       "      <th>20000258</th>\n",
       "      <td>138493</td>\n",
       "      <td>68954</td>\n",
       "      <td>9</td>\n",
       "    </tr>\n",
       "    <tr>\n",
       "      <th>20000261</th>\n",
       "      <td>138493</td>\n",
       "      <td>70286</td>\n",
       "      <td>10</td>\n",
       "    </tr>\n",
       "  </tbody>\n",
       "</table>\n",
       "<p>12840344 rows × 3 columns</p>\n",
       "</div>"
      ],
      "text/plain": [
       "          user_id  movie_id  rating\n",
       "0               1         2       7\n",
       "1               1        29       7\n",
       "2               1        32       7\n",
       "3               1        47       7\n",
       "4               1        50       7\n",
       "...           ...       ...     ...\n",
       "20000243   138493     53996       9\n",
       "20000249   138493     59315       8\n",
       "20000252   138493     60069       8\n",
       "20000258   138493     68954       9\n",
       "20000261   138493     70286      10\n",
       "\n",
       "[12840344 rows x 3 columns]"
      ]
     },
     "execution_count": 7,
     "metadata": {},
     "output_type": "execute_result"
    }
   ],
   "source": [
    "ratings_df_top1000"
   ]
  },
  {
   "cell_type": "markdown",
   "metadata": {},
   "source": [
    "- 현업에서 요구되는 응답 시간은 보통 300ms 이내를 목표로 합니다. 이것보다 늦을 경우, 웹페이지가 느리다고 느끼기 때문에 고객에게 나쁜 서비스 경험을 제공할 수 있습니다.\n",
    "- 그래서 추천 시스템을 디자인할 때에는 \"얼마나 단시간 내에\", \"얼마나 많은\" 요청을 처리할 수 있는가가 핵심 이슈가 됩니다."
   ]
  },
  {
   "cell_type": "markdown",
   "metadata": {},
   "source": [
    "### 1. 연산량이 지나치게 많음\n",
    "- 이때까지 디자인한 협업 필터링은 전체 아이템 간의 유사도를 동시에 계산합니다. 아이템 수가 10배가 늘어나면, 유사도 연산은 100배가 늘어나게 됩니다.\n",
    "- 100만개만 되더라도 이 경우 기존방식대로 전체 Item Similiarity Matrix을 구하게 되면, 931GB로 일반적인 컴퓨터의 램으로는 계산이 어려운 수준이고 이 규모가 되면 그 때부터 Hadoop과 같은 분산처리에서 다루어야 합니다.\n",
    "\n",
    "### 2. 실시간으로 반영이 어려움\n",
    "- 그리고 위와 같은 수준의 연산량은 매번 계산하기가 어렵습니다. 그렇기 때문에 보통 주기적으로 하루 단위 혹은 1시간 단위 등 연산을 진행하고, Item Similarity Matrix을 업데이트 하는 방식으로 진행합니다. 뉴스 피드 추천과 같은 컨텐츠 추천에서는 실시간성이 매우 핵심인데, 실시간으로 추천이 갱신되지 못하는 기존의 방식은 추천 시스템으로 적용하기 어렵습니다."
   ]
  },
  {
   "cell_type": "markdown",
   "metadata": {},
   "source": [
    "## 1. 유사도의 기준 : Jaccard 유사도\n",
    "\n",
    "Jaccard 유사도는 두 집합 간의 유사도를 계산하는 방식입니다.\n",
    "\n",
    "$$\n",
    "jac\\_sim(A,B) = \\frac{len(A \\& B)}{len(A | B)}\n",
    "$$\n",
    "\n",
    "두 집합이 얼마나 겹쳤냐를 계산하는 유사도로, 이전에 배운 Cosine 유사도나 유클리드 유사도와 달리 Boolean 데이터(구매 유무, 시청 유무, 클릭 유무)에 대한 유사도를 계산할 때 쓰입니다."
   ]
  },
  {
   "cell_type": "markdown",
   "metadata": {},
   "source": [
    "## 2. 독특한 성질의 Hash, MinHash\n",
    "\n",
    "MinHash의 특성을 위주로 살펴보도록 하겠습니다. Minhash의 개념에 대한 설명은 아래 Reference를 참조해주시길 바랍니다.\n",
    "\n",
    "reference : [쉽게 설명한 MinHash  알고리즘](http://blog.haandol.com/2019/05/25/minhash-algorithm-explained.html)"
   ]
  },
  {
   "cell_type": "markdown",
   "metadata": {},
   "source": [
    "### (1) 집합을 Hash하는 알고리즘 \n",
    "\n",
    "Minhash는 기본적으로 집합을 Hash하는 알고리즘입니다. Minhash는 집합을 복수개의 Hash Values, 즉 Signature로 표현합니다."
   ]
  },
  {
   "cell_type": "code",
   "execution_count": 290,
   "metadata": {},
   "outputs": [
    {
     "data": {
      "text/plain": [
       "array([ 187542028,  206934951,  383765683,  257361572,   14019373,\n",
       "         98127798,  510146389,  158207789, 2211499638,  236986188,\n",
       "       1430055357, 1069935458,  622631458,  859502047,  304814259,\n",
       "       2930336844,   82639309, 1462000340, 1259992472, 1462270518,\n",
       "         35851626,   62567127,  669040041,  734884339,  640828744,\n",
       "       1638357194,  104131353,  338442154,  826472273,  251592307,\n",
       "       2872577173, 1624068580, 1915339881, 1075083221,  145452920,\n",
       "        141861766,  565557948,  109692850, 1037588332,  232800860,\n",
       "         71174338,  904892082,  126924591,    6559914, 1344550122,\n",
       "       1751405721,  136141014,  469736690,  718739130, 1591066330,\n",
       "       2073693511,  156225272,  172995981, 1829169708,   48017838,\n",
       "       1191568394,   59197654,   49810303,   94627355,  345970473,\n",
       "       1306477605,  502945878,   23067506,   30293773, 1446449111,\n",
       "       1446167980,  666285169,  522965222,   99415839,   14356784,\n",
       "         84889254,  952242489, 1614147919,  515649169, 1677435432,\n",
       "        613120862,  373606114, 1400926693, 1125431113, 2297780771,\n",
       "       1482281547, 1039032274,   32468935,  581433125,  380442717,\n",
       "       1272518402,  324662750,  956069283,   61260588,  986927359,\n",
       "        603221941,  597973074, 1565607195,  100699045, 2187015262,\n",
       "       1216987113,  142849271,  543603293,  151258099,  718191230,\n",
       "       1204022259, 1368651995,  880626787,  599488046,  474580341,\n",
       "         16083611,  678713681, 1002518399,  281597529,  167100343,\n",
       "       1539422489,  513046907, 1705800288,  247841527, 1108251572,\n",
       "        816199266,  846353142,  774969815, 1046168263, 1160230272,\n",
       "       1091883911,   82166880,  568498805, 2125605783,  302094459,\n",
       "       1217847775,  723776595, 1962314777], dtype=uint64)"
      ]
     },
     "execution_count": 290,
     "metadata": {},
     "output_type": "execute_result"
    }
   ],
   "source": [
    "# Hash하고자 하는 집합\n",
    "set_A = {\"A\",\"B\",\"C\",\"D\"}\n",
    "\n",
    "minhash = MinHash(num_perm=128)\n",
    "\n",
    "for value in set_A:\n",
    "    # 원소 별로 하나씩 minhash에 적용\n",
    "    minhash.update(str(value).encode('utf8'))\n",
    "    \n",
    "minhash.hashvalues"
   ]
  },
  {
   "cell_type": "markdown",
   "metadata": {},
   "source": [
    "위의 과정을 함수로 나타내면 아래와 같습니다."
   ]
  },
  {
   "cell_type": "code",
   "execution_count": 318,
   "metadata": {},
   "outputs": [],
   "source": [
    "def get_hash(target_set, sig_size=128):\n",
    "    minhash = MinHash(sig_size)\n",
    "    for value in target_set:\n",
    "        minhash.update(str(value).encode('utf8'))\n",
    "    return minhash.hashvalues"
   ]
  },
  {
   "cell_type": "markdown",
   "metadata": {},
   "source": [
    "MinHash Function은 서로 다른 Hash Function들(위에서는 128개)으로 구성되어 있습니다. MinHash의 알고리즘을 보기 위해 간단한 예제를 만들어보도록 하겠습니다."
   ]
  },
  {
   "cell_type": "code",
   "execution_count": 319,
   "metadata": {},
   "outputs": [
    {
     "data": {
      "text/plain": [
       "array([2155541700, 3497910862, 1404536498,  257361572], dtype=uint64)"
      ]
     },
     "execution_count": 319,
     "metadata": {},
     "output_type": "execute_result"
    }
   ],
   "source": [
    "hash_a = get_hash({'A'},4)\n",
    "hash_a"
   ]
  },
  {
   "cell_type": "code",
   "execution_count": 320,
   "metadata": {},
   "outputs": [
    {
     "data": {
      "text/plain": [
       "array([1660848309, 2866125906,  383765683,  690308850], dtype=uint64)"
      ]
     },
     "execution_count": 320,
     "metadata": {},
     "output_type": "execute_result"
    }
   ],
   "source": [
    "hash_b = get_hash({'B'},4)\n",
    "hash_b"
   ]
  },
  {
   "cell_type": "code",
   "execution_count": 321,
   "metadata": {},
   "outputs": [
    {
     "data": {
      "text/plain": [
       "array([ 432770662, 3839306110,  701789493, 2250697747], dtype=uint64)"
      ]
     },
     "execution_count": 321,
     "metadata": {},
     "output_type": "execute_result"
    }
   ],
   "source": [
    "hash_c = get_hash({'C'},4)\n",
    "hash_c"
   ]
  },
  {
   "cell_type": "markdown",
   "metadata": {},
   "source": [
    "MinHash는 각 원소 별로 Signature(여기서는 4개)을 구한 후, 각 Signature 중 가장 작은 값을 저장하는 방식입니다. 가장 작은 값을 저장한다 해서 MinHash라고 불립니다."
   ]
  },
  {
   "cell_type": "code",
   "execution_count": 322,
   "metadata": {},
   "outputs": [
    {
     "data": {
      "text/plain": [
       "array([ 432770662, 2866125906,  383765683,  257361572], dtype=uint64)"
      ]
     },
     "execution_count": 322,
     "metadata": {},
     "output_type": "execute_result"
    }
   ],
   "source": [
    "hash_abc = get_hash({\"A\",\"B\", \"C\"},4)\n",
    "hash_abc"
   ]
  },
  {
   "cell_type": "code",
   "execution_count": 325,
   "metadata": {},
   "outputs": [
    {
     "data": {
      "text/plain": [
       "array([2155541700, 3497910862, 1404536498,  690308850], dtype=uint64)"
      ]
     },
     "execution_count": 325,
     "metadata": {},
     "output_type": "execute_result"
    }
   ],
   "source": [
    "# 각 시그니처 별 최소 값(Min)이 해당 집합 Signature\n",
    "np.maximum(hash_a, hash_b, hash_c)"
   ]
  },
  {
   "cell_type": "markdown",
   "metadata": {},
   "source": [
    "#### 특성 1 : 원소가 중복되면, 동일한 결과 반환한다. \n",
    "\n",
    "집합의 특성과 동일하게 이미 Minhash에 포함되었다면 MinHash의 값은 동일하게 나옵니다."
   ]
  },
  {
   "cell_type": "code",
   "execution_count": 97,
   "metadata": {},
   "outputs": [
    {
     "data": {
      "text/plain": [
       "array([ 187542028,  206934951,  383765683,  257361572,   14019373,\n",
       "         98127798,  510146389,  158207789, 2211499638,  236986188,\n",
       "       1430055357, 1069935458,  622631458,  859502047,  304814259,\n",
       "       2930336844,   82639309, 1462000340, 1259992472, 1462270518,\n",
       "         35851626,   62567127,  669040041,  734884339,  640828744,\n",
       "       1638357194,  104131353,  338442154,  826472273,  251592307,\n",
       "       2872577173, 1624068580, 1915339881, 1075083221,  145452920,\n",
       "        141861766,  565557948,  109692850, 1037588332,  232800860,\n",
       "         71174338,  904892082,  126924591,    6559914, 1344550122,\n",
       "       1751405721,  136141014,  469736690,  718739130, 1591066330,\n",
       "       2073693511,  156225272,  172995981, 1829169708,   48017838,\n",
       "       1191568394,   59197654,   49810303,   94627355,  345970473,\n",
       "       1306477605,  502945878,   23067506,   30293773, 1446449111,\n",
       "       1446167980,  666285169,  522965222,   99415839,   14356784,\n",
       "         84889254,  952242489, 1614147919,  515649169, 1677435432,\n",
       "        613120862,  373606114, 1400926693, 1125431113, 2297780771,\n",
       "       1482281547, 1039032274,   32468935,  581433125,  380442717,\n",
       "       1272518402,  324662750,  956069283,   61260588,  986927359,\n",
       "        603221941,  597973074, 1565607195,  100699045, 2187015262,\n",
       "       1216987113,  142849271,  543603293,  151258099,  718191230,\n",
       "       1204022259, 1368651995,  880626787,  599488046,  474580341,\n",
       "         16083611,  678713681, 1002518399,  281597529,  167100343,\n",
       "       1539422489,  513046907, 1705800288,  247841527, 1108251572,\n",
       "        816199266,  846353142,  774969815, 1046168263, 1160230272,\n",
       "       1091883911,   82166880,  568498805, 2125605783,  302094459,\n",
       "       1217847775,  723776595, 1962314777], dtype=uint64)"
      ]
     },
     "execution_count": 97,
     "metadata": {},
     "output_type": "execute_result"
    }
   ],
   "source": [
    "minhash.update(\"A\".encode('utf8'))\n",
    "\n",
    "minhash.hashvalues"
   ]
  },
  {
   "cell_type": "markdown",
   "metadata": {},
   "source": [
    "#### 특성 2: 순서에 영향을 받지 않는다.\n",
    "\n",
    "그리고 집합과 동일하게, 원소를 update하는 순서가 달라지더라도 동일한 결과를 반환합니다."
   ]
  },
  {
   "cell_type": "code",
   "execution_count": 98,
   "metadata": {},
   "outputs": [
    {
     "data": {
      "text/plain": [
       "array([ 187542028,  206934951,  383765683,  257361572,   14019373,\n",
       "         98127798,  510146389,  158207789, 2211499638,  236986188,\n",
       "       1430055357, 1069935458,  622631458,  859502047,  304814259,\n",
       "       2930336844,   82639309, 1462000340, 1259992472, 1462270518,\n",
       "         35851626,   62567127,  669040041,  734884339,  640828744,\n",
       "       1638357194,  104131353,  338442154,  826472273,  251592307,\n",
       "       2872577173, 1624068580, 1915339881, 1075083221,  145452920,\n",
       "        141861766,  565557948,  109692850, 1037588332,  232800860,\n",
       "         71174338,  904892082,  126924591,    6559914, 1344550122,\n",
       "       1751405721,  136141014,  469736690,  718739130, 1591066330,\n",
       "       2073693511,  156225272,  172995981, 1829169708,   48017838,\n",
       "       1191568394,   59197654,   49810303,   94627355,  345970473,\n",
       "       1306477605,  502945878,   23067506,   30293773, 1446449111,\n",
       "       1446167980,  666285169,  522965222,   99415839,   14356784,\n",
       "         84889254,  952242489, 1614147919,  515649169, 1677435432,\n",
       "        613120862,  373606114, 1400926693, 1125431113, 2297780771,\n",
       "       1482281547, 1039032274,   32468935,  581433125,  380442717,\n",
       "       1272518402,  324662750,  956069283,   61260588,  986927359,\n",
       "        603221941,  597973074, 1565607195,  100699045, 2187015262,\n",
       "       1216987113,  142849271,  543603293,  151258099,  718191230,\n",
       "       1204022259, 1368651995,  880626787,  599488046,  474580341,\n",
       "         16083611,  678713681, 1002518399,  281597529,  167100343,\n",
       "       1539422489,  513046907, 1705800288,  247841527, 1108251572,\n",
       "        816199266,  846353142,  774969815, 1046168263, 1160230272,\n",
       "       1091883911,   82166880,  568498805, 2125605783,  302094459,\n",
       "       1217847775,  723776595, 1962314777], dtype=uint64)"
      ]
     },
     "execution_count": 98,
     "metadata": {},
     "output_type": "execute_result"
    }
   ],
   "source": [
    "minhash = MinHash()\n",
    "\n",
    "for value in [\"A\",\"B\",\"C\",\"D\"]:\n",
    "    minhash.update(str(value).encode('utf8'))\n",
    "    \n",
    "minhash.hashvalues"
   ]
  },
  {
   "cell_type": "code",
   "execution_count": 99,
   "metadata": {},
   "outputs": [
    {
     "data": {
      "text/plain": [
       "array([ 187542028,  206934951,  383765683,  257361572,   14019373,\n",
       "         98127798,  510146389,  158207789, 2211499638,  236986188,\n",
       "       1430055357, 1069935458,  622631458,  859502047,  304814259,\n",
       "       2930336844,   82639309, 1462000340, 1259992472, 1462270518,\n",
       "         35851626,   62567127,  669040041,  734884339,  640828744,\n",
       "       1638357194,  104131353,  338442154,  826472273,  251592307,\n",
       "       2872577173, 1624068580, 1915339881, 1075083221,  145452920,\n",
       "        141861766,  565557948,  109692850, 1037588332,  232800860,\n",
       "         71174338,  904892082,  126924591,    6559914, 1344550122,\n",
       "       1751405721,  136141014,  469736690,  718739130, 1591066330,\n",
       "       2073693511,  156225272,  172995981, 1829169708,   48017838,\n",
       "       1191568394,   59197654,   49810303,   94627355,  345970473,\n",
       "       1306477605,  502945878,   23067506,   30293773, 1446449111,\n",
       "       1446167980,  666285169,  522965222,   99415839,   14356784,\n",
       "         84889254,  952242489, 1614147919,  515649169, 1677435432,\n",
       "        613120862,  373606114, 1400926693, 1125431113, 2297780771,\n",
       "       1482281547, 1039032274,   32468935,  581433125,  380442717,\n",
       "       1272518402,  324662750,  956069283,   61260588,  986927359,\n",
       "        603221941,  597973074, 1565607195,  100699045, 2187015262,\n",
       "       1216987113,  142849271,  543603293,  151258099,  718191230,\n",
       "       1204022259, 1368651995,  880626787,  599488046,  474580341,\n",
       "         16083611,  678713681, 1002518399,  281597529,  167100343,\n",
       "       1539422489,  513046907, 1705800288,  247841527, 1108251572,\n",
       "        816199266,  846353142,  774969815, 1046168263, 1160230272,\n",
       "       1091883911,   82166880,  568498805, 2125605783,  302094459,\n",
       "       1217847775,  723776595, 1962314777], dtype=uint64)"
      ]
     },
     "execution_count": 99,
     "metadata": {},
     "output_type": "execute_result"
    }
   ],
   "source": [
    "minhash = MinHash()\n",
    "\n",
    "for value in [\"D\",\"C\",\"B\",\"A\"]:\n",
    "    minhash.update(str(value).encode('utf8'))\n",
    "    \n",
    "minhash.hashvalues"
   ]
  },
  {
   "cell_type": "markdown",
   "metadata": {},
   "source": [
    "#### 특성 3 : 집합이 비슷하면, Hash 값도 비슷하게 나온다.\n",
    "\n",
    "Minhash의 가장 중요한 특성 중 하나로, 집합 간의 IOU 값과 Hash 값의 IOU가 비슷하게 나옵니다."
   ]
  },
  {
   "cell_type": "code",
   "execution_count": 116,
   "metadata": {},
   "outputs": [],
   "source": [
    "set_A = {\"A\",\"B\",\"C\",\"D\",\"E\",\"F\",\"G\",\"H\"}\n",
    "set_B = {\"D\",\"E\",\"F\",\"G\",\"H\",\"I\",\"J\",\"K\"}"
   ]
  },
  {
   "cell_type": "markdown",
   "metadata": {},
   "source": [
    "#### 두 집합의 IOU 값 구하기 "
   ]
  },
  {
   "cell_type": "code",
   "execution_count": 125,
   "metadata": {},
   "outputs": [
    {
     "data": {
      "text/plain": [
       "0.45454545454545453"
      ]
     },
     "execution_count": 125,
     "metadata": {},
     "output_type": "execute_result"
    }
   ],
   "source": [
    "intersection = len(set_A & set_B)\n",
    "union = len(set_A | set_B)\n",
    "iou = intersection / union \n",
    "iou"
   ]
  },
  {
   "cell_type": "markdown",
   "metadata": {},
   "source": [
    "#### 두 집합의 MinHash 구하기"
   ]
  },
  {
   "cell_type": "code",
   "execution_count": 126,
   "metadata": {},
   "outputs": [],
   "source": [
    "minhash_A = get_hash(set_A)\n",
    "minhash_B = get_hash(set_B)"
   ]
  },
  {
   "cell_type": "code",
   "execution_count": 127,
   "metadata": {},
   "outputs": [
    {
     "data": {
      "text/plain": [
       "0.5"
      ]
     },
     "execution_count": 127,
     "metadata": {},
     "output_type": "execute_result"
    }
   ],
   "source": [
    "minhash_iou = np.mean(minhash_A == minhash_B)\n",
    "minhash_iou"
   ]
  },
  {
   "cell_type": "markdown",
   "metadata": {},
   "source": [
    "MinHash의 signature size가 커질수록 집합 간의 IOU 값과 Hash 값의 IOU가 더 비슷해 집니다."
   ]
  },
  {
   "cell_type": "code",
   "execution_count": 128,
   "metadata": {},
   "outputs": [],
   "source": [
    "sig_size = 256\n",
    "\n",
    "minhash_A = get_hash(set_A, sig_size)\n",
    "minhash_B = get_hash(set_B, sig_size)"
   ]
  },
  {
   "cell_type": "code",
   "execution_count": 129,
   "metadata": {},
   "outputs": [
    {
     "data": {
      "text/plain": [
       "0.44921875"
      ]
     },
     "execution_count": 129,
     "metadata": {},
     "output_type": "execute_result"
    }
   ],
   "source": [
    "np.mean(minhash_A == minhash_B)"
   ]
  },
  {
   "cell_type": "markdown",
   "metadata": {},
   "source": [
    "## 3. In-Memory DB, Redis\n",
    "\n",
    "Redis는 대표적인 Key-Value 타입의 In-Memory 데이터베이스입니다. 간단히 설명하면, Python의 Dict와 같이 Key와 Value로 데이터를 저장할 수 있는데, 기존 RDBMS와 달리 RAM에서 데이터를 저장해 훨씬 더 빠르게 입출력을 할 수 있습니다. Redis는 Linux, Mac, Window 모두 현재 지원하고 있으므로, 편하게 로컬 컴퓨터에도 설치가 가능한 DB입니다.\n",
    "\n",
    "reference : [Redis WIKI 설명](https://en.wikipedia.org/wiki/Redis)"
   ]
  },
  {
   "cell_type": "code",
   "execution_count": 130,
   "metadata": {},
   "outputs": [],
   "source": [
    "from redis import Redis"
   ]
  },
  {
   "cell_type": "code",
   "execution_count": 131,
   "metadata": {},
   "outputs": [],
   "source": [
    "db = Redis()"
   ]
  },
  {
   "cell_type": "markdown",
   "metadata": {},
   "source": [
    "#### 데이터 넣기"
   ]
  },
  {
   "cell_type": "code",
   "execution_count": 132,
   "metadata": {},
   "outputs": [
    {
     "data": {
      "text/plain": [
       "True"
      ]
     },
     "execution_count": 132,
     "metadata": {},
     "output_type": "execute_result"
    }
   ],
   "source": [
    "db.set(\"A\",1)"
   ]
  },
  {
   "cell_type": "markdown",
   "metadata": {},
   "source": [
    "#### 데이터 읽기"
   ]
  },
  {
   "cell_type": "code",
   "execution_count": 133,
   "metadata": {},
   "outputs": [
    {
     "data": {
      "text/plain": [
       "b'1'"
      ]
     },
     "execution_count": 133,
     "metadata": {},
     "output_type": "execute_result"
    }
   ],
   "source": [
    "db.get('A')"
   ]
  },
  {
   "cell_type": "markdown",
   "metadata": {},
   "source": [
    "#### 데이터 수정하기"
   ]
  },
  {
   "cell_type": "code",
   "execution_count": 139,
   "metadata": {},
   "outputs": [
    {
     "data": {
      "text/plain": [
       "True"
      ]
     },
     "execution_count": 139,
     "metadata": {},
     "output_type": "execute_result"
    }
   ],
   "source": [
    "db.set('A',2)"
   ]
  },
  {
   "cell_type": "markdown",
   "metadata": {},
   "source": [
    "#### 데이터 제거하기"
   ]
  },
  {
   "cell_type": "code",
   "execution_count": 140,
   "metadata": {},
   "outputs": [
    {
     "data": {
      "text/plain": [
       "1"
      ]
     },
     "execution_count": 140,
     "metadata": {},
     "output_type": "execute_result"
    }
   ],
   "source": [
    "db.delete('A')"
   ]
  },
  {
   "cell_type": "code",
   "execution_count": 141,
   "metadata": {},
   "outputs": [],
   "source": [
    "db.get('A')"
   ]
  },
  {
   "cell_type": "markdown",
   "metadata": {},
   "source": [
    "# \\[ MinHash와 In-Memory Cache DB을 활용한 추천 엔진 구현하기 \\]\n",
    "---"
   ]
  },
  {
   "cell_type": "markdown",
   "metadata": {},
   "source": [
    "## 1. Item 별 Click Stream 구성하기\n",
    "\n",
    "Click Stream은 이전 시간에 배운 장바구니랑 동일하다고 생각하면 됩니다."
   ]
  },
  {
   "cell_type": "code",
   "execution_count": 142,
   "metadata": {},
   "outputs": [],
   "source": [
    "click_stream = (\n",
    "    sampling_df  #  영화 데이터를 \n",
    "    .groupby('movie_id')  # 아이템을 기준으로\n",
    "    ['user_id'] # user_id를 모아\n",
    "    .apply(set) # 하나의 집합으로 만들어 주세요\n",
    ")"
   ]
  },
  {
   "cell_type": "markdown",
   "metadata": {},
   "source": [
    "## 2. MinHash Hashvalues로 바꾸기\n",
    "\n",
    "각 영화의 MinHash값을 구해보도록 하겠습니다."
   ]
  },
  {
   "cell_type": "code",
   "execution_count": 143,
   "metadata": {},
   "outputs": [
    {
     "name": "stderr",
     "output_type": "stream",
     "text": [
      "100%|██████████| 1000/1000 [03:12<00:00,  5.19it/s]\n"
     ]
    },
    {
     "data": {
      "text/plain": [
       "movie_id\n",
       "1        [219544, 2701, 91343, 60078, 399183, 8658, 958...\n",
       "2        [5838, 571359, 339908, 96928, 519416, 54054, 2...\n",
       "3        [324981, 571359, 562296, 438775, 392841, 8658,...\n",
       "5        [5838, 206413, 339908, 320381, 1656504, 8658, ...\n",
       "6        [391396, 69615, 154141, 96928, 399183, 174070,...\n",
       "                               ...                        \n",
       "78499    [1313292, 231996, 416848, 283498, 2997276, 267...\n",
       "79132    [62857, 69615, 339908, 283498, 590106, 267979,...\n",
       "80463    [1381294, 231996, 369410, 320381, 608509, 2679...\n",
       "81591    [62857, 231996, 369410, 320381, 608509, 176937...\n",
       "81845    [62857, 69615, 369410, 2746276, 1842589, 26797...\n",
       "Name: user_id, Length: 1000, dtype: object"
      ]
     },
     "execution_count": 143,
     "metadata": {},
     "output_type": "execute_result"
    }
   ],
   "source": [
    "minhash_per_item = click_stream.progress_apply(get_hash)\n",
    "minhash_per_item"
   ]
  },
  {
   "cell_type": "code",
   "execution_count": 147,
   "metadata": {},
   "outputs": [
    {
     "data": {
      "text/html": [
       "<div>\n",
       "<style scoped>\n",
       "    .dataframe tbody tr th:only-of-type {\n",
       "        vertical-align: middle;\n",
       "    }\n",
       "\n",
       "    .dataframe tbody tr th {\n",
       "        vertical-align: top;\n",
       "    }\n",
       "\n",
       "    .dataframe thead th {\n",
       "        text-align: right;\n",
       "    }\n",
       "</style>\n",
       "<table border=\"1\" class=\"dataframe\">\n",
       "  <thead>\n",
       "    <tr style=\"text-align: right;\">\n",
       "      <th></th>\n",
       "      <th>sig0</th>\n",
       "      <th>sig1</th>\n",
       "      <th>sig2</th>\n",
       "      <th>sig3</th>\n",
       "      <th>sig4</th>\n",
       "      <th>sig5</th>\n",
       "      <th>sig6</th>\n",
       "      <th>sig7</th>\n",
       "      <th>sig8</th>\n",
       "      <th>sig9</th>\n",
       "      <th>...</th>\n",
       "      <th>sig118</th>\n",
       "      <th>sig119</th>\n",
       "      <th>sig120</th>\n",
       "      <th>sig121</th>\n",
       "      <th>sig122</th>\n",
       "      <th>sig123</th>\n",
       "      <th>sig124</th>\n",
       "      <th>sig125</th>\n",
       "      <th>sig126</th>\n",
       "      <th>sig127</th>\n",
       "    </tr>\n",
       "    <tr>\n",
       "      <th>movie_id</th>\n",
       "      <th></th>\n",
       "      <th></th>\n",
       "      <th></th>\n",
       "      <th></th>\n",
       "      <th></th>\n",
       "      <th></th>\n",
       "      <th></th>\n",
       "      <th></th>\n",
       "      <th></th>\n",
       "      <th></th>\n",
       "      <th></th>\n",
       "      <th></th>\n",
       "      <th></th>\n",
       "      <th></th>\n",
       "      <th></th>\n",
       "      <th></th>\n",
       "      <th></th>\n",
       "      <th></th>\n",
       "      <th></th>\n",
       "      <th></th>\n",
       "      <th></th>\n",
       "    </tr>\n",
       "  </thead>\n",
       "  <tbody>\n",
       "    <tr>\n",
       "      <th>1</th>\n",
       "      <td>219544</td>\n",
       "      <td>2701</td>\n",
       "      <td>91343</td>\n",
       "      <td>60078</td>\n",
       "      <td>399183</td>\n",
       "      <td>8658</td>\n",
       "      <td>9587</td>\n",
       "      <td>78203</td>\n",
       "      <td>276205</td>\n",
       "      <td>186778</td>\n",
       "      <td>...</td>\n",
       "      <td>23419</td>\n",
       "      <td>59397</td>\n",
       "      <td>115212</td>\n",
       "      <td>106014</td>\n",
       "      <td>31411</td>\n",
       "      <td>147210</td>\n",
       "      <td>39891</td>\n",
       "      <td>73507</td>\n",
       "      <td>40856</td>\n",
       "      <td>11594</td>\n",
       "    </tr>\n",
       "    <tr>\n",
       "      <th>2</th>\n",
       "      <td>5838</td>\n",
       "      <td>571359</td>\n",
       "      <td>339908</td>\n",
       "      <td>96928</td>\n",
       "      <td>519416</td>\n",
       "      <td>54054</td>\n",
       "      <td>29607</td>\n",
       "      <td>428337</td>\n",
       "      <td>522674</td>\n",
       "      <td>101776</td>\n",
       "      <td>...</td>\n",
       "      <td>23419</td>\n",
       "      <td>228680</td>\n",
       "      <td>188830</td>\n",
       "      <td>696179</td>\n",
       "      <td>31411</td>\n",
       "      <td>147210</td>\n",
       "      <td>186694</td>\n",
       "      <td>159780</td>\n",
       "      <td>454859</td>\n",
       "      <td>199075</td>\n",
       "    </tr>\n",
       "    <tr>\n",
       "      <th>3</th>\n",
       "      <td>324981</td>\n",
       "      <td>571359</td>\n",
       "      <td>562296</td>\n",
       "      <td>438775</td>\n",
       "      <td>392841</td>\n",
       "      <td>8658</td>\n",
       "      <td>29607</td>\n",
       "      <td>78203</td>\n",
       "      <td>675778</td>\n",
       "      <td>381341</td>\n",
       "      <td>...</td>\n",
       "      <td>110941</td>\n",
       "      <td>632098</td>\n",
       "      <td>192118</td>\n",
       "      <td>252534</td>\n",
       "      <td>189484</td>\n",
       "      <td>251638</td>\n",
       "      <td>74487</td>\n",
       "      <td>159780</td>\n",
       "      <td>409530</td>\n",
       "      <td>219264</td>\n",
       "    </tr>\n",
       "    <tr>\n",
       "      <th>5</th>\n",
       "      <td>5838</td>\n",
       "      <td>206413</td>\n",
       "      <td>339908</td>\n",
       "      <td>320381</td>\n",
       "      <td>1656504</td>\n",
       "      <td>8658</td>\n",
       "      <td>29607</td>\n",
       "      <td>78203</td>\n",
       "      <td>889257</td>\n",
       "      <td>422515</td>\n",
       "      <td>...</td>\n",
       "      <td>906144</td>\n",
       "      <td>59397</td>\n",
       "      <td>192118</td>\n",
       "      <td>297082</td>\n",
       "      <td>31411</td>\n",
       "      <td>734722</td>\n",
       "      <td>74487</td>\n",
       "      <td>159780</td>\n",
       "      <td>142912</td>\n",
       "      <td>542472</td>\n",
       "    </tr>\n",
       "    <tr>\n",
       "      <th>6</th>\n",
       "      <td>391396</td>\n",
       "      <td>69615</td>\n",
       "      <td>154141</td>\n",
       "      <td>96928</td>\n",
       "      <td>399183</td>\n",
       "      <td>174070</td>\n",
       "      <td>195534</td>\n",
       "      <td>21124</td>\n",
       "      <td>522674</td>\n",
       "      <td>222732</td>\n",
       "      <td>...</td>\n",
       "      <td>38599</td>\n",
       "      <td>366954</td>\n",
       "      <td>188830</td>\n",
       "      <td>94105</td>\n",
       "      <td>13220</td>\n",
       "      <td>852718</td>\n",
       "      <td>39891</td>\n",
       "      <td>159780</td>\n",
       "      <td>142912</td>\n",
       "      <td>317167</td>\n",
       "    </tr>\n",
       "    <tr>\n",
       "      <th>...</th>\n",
       "      <td>...</td>\n",
       "      <td>...</td>\n",
       "      <td>...</td>\n",
       "      <td>...</td>\n",
       "      <td>...</td>\n",
       "      <td>...</td>\n",
       "      <td>...</td>\n",
       "      <td>...</td>\n",
       "      <td>...</td>\n",
       "      <td>...</td>\n",
       "      <td>...</td>\n",
       "      <td>...</td>\n",
       "      <td>...</td>\n",
       "      <td>...</td>\n",
       "      <td>...</td>\n",
       "      <td>...</td>\n",
       "      <td>...</td>\n",
       "      <td>...</td>\n",
       "      <td>...</td>\n",
       "      <td>...</td>\n",
       "      <td>...</td>\n",
       "    </tr>\n",
       "    <tr>\n",
       "      <th>78499</th>\n",
       "      <td>1313292</td>\n",
       "      <td>231996</td>\n",
       "      <td>416848</td>\n",
       "      <td>283498</td>\n",
       "      <td>2997276</td>\n",
       "      <td>267979</td>\n",
       "      <td>810065</td>\n",
       "      <td>157034</td>\n",
       "      <td>363895</td>\n",
       "      <td>618052</td>\n",
       "      <td>...</td>\n",
       "      <td>341332</td>\n",
       "      <td>2166067</td>\n",
       "      <td>174107</td>\n",
       "      <td>1108468</td>\n",
       "      <td>1462250</td>\n",
       "      <td>630262</td>\n",
       "      <td>232626</td>\n",
       "      <td>638116</td>\n",
       "      <td>1636785</td>\n",
       "      <td>1461658</td>\n",
       "    </tr>\n",
       "    <tr>\n",
       "      <th>79132</th>\n",
       "      <td>62857</td>\n",
       "      <td>69615</td>\n",
       "      <td>339908</td>\n",
       "      <td>283498</td>\n",
       "      <td>590106</td>\n",
       "      <td>267979</td>\n",
       "      <td>13311</td>\n",
       "      <td>21124</td>\n",
       "      <td>363895</td>\n",
       "      <td>421406</td>\n",
       "      <td>...</td>\n",
       "      <td>23419</td>\n",
       "      <td>366954</td>\n",
       "      <td>174107</td>\n",
       "      <td>1013415</td>\n",
       "      <td>15473</td>\n",
       "      <td>147210</td>\n",
       "      <td>232626</td>\n",
       "      <td>76713</td>\n",
       "      <td>1598624</td>\n",
       "      <td>138745</td>\n",
       "    </tr>\n",
       "    <tr>\n",
       "      <th>80463</th>\n",
       "      <td>1381294</td>\n",
       "      <td>231996</td>\n",
       "      <td>369410</td>\n",
       "      <td>320381</td>\n",
       "      <td>608509</td>\n",
       "      <td>267979</td>\n",
       "      <td>29607</td>\n",
       "      <td>21124</td>\n",
       "      <td>683372</td>\n",
       "      <td>762393</td>\n",
       "      <td>...</td>\n",
       "      <td>1218622</td>\n",
       "      <td>2585154</td>\n",
       "      <td>188830</td>\n",
       "      <td>1251259</td>\n",
       "      <td>470601</td>\n",
       "      <td>852718</td>\n",
       "      <td>232626</td>\n",
       "      <td>638116</td>\n",
       "      <td>1646759</td>\n",
       "      <td>2070256</td>\n",
       "    </tr>\n",
       "    <tr>\n",
       "      <th>81591</th>\n",
       "      <td>62857</td>\n",
       "      <td>231996</td>\n",
       "      <td>369410</td>\n",
       "      <td>320381</td>\n",
       "      <td>608509</td>\n",
       "      <td>1769372</td>\n",
       "      <td>1142150</td>\n",
       "      <td>1662733</td>\n",
       "      <td>683372</td>\n",
       "      <td>762393</td>\n",
       "      <td>...</td>\n",
       "      <td>3321438</td>\n",
       "      <td>366954</td>\n",
       "      <td>188830</td>\n",
       "      <td>1251259</td>\n",
       "      <td>1499643</td>\n",
       "      <td>852718</td>\n",
       "      <td>240072</td>\n",
       "      <td>76713</td>\n",
       "      <td>1598624</td>\n",
       "      <td>138745</td>\n",
       "    </tr>\n",
       "    <tr>\n",
       "      <th>81845</th>\n",
       "      <td>62857</td>\n",
       "      <td>69615</td>\n",
       "      <td>369410</td>\n",
       "      <td>2746276</td>\n",
       "      <td>1842589</td>\n",
       "      <td>267979</td>\n",
       "      <td>82565</td>\n",
       "      <td>1000371</td>\n",
       "      <td>915130</td>\n",
       "      <td>618052</td>\n",
       "      <td>...</td>\n",
       "      <td>341332</td>\n",
       "      <td>2585154</td>\n",
       "      <td>174107</td>\n",
       "      <td>1108468</td>\n",
       "      <td>15473</td>\n",
       "      <td>147210</td>\n",
       "      <td>232626</td>\n",
       "      <td>638116</td>\n",
       "      <td>1646759</td>\n",
       "      <td>280293</td>\n",
       "    </tr>\n",
       "  </tbody>\n",
       "</table>\n",
       "<p>1000 rows × 128 columns</p>\n",
       "</div>"
      ],
      "text/plain": [
       "             sig0    sig1    sig2     sig3     sig4     sig5     sig6  \\\n",
       "movie_id                                                                \n",
       "1          219544    2701   91343    60078   399183     8658     9587   \n",
       "2            5838  571359  339908    96928   519416    54054    29607   \n",
       "3          324981  571359  562296   438775   392841     8658    29607   \n",
       "5            5838  206413  339908   320381  1656504     8658    29607   \n",
       "6          391396   69615  154141    96928   399183   174070   195534   \n",
       "...           ...     ...     ...      ...      ...      ...      ...   \n",
       "78499     1313292  231996  416848   283498  2997276   267979   810065   \n",
       "79132       62857   69615  339908   283498   590106   267979    13311   \n",
       "80463     1381294  231996  369410   320381   608509   267979    29607   \n",
       "81591       62857  231996  369410   320381   608509  1769372  1142150   \n",
       "81845       62857   69615  369410  2746276  1842589   267979    82565   \n",
       "\n",
       "             sig7    sig8    sig9  ...   sig118   sig119  sig120   sig121  \\\n",
       "movie_id                           ...                                      \n",
       "1           78203  276205  186778  ...    23419    59397  115212   106014   \n",
       "2          428337  522674  101776  ...    23419   228680  188830   696179   \n",
       "3           78203  675778  381341  ...   110941   632098  192118   252534   \n",
       "5           78203  889257  422515  ...   906144    59397  192118   297082   \n",
       "6           21124  522674  222732  ...    38599   366954  188830    94105   \n",
       "...           ...     ...     ...  ...      ...      ...     ...      ...   \n",
       "78499      157034  363895  618052  ...   341332  2166067  174107  1108468   \n",
       "79132       21124  363895  421406  ...    23419   366954  174107  1013415   \n",
       "80463       21124  683372  762393  ...  1218622  2585154  188830  1251259   \n",
       "81591     1662733  683372  762393  ...  3321438   366954  188830  1251259   \n",
       "81845     1000371  915130  618052  ...   341332  2585154  174107  1108468   \n",
       "\n",
       "           sig122  sig123  sig124  sig125   sig126   sig127  \n",
       "movie_id                                                     \n",
       "1           31411  147210   39891   73507    40856    11594  \n",
       "2           31411  147210  186694  159780   454859   199075  \n",
       "3          189484  251638   74487  159780   409530   219264  \n",
       "5           31411  734722   74487  159780   142912   542472  \n",
       "6           13220  852718   39891  159780   142912   317167  \n",
       "...           ...     ...     ...     ...      ...      ...  \n",
       "78499     1462250  630262  232626  638116  1636785  1461658  \n",
       "79132       15473  147210  232626   76713  1598624   138745  \n",
       "80463      470601  852718  232626  638116  1646759  2070256  \n",
       "81591     1499643  852718  240072   76713  1598624   138745  \n",
       "81845       15473  147210  232626  638116  1646759   280293  \n",
       "\n",
       "[1000 rows x 128 columns]"
      ]
     },
     "execution_count": 147,
     "metadata": {},
     "output_type": "execute_result"
    }
   ],
   "source": [
    "minhv_df = pd.DataFrame(np.stack(minhash_per_item.values))\n",
    "minhv_df.index = minhash_per_item.index\n",
    "columns = [f\"sig{col}\" for col in minhv_df.columns]\n",
    "minhv_df.columns = columns\n",
    "minhv_df"
   ]
  },
  {
   "cell_type": "markdown",
   "metadata": {},
   "source": [
    "이에 대한 각 아이템 간 Item Similarity Matrix를 구하면 아래와 같습니다."
   ]
  },
  {
   "cell_type": "code",
   "execution_count": 158,
   "metadata": {},
   "outputs": [
    {
     "data": {
      "text/html": [
       "<div>\n",
       "<style scoped>\n",
       "    .dataframe tbody tr th:only-of-type {\n",
       "        vertical-align: middle;\n",
       "    }\n",
       "\n",
       "    .dataframe tbody tr th {\n",
       "        vertical-align: top;\n",
       "    }\n",
       "\n",
       "    .dataframe thead th {\n",
       "        text-align: right;\n",
       "    }\n",
       "</style>\n",
       "<table border=\"1\" class=\"dataframe\">\n",
       "  <thead>\n",
       "    <tr style=\"text-align: right;\">\n",
       "      <th>movie_id</th>\n",
       "      <th>1</th>\n",
       "      <th>2</th>\n",
       "      <th>3</th>\n",
       "      <th>5</th>\n",
       "      <th>6</th>\n",
       "      <th>7</th>\n",
       "      <th>10</th>\n",
       "      <th>11</th>\n",
       "      <th>14</th>\n",
       "      <th>16</th>\n",
       "      <th>...</th>\n",
       "      <th>70286</th>\n",
       "      <th>71535</th>\n",
       "      <th>72998</th>\n",
       "      <th>73017</th>\n",
       "      <th>74458</th>\n",
       "      <th>78499</th>\n",
       "      <th>79132</th>\n",
       "      <th>80463</th>\n",
       "      <th>81591</th>\n",
       "      <th>81845</th>\n",
       "    </tr>\n",
       "    <tr>\n",
       "      <th>movie_id</th>\n",
       "      <th></th>\n",
       "      <th></th>\n",
       "      <th></th>\n",
       "      <th></th>\n",
       "      <th></th>\n",
       "      <th></th>\n",
       "      <th></th>\n",
       "      <th></th>\n",
       "      <th></th>\n",
       "      <th></th>\n",
       "      <th></th>\n",
       "      <th></th>\n",
       "      <th></th>\n",
       "      <th></th>\n",
       "      <th></th>\n",
       "      <th></th>\n",
       "      <th></th>\n",
       "      <th></th>\n",
       "      <th></th>\n",
       "      <th></th>\n",
       "      <th></th>\n",
       "    </tr>\n",
       "  </thead>\n",
       "  <tbody>\n",
       "    <tr>\n",
       "      <th>1</th>\n",
       "      <td>1.000000</td>\n",
       "      <td>0.250000</td>\n",
       "      <td>0.171875</td>\n",
       "      <td>0.195312</td>\n",
       "      <td>0.281250</td>\n",
       "      <td>0.187500</td>\n",
       "      <td>0.242188</td>\n",
       "      <td>0.156250</td>\n",
       "      <td>0.070312</td>\n",
       "      <td>0.195312</td>\n",
       "      <td>...</td>\n",
       "      <td>0.062500</td>\n",
       "      <td>0.062500</td>\n",
       "      <td>0.070312</td>\n",
       "      <td>0.054688</td>\n",
       "      <td>0.054688</td>\n",
       "      <td>0.070312</td>\n",
       "      <td>0.078125</td>\n",
       "      <td>0.046875</td>\n",
       "      <td>0.046875</td>\n",
       "      <td>0.039062</td>\n",
       "    </tr>\n",
       "    <tr>\n",
       "      <th>2</th>\n",
       "      <td>0.250000</td>\n",
       "      <td>1.000000</td>\n",
       "      <td>0.140625</td>\n",
       "      <td>0.125000</td>\n",
       "      <td>0.164062</td>\n",
       "      <td>0.125000</td>\n",
       "      <td>0.203125</td>\n",
       "      <td>0.171875</td>\n",
       "      <td>0.046875</td>\n",
       "      <td>0.156250</td>\n",
       "      <td>...</td>\n",
       "      <td>0.085938</td>\n",
       "      <td>0.085938</td>\n",
       "      <td>0.054688</td>\n",
       "      <td>0.039062</td>\n",
       "      <td>0.062500</td>\n",
       "      <td>0.054688</td>\n",
       "      <td>0.070312</td>\n",
       "      <td>0.031250</td>\n",
       "      <td>0.054688</td>\n",
       "      <td>0.039062</td>\n",
       "    </tr>\n",
       "    <tr>\n",
       "      <th>3</th>\n",
       "      <td>0.171875</td>\n",
       "      <td>0.140625</td>\n",
       "      <td>1.000000</td>\n",
       "      <td>0.359375</td>\n",
       "      <td>0.125000</td>\n",
       "      <td>0.335938</td>\n",
       "      <td>0.062500</td>\n",
       "      <td>0.093750</td>\n",
       "      <td>0.164062</td>\n",
       "      <td>0.070312</td>\n",
       "      <td>...</td>\n",
       "      <td>0.015625</td>\n",
       "      <td>0.007812</td>\n",
       "      <td>0.007812</td>\n",
       "      <td>0.007812</td>\n",
       "      <td>0.007812</td>\n",
       "      <td>0.015625</td>\n",
       "      <td>0.007812</td>\n",
       "      <td>0.015625</td>\n",
       "      <td>0.000000</td>\n",
       "      <td>0.007812</td>\n",
       "    </tr>\n",
       "    <tr>\n",
       "      <th>5</th>\n",
       "      <td>0.195312</td>\n",
       "      <td>0.125000</td>\n",
       "      <td>0.359375</td>\n",
       "      <td>1.000000</td>\n",
       "      <td>0.140625</td>\n",
       "      <td>0.289062</td>\n",
       "      <td>0.062500</td>\n",
       "      <td>0.125000</td>\n",
       "      <td>0.156250</td>\n",
       "      <td>0.070312</td>\n",
       "      <td>...</td>\n",
       "      <td>0.031250</td>\n",
       "      <td>0.046875</td>\n",
       "      <td>0.031250</td>\n",
       "      <td>0.031250</td>\n",
       "      <td>0.023438</td>\n",
       "      <td>0.039062</td>\n",
       "      <td>0.023438</td>\n",
       "      <td>0.039062</td>\n",
       "      <td>0.031250</td>\n",
       "      <td>0.023438</td>\n",
       "    </tr>\n",
       "    <tr>\n",
       "      <th>6</th>\n",
       "      <td>0.281250</td>\n",
       "      <td>0.164062</td>\n",
       "      <td>0.125000</td>\n",
       "      <td>0.140625</td>\n",
       "      <td>1.000000</td>\n",
       "      <td>0.156250</td>\n",
       "      <td>0.296875</td>\n",
       "      <td>0.171875</td>\n",
       "      <td>0.070312</td>\n",
       "      <td>0.273438</td>\n",
       "      <td>...</td>\n",
       "      <td>0.125000</td>\n",
       "      <td>0.101562</td>\n",
       "      <td>0.062500</td>\n",
       "      <td>0.093750</td>\n",
       "      <td>0.078125</td>\n",
       "      <td>0.070312</td>\n",
       "      <td>0.117188</td>\n",
       "      <td>0.109375</td>\n",
       "      <td>0.093750</td>\n",
       "      <td>0.085938</td>\n",
       "    </tr>\n",
       "    <tr>\n",
       "      <th>...</th>\n",
       "      <td>...</td>\n",
       "      <td>...</td>\n",
       "      <td>...</td>\n",
       "      <td>...</td>\n",
       "      <td>...</td>\n",
       "      <td>...</td>\n",
       "      <td>...</td>\n",
       "      <td>...</td>\n",
       "      <td>...</td>\n",
       "      <td>...</td>\n",
       "      <td>...</td>\n",
       "      <td>...</td>\n",
       "      <td>...</td>\n",
       "      <td>...</td>\n",
       "      <td>...</td>\n",
       "      <td>...</td>\n",
       "      <td>...</td>\n",
       "      <td>...</td>\n",
       "      <td>...</td>\n",
       "      <td>...</td>\n",
       "      <td>...</td>\n",
       "    </tr>\n",
       "    <tr>\n",
       "      <th>78499</th>\n",
       "      <td>0.070312</td>\n",
       "      <td>0.054688</td>\n",
       "      <td>0.015625</td>\n",
       "      <td>0.039062</td>\n",
       "      <td>0.070312</td>\n",
       "      <td>0.031250</td>\n",
       "      <td>0.039062</td>\n",
       "      <td>0.031250</td>\n",
       "      <td>0.007812</td>\n",
       "      <td>0.062500</td>\n",
       "      <td>...</td>\n",
       "      <td>0.234375</td>\n",
       "      <td>0.234375</td>\n",
       "      <td>0.210938</td>\n",
       "      <td>0.242188</td>\n",
       "      <td>0.218750</td>\n",
       "      <td>1.000000</td>\n",
       "      <td>0.320312</td>\n",
       "      <td>0.242188</td>\n",
       "      <td>0.187500</td>\n",
       "      <td>0.242188</td>\n",
       "    </tr>\n",
       "    <tr>\n",
       "      <th>79132</th>\n",
       "      <td>0.078125</td>\n",
       "      <td>0.070312</td>\n",
       "      <td>0.007812</td>\n",
       "      <td>0.023438</td>\n",
       "      <td>0.117188</td>\n",
       "      <td>0.046875</td>\n",
       "      <td>0.054688</td>\n",
       "      <td>0.023438</td>\n",
       "      <td>0.015625</td>\n",
       "      <td>0.078125</td>\n",
       "      <td>...</td>\n",
       "      <td>0.382812</td>\n",
       "      <td>0.242188</td>\n",
       "      <td>0.375000</td>\n",
       "      <td>0.257812</td>\n",
       "      <td>0.281250</td>\n",
       "      <td>0.320312</td>\n",
       "      <td>1.000000</td>\n",
       "      <td>0.328125</td>\n",
       "      <td>0.289062</td>\n",
       "      <td>0.250000</td>\n",
       "    </tr>\n",
       "    <tr>\n",
       "      <th>80463</th>\n",
       "      <td>0.046875</td>\n",
       "      <td>0.031250</td>\n",
       "      <td>0.015625</td>\n",
       "      <td>0.039062</td>\n",
       "      <td>0.109375</td>\n",
       "      <td>0.023438</td>\n",
       "      <td>0.054688</td>\n",
       "      <td>0.031250</td>\n",
       "      <td>0.007812</td>\n",
       "      <td>0.085938</td>\n",
       "      <td>...</td>\n",
       "      <td>0.273438</td>\n",
       "      <td>0.203125</td>\n",
       "      <td>0.234375</td>\n",
       "      <td>0.242188</td>\n",
       "      <td>0.304688</td>\n",
       "      <td>0.242188</td>\n",
       "      <td>0.328125</td>\n",
       "      <td>1.000000</td>\n",
       "      <td>0.367188</td>\n",
       "      <td>0.312500</td>\n",
       "    </tr>\n",
       "    <tr>\n",
       "      <th>81591</th>\n",
       "      <td>0.046875</td>\n",
       "      <td>0.054688</td>\n",
       "      <td>0.000000</td>\n",
       "      <td>0.031250</td>\n",
       "      <td>0.093750</td>\n",
       "      <td>0.023438</td>\n",
       "      <td>0.039062</td>\n",
       "      <td>0.031250</td>\n",
       "      <td>0.000000</td>\n",
       "      <td>0.054688</td>\n",
       "      <td>...</td>\n",
       "      <td>0.242188</td>\n",
       "      <td>0.210938</td>\n",
       "      <td>0.210938</td>\n",
       "      <td>0.250000</td>\n",
       "      <td>0.304688</td>\n",
       "      <td>0.187500</td>\n",
       "      <td>0.289062</td>\n",
       "      <td>0.367188</td>\n",
       "      <td>1.000000</td>\n",
       "      <td>0.257812</td>\n",
       "    </tr>\n",
       "    <tr>\n",
       "      <th>81845</th>\n",
       "      <td>0.039062</td>\n",
       "      <td>0.039062</td>\n",
       "      <td>0.007812</td>\n",
       "      <td>0.023438</td>\n",
       "      <td>0.085938</td>\n",
       "      <td>0.023438</td>\n",
       "      <td>0.031250</td>\n",
       "      <td>0.023438</td>\n",
       "      <td>0.000000</td>\n",
       "      <td>0.054688</td>\n",
       "      <td>...</td>\n",
       "      <td>0.179688</td>\n",
       "      <td>0.164062</td>\n",
       "      <td>0.203125</td>\n",
       "      <td>0.218750</td>\n",
       "      <td>0.195312</td>\n",
       "      <td>0.242188</td>\n",
       "      <td>0.250000</td>\n",
       "      <td>0.312500</td>\n",
       "      <td>0.257812</td>\n",
       "      <td>1.000000</td>\n",
       "    </tr>\n",
       "  </tbody>\n",
       "</table>\n",
       "<p>1000 rows × 1000 columns</p>\n",
       "</div>"
      ],
      "text/plain": [
       "movie_id     1         2         3         5         6         7      \\\n",
       "movie_id                                                               \n",
       "1         1.000000  0.250000  0.171875  0.195312  0.281250  0.187500   \n",
       "2         0.250000  1.000000  0.140625  0.125000  0.164062  0.125000   \n",
       "3         0.171875  0.140625  1.000000  0.359375  0.125000  0.335938   \n",
       "5         0.195312  0.125000  0.359375  1.000000  0.140625  0.289062   \n",
       "6         0.281250  0.164062  0.125000  0.140625  1.000000  0.156250   \n",
       "...            ...       ...       ...       ...       ...       ...   \n",
       "78499     0.070312  0.054688  0.015625  0.039062  0.070312  0.031250   \n",
       "79132     0.078125  0.070312  0.007812  0.023438  0.117188  0.046875   \n",
       "80463     0.046875  0.031250  0.015625  0.039062  0.109375  0.023438   \n",
       "81591     0.046875  0.054688  0.000000  0.031250  0.093750  0.023438   \n",
       "81845     0.039062  0.039062  0.007812  0.023438  0.085938  0.023438   \n",
       "\n",
       "movie_id     10        11        14        16     ...     70286     71535  \\\n",
       "movie_id                                          ...                       \n",
       "1         0.242188  0.156250  0.070312  0.195312  ...  0.062500  0.062500   \n",
       "2         0.203125  0.171875  0.046875  0.156250  ...  0.085938  0.085938   \n",
       "3         0.062500  0.093750  0.164062  0.070312  ...  0.015625  0.007812   \n",
       "5         0.062500  0.125000  0.156250  0.070312  ...  0.031250  0.046875   \n",
       "6         0.296875  0.171875  0.070312  0.273438  ...  0.125000  0.101562   \n",
       "...            ...       ...       ...       ...  ...       ...       ...   \n",
       "78499     0.039062  0.031250  0.007812  0.062500  ...  0.234375  0.234375   \n",
       "79132     0.054688  0.023438  0.015625  0.078125  ...  0.382812  0.242188   \n",
       "80463     0.054688  0.031250  0.007812  0.085938  ...  0.273438  0.203125   \n",
       "81591     0.039062  0.031250  0.000000  0.054688  ...  0.242188  0.210938   \n",
       "81845     0.031250  0.023438  0.000000  0.054688  ...  0.179688  0.164062   \n",
       "\n",
       "movie_id     72998     73017     74458     78499     79132     80463  \\\n",
       "movie_id                                                               \n",
       "1         0.070312  0.054688  0.054688  0.070312  0.078125  0.046875   \n",
       "2         0.054688  0.039062  0.062500  0.054688  0.070312  0.031250   \n",
       "3         0.007812  0.007812  0.007812  0.015625  0.007812  0.015625   \n",
       "5         0.031250  0.031250  0.023438  0.039062  0.023438  0.039062   \n",
       "6         0.062500  0.093750  0.078125  0.070312  0.117188  0.109375   \n",
       "...            ...       ...       ...       ...       ...       ...   \n",
       "78499     0.210938  0.242188  0.218750  1.000000  0.320312  0.242188   \n",
       "79132     0.375000  0.257812  0.281250  0.320312  1.000000  0.328125   \n",
       "80463     0.234375  0.242188  0.304688  0.242188  0.328125  1.000000   \n",
       "81591     0.210938  0.250000  0.304688  0.187500  0.289062  0.367188   \n",
       "81845     0.203125  0.218750  0.195312  0.242188  0.250000  0.312500   \n",
       "\n",
       "movie_id     81591     81845  \n",
       "movie_id                      \n",
       "1         0.046875  0.039062  \n",
       "2         0.054688  0.039062  \n",
       "3         0.000000  0.007812  \n",
       "5         0.031250  0.023438  \n",
       "6         0.093750  0.085938  \n",
       "...            ...       ...  \n",
       "78499     0.187500  0.242188  \n",
       "79132     0.289062  0.250000  \n",
       "80463     0.367188  0.312500  \n",
       "81591     1.000000  0.257812  \n",
       "81845     0.257812  1.000000  \n",
       "\n",
       "[1000 rows x 1000 columns]"
      ]
     },
     "execution_count": 158,
     "metadata": {},
     "output_type": "execute_result"
    }
   ],
   "source": [
    "hash_ious = np.mean(minhv_df.values[:,None,:] == minhv_df.values[None,:,:],axis=-1)\n",
    "item_sim_df = pd.DataFrame(hash_ious, columns=minhv_df.index,index=minhv_df.index)\n",
    "item_sim_df"
   ]
  },
  {
   "cell_type": "markdown",
   "metadata": {},
   "source": [
    "## 3. Secondary Index로 구성하여 Redis에 저장하기\n",
    "\n",
    "위와 같이 Item Similarity DataFrame을 세팅하는 경우에는 아이템이 클 경우 불가능해집니다. 대신 Redis에 Secondary Index 방식으로 접근하면 보다 간단하게 할 수 있습니다."
   ]
  },
  {
   "cell_type": "code",
   "execution_count": 273,
   "metadata": {},
   "outputs": [],
   "source": [
    "from redis import Redis"
   ]
  },
  {
   "cell_type": "code",
   "execution_count": 274,
   "metadata": {
    "scrolled": true
   },
   "outputs": [
    {
     "name": "stderr",
     "output_type": "stream",
     "text": [
      "100%|██████████| 128/128 [00:08<00:00, 15.84it/s]\n"
     ]
    }
   ],
   "source": [
    "# redis에 연결\n",
    "db = Redis('localhost', port=6379)    \n",
    "\n",
    "for sig_name in tqdm(minhv_df.columns):\n",
    "    signature_series = minhv_df[sig_name]\n",
    "    \n",
    "    for sig_value, grouped in (\n",
    "        signature_series.groupby(signature_series)):\n",
    "        # Key로 만들기\n",
    "        key_string = \"{}-{}\".format(sig_name, sig_value)\n",
    "        # Value를 String으로 만들기\n",
    "        value_string = str(grouped.index.values.tolist())\n",
    "        db.set(key_string, value_string)"
   ]
  },
  {
   "cell_type": "markdown",
   "metadata": {},
   "source": [
    "## 4. 추천 시스템 동작하기"
   ]
  },
  {
   "cell_type": "markdown",
   "metadata": {},
   "source": [
    "### (1) 아이템 추천하기"
   ]
  },
  {
   "cell_type": "code",
   "execution_count": 275,
   "metadata": {},
   "outputs": [
    {
     "data": {
      "text/html": [
       "<div>\n",
       "<style scoped>\n",
       "    .dataframe tbody tr th:only-of-type {\n",
       "        vertical-align: middle;\n",
       "    }\n",
       "\n",
       "    .dataframe tbody tr th {\n",
       "        vertical-align: top;\n",
       "    }\n",
       "\n",
       "    .dataframe thead th {\n",
       "        text-align: right;\n",
       "    }\n",
       "</style>\n",
       "<table border=\"1\" class=\"dataframe\">\n",
       "  <thead>\n",
       "    <tr style=\"text-align: right;\">\n",
       "      <th></th>\n",
       "      <th>id</th>\n",
       "      <th>title</th>\n",
       "      <th>release_year</th>\n",
       "    </tr>\n",
       "  </thead>\n",
       "  <tbody>\n",
       "    <tr>\n",
       "      <th>10600</th>\n",
       "      <td>40815</td>\n",
       "      <td>Harry Potter and the Goblet of Fire</td>\n",
       "      <td>2005</td>\n",
       "    </tr>\n",
       "  </tbody>\n",
       "</table>\n",
       "</div>"
      ],
      "text/plain": [
       "          id                                title  release_year\n",
       "10600  40815  Harry Potter and the Goblet of Fire          2005"
      ]
     },
     "execution_count": 275,
     "metadata": {},
     "output_type": "execute_result"
    }
   ],
   "source": [
    "# 해리 포터 : 불의 잔을 본 사람에 대한 추천\n",
    "movies_df[movies_df.id==40815]"
   ]
  },
  {
   "cell_type": "markdown",
   "metadata": {},
   "source": [
    "#### 불의 잔 영화에 대한 MinHash Signature 값 가져오기"
   ]
  },
  {
   "cell_type": "code",
   "execution_count": 276,
   "metadata": {},
   "outputs": [
    {
     "data": {
      "text/plain": [
       "sig0      320552\n",
       "sig1      231996\n",
       "sig2      339908\n",
       "sig3       96928\n",
       "sig4      490371\n",
       "           ...  \n",
       "sig123    147210\n",
       "sig124    232626\n",
       "sig125    883389\n",
       "sig126    123689\n",
       "sig127    199075\n",
       "Name: 40815, Length: 128, dtype: uint64"
      ]
     },
     "execution_count": 276,
     "metadata": {},
     "output_type": "execute_result"
    }
   ],
   "source": [
    "target_item = minhv_df.loc[40815]\n",
    "target_item"
   ]
  },
  {
   "cell_type": "markdown",
   "metadata": {},
   "source": [
    "#### DB에 Query 전송하기"
   ]
  },
  {
   "cell_type": "code",
   "execution_count": 277,
   "metadata": {},
   "outputs": [
    {
     "name": "stdout",
     "output_type": "stream",
     "text": [
      "CPU times: user 4.7 ms, sys: 1.04 ms, total: 5.74 ms\n",
      "Wall time: 6.66 ms\n"
     ]
    }
   ],
   "source": [
    "%%time\n",
    "\n",
    "querys = []\n",
    "for k, v in target_item.items():\n",
    "    querys.append(f'{k}-{v}')\n",
    "    \n",
    "intersected_movie_ids = np.concatenate(\n",
    "    [json.loads(row) for row in db.mget(querys)])\n",
    "    \n",
    "items, counts = np.unique(intersected_movie_ids,\n",
    "                          return_counts=True)    "
   ]
  },
  {
   "cell_type": "markdown",
   "metadata": {},
   "source": [
    "#### 결과 보기"
   ]
  },
  {
   "cell_type": "code",
   "execution_count": 278,
   "metadata": {},
   "outputs": [
    {
     "data": {
      "text/plain": [
       "Harry Potter and the Goblet of Fire                                                        1.000000\n",
       "Harry Potter and the Prisoner of Azkaban                                                   0.562500\n",
       "Harry Potter and the Order of the Phoenix                                                  0.507812\n",
       "Harry Potter and the Chamber of Secrets                                                    0.460938\n",
       "Harry Potter and the Sorcerer's Stone (a.k.a. Harry Potter and the Philosopher's Stone)    0.429688\n",
       "Chronicles of Narnia: The Lion, the Witch and the Wardrobe, The                            0.382812\n",
       "Spider-Man 2                                                                               0.367188\n",
       "Pirates of the Caribbean: Dead Man's Chest                                                 0.351562\n",
       "Shrek 2                                                                                    0.328125\n",
       "Spider-Man                                                                                 0.289062\n",
       "dtype: float64"
      ]
     },
     "execution_count": 278,
     "metadata": {},
     "output_type": "execute_result"
    }
   ],
   "source": [
    "result = pd.Series(counts,index=items).sort_values(ascending=False)/128\n",
    "result.index = result.index.map(dict(zip(movies_df.id,movies_df.title)))\n",
    "result.iloc[:10]"
   ]
  },
  {
   "cell_type": "markdown",
   "metadata": {},
   "source": [
    "### (2) 정보 갱신하기\n",
    "\n",
    "#### 예제 상황 \n",
    "> 유저(1551)번이 해리포터 불의잔(40815)을 보았을 때"
   ]
  },
  {
   "cell_type": "code",
   "execution_count": 279,
   "metadata": {},
   "outputs": [
    {
     "data": {
      "text/plain": [
       "sig0      320552\n",
       "sig1      231996\n",
       "sig2      339908\n",
       "sig3       96928\n",
       "sig4      490371\n",
       "           ...  \n",
       "sig123    147210\n",
       "sig124    232626\n",
       "sig125    883389\n",
       "sig126    123689\n",
       "sig127    199075\n",
       "Name: 40815, Length: 128, dtype: uint64"
      ]
     },
     "execution_count": 279,
     "metadata": {},
     "output_type": "execute_result"
    }
   ],
   "source": [
    "old_minhash = minhv_df.loc[40815]\n",
    "old_minhash"
   ]
  },
  {
   "cell_type": "code",
   "execution_count": 280,
   "metadata": {},
   "outputs": [
    {
     "data": {
      "text/plain": [
       "array([1048627272, 1513800844, 1051346822,  243397122, 4254558996,\n",
       "       3910579161, 2714463644, 3226051397, 3405622008, 2489970010,\n",
       "       3882600967,  270858047, 1815424979, 1556920697, 2342500043,\n",
       "       1145634247, 1456631817, 2486033195,  956985939, 4270610901,\n",
       "        177317663, 3844107406, 3106019867,  628449413, 3096728226,\n",
       "       4092191400,  271992335, 2413857880, 3222240607, 2151898277,\n",
       "       2497695043, 3707997569,  299063558, 1292431369, 3652634318,\n",
       "       4153710162,  192991774, 2328127284, 1368331266,  968917771,\n",
       "       3089515145, 2743966941, 2006832071,  885742492,  537916551,\n",
       "       4253004388, 2695105263, 2353687496, 1063046712, 2555458223,\n",
       "       4291586588,  312503410, 1110517264, 3452261949, 1499534944,\n",
       "        302670327,  918593656, 3718382526,  545465343, 2022429752,\n",
       "       1280982525,   33216477, 1374618577, 2153898073, 3045751088,\n",
       "        610197203, 2994775872, 1838069218, 2243730264,  701002237,\n",
       "       3719154976,  599137673,  174320139, 1853719633, 1586564054,\n",
       "       3869628696, 2277380575, 1265975551, 3718206860,  554163570,\n",
       "       1401240677, 2558173384, 3150799459, 2642805638,  311239771,\n",
       "       3300143046, 2881175447, 2786886900,  763273892,  150008360,\n",
       "       1221886537, 3594343735, 1809935214,  119258363, 2514312819,\n",
       "       3226739852,  298909715, 3479357315, 3986881491, 4014091086,\n",
       "       2855598486, 3781880829, 1137791215, 2281802651, 1578287886,\n",
       "        303934418,  172640897, 2950147626, 2882316870, 1455899548,\n",
       "        422715188, 1439365126, 2296745956, 3336633966, 3954495542,\n",
       "       3327925800, 2398097585, 1269370282, 1491242875, 1315361636,\n",
       "       2367425471, 4069134558,      15473, 1171759730, 3473449837,\n",
       "       2115101615, 2215955808, 3260282192], dtype=uint64)"
      ]
     },
     "execution_count": 280,
     "metadata": {},
     "output_type": "execute_result"
    }
   ],
   "source": [
    "new_minhash = get_hash([1551])\n",
    "new_minhash"
   ]
  },
  {
   "cell_type": "markdown",
   "metadata": {},
   "source": [
    "MinHash를 갱신하는 것은 추가할 MinHash와 기존 MinHash값을 서로 비교해서 각 Signature의 최소값으로 갱신해주면 됩니다."
   ]
  },
  {
   "cell_type": "code",
   "execution_count": 281,
   "metadata": {},
   "outputs": [
    {
     "data": {
      "text/plain": [
       "sig0      320552\n",
       "sig1      231996\n",
       "sig2      339908\n",
       "sig3       96928\n",
       "sig4      490371\n",
       "           ...  \n",
       "sig123    147210\n",
       "sig124    232626\n",
       "sig125    883389\n",
       "sig126    123689\n",
       "sig127    199075\n",
       "Name: 40815, Length: 128, dtype: uint64"
      ]
     },
     "execution_count": 281,
     "metadata": {},
     "output_type": "execute_result"
    }
   ],
   "source": [
    "updated_minhash = np.minimum(old_minhash, new_minhash)\n",
    "updated_minhash"
   ]
  },
  {
   "cell_type": "markdown",
   "metadata": {},
   "source": [
    "#### 지워야할 Secondary Index\n",
    "\n",
    "변경된 Signature만 갱신해주면 됩니다. 아래 값은 이전 minhash 값으로, Secondary Index에서 제거해 주어야 하는 값입니다."
   ]
  },
  {
   "cell_type": "code",
   "execution_count": 282,
   "metadata": {},
   "outputs": [
    {
     "data": {
      "text/plain": [
       "sig122    31411\n",
       "Name: 40815, dtype: uint64"
      ]
     },
     "execution_count": 282,
     "metadata": {},
     "output_type": "execute_result"
    }
   ],
   "source": [
    "old_kv = old_minhash[updated_minhash!=old_minhash]\n",
    "old_kv"
   ]
  },
  {
   "cell_type": "markdown",
   "metadata": {},
   "source": [
    "해당 Secondary Index에는 현재 영화에 대한 movie id가 저장되어 있으므로, 제거해주어야 합니다."
   ]
  },
  {
   "cell_type": "code",
   "execution_count": 283,
   "metadata": {},
   "outputs": [
    {
     "name": "stdout",
     "output_type": "stream",
     "text": [
      "[1, 2, 5, 16, 17, 22, 25, 48, 58, 70, 105, 110, 111, 141, 151, 168, 186, 194, 198, 208, 222, 224, 231, 253, 261, 266, 273, 292, 293, 318, 339, 342, 345, 355, 356, 368, 372, 376, 410, 420, 432, 440, 497, 509, 515, 520, 527, 535, 539, 541, 551, 552, 553, 586, 587, 594, 719, 724, 762, 778, 780, 785, 788, 832, 838, 852, 910, 912, 919, 920, 969, 1027, 1036, 1073, 1080, 1084, 1092, 1093, 1094, 1097, 1100, 1101, 1120, 1127, 1136, 1183, 1193, 1197, 1198, 1199, 1210, 1214, 1219, 1221, 1225, 1246, 1247, 1258, 1259, 1263, 1265, 1270, 1271, 1275, 1278, 1291, 1296, 1307, 1339, 1345, 1356, 1370, 1377, 1380, 1387, 1391, 1394, 1407, 1408, 1409, 1485, 1500, 1527, 1544, 1562, 1569, 1573, 1580, 1608, 1635, 1641, 1653, 1673, 1680, 1721, 1747, 1777, 1784, 1801, 1876, 1917, 1923, 1958, 1961, 1968, 2000, 2001, 2003, 2012, 2020, 2054, 2100, 2115, 2124, 2125, 2134, 2144, 2145, 2160, 2161, 2167, 2174, 2193, 2289, 2291, 2294, 2321, 2336, 2340, 2355, 2369, 2394, 2396, 2405, 2406, 2407, 2420, 2455, 2467, 2470, 2542, 2572, 2605, 2616, 2617, 2628, 2640, 2657, 2683, 2701, 2706, 2712, 2716, 2717, 2762, 2797, 2826, 2872, 2890, 2908, 2916, 2918, 2968, 2987, 3033, 3052, 3072, 3081, 3101, 3105, 3108, 3148, 3160, 3176, 3253, 3255, 3317, 3386, 3408, 3418, 3448, 3481, 3489, 3499, 3535, 3578, 3751, 3752, 3793, 3826, 3868, 3897, 3948, 3967, 3977, 3996, 4011, 4014, 4022, 4027, 4148, 4246, 4270, 4299, 4306, 4310, 4361, 4896, 4963, 4979, 5013, 5349, 5377, 5378, 5445, 5459, 5630, 5816, 5952, 5956, 6333, 6539, 7147, 7153, 7293, 7458, 8368, 8636, 8984, 30793, 30810, 33493, 33679, 33794, 40815, 41566]\n"
     ]
    }
   ],
   "source": [
    "k = old_kv.index[0]\n",
    "v = old_kv.values[0]\n",
    "\n",
    "old_index_list = json.loads(db.get(f\"{k}-{v}\"))\n",
    "print(old_index_list)"
   ]
  },
  {
   "cell_type": "markdown",
   "metadata": {},
   "source": [
    "위의 리스트에서 영화 불의 잔에 대한 Movie ID인 40815를 제거해 주면 됩니다."
   ]
  },
  {
   "cell_type": "code",
   "execution_count": 286,
   "metadata": {},
   "outputs": [
    {
     "data": {
      "text/plain": [
       "True"
      ]
     },
     "execution_count": 286,
     "metadata": {},
     "output_type": "execute_result"
    }
   ],
   "source": [
    "old_index_list.remove(movie_id)\n",
    "db.set(f\"{k}-{old_v}\", str(old_index_list))"
   ]
  },
  {
   "cell_type": "markdown",
   "metadata": {},
   "source": [
    "#### 추가해야 할 Secondary Index"
   ]
  },
  {
   "cell_type": "code",
   "execution_count": 287,
   "metadata": {},
   "outputs": [
    {
     "data": {
      "text/plain": [
       "sig122    15473\n",
       "Name: 40815, dtype: uint64"
      ]
     },
     "execution_count": 287,
     "metadata": {},
     "output_type": "execute_result"
    }
   ],
   "source": [
    "new_kv = updated_minhash[updated_minhash!=old_minhash]\n",
    "new_kv"
   ]
  },
  {
   "cell_type": "markdown",
   "metadata": {},
   "source": [
    "새로운 Secondary Index에는 현재 영화에 대한 Movie id를 저장해주어야 합니다. "
   ]
  },
  {
   "cell_type": "code",
   "execution_count": 288,
   "metadata": {},
   "outputs": [
    {
     "name": "stdout",
     "output_type": "stream",
     "text": [
      "[50, 260, 858, 1079, 1175, 1196, 1200, 1213, 1240, 1682, 1732, 2571, 2959, 2997, 3911, 4226, 4973, 4993, 4995, 5418, 5669, 5995, 6016, 7143, 30707, 30749, 44195, 49272, 54286, 60684, 63082, 68954, 70286, 79132, 81845]\n"
     ]
    }
   ],
   "source": [
    "k = new_kv.index[0]\n",
    "v = new_kv.values[0]\n",
    "\n",
    "new_index_list = json.loads(db.get(f\"{k}-{v}\"))\n",
    "print(new_index_list)"
   ]
  },
  {
   "cell_type": "markdown",
   "metadata": {},
   "source": [
    "여기에는 영화 불의 잔에 대한 Movie ID인 40815를 추가해 주면 됩니다."
   ]
  },
  {
   "cell_type": "code",
   "execution_count": 289,
   "metadata": {},
   "outputs": [
    {
     "data": {
      "text/plain": [
       "True"
      ]
     },
     "execution_count": 289,
     "metadata": {},
     "output_type": "execute_result"
    }
   ],
   "source": [
    "new_index_list.append(movie_id)\n",
    "db.set(f\"{k}-{new_v}\", str(new_index_list))"
   ]
  },
  {
   "cell_type": "markdown",
   "metadata": {},
   "source": [
    "#  \n",
    "\n",
    "---\n",
    "\n",
    "    Copyright(c) 2020 by Public AI. All rights reserved.\n",
    "    Writen by PAI, SeonYoul Choi ( best10@publicai.co.kr )  last updated on 2020/06/06\n",
    "\n",
    "\n",
    "---"
   ]
  }
 ],
 "metadata": {
  "hide_input": false,
  "kernelspec": {
   "display_name": "Python 3",
   "language": "python",
   "name": "python3"
  },
  "language_info": {
   "codemirror_mode": {
    "name": "ipython",
    "version": 3
   },
   "file_extension": ".py",
   "mimetype": "text/x-python",
   "name": "python",
   "nbconvert_exporter": "python",
   "pygments_lexer": "ipython3",
   "version": "3.8.5"
  },
  "toc": {
   "base_numbering": 1,
   "nav_menu": {},
   "number_sections": false,
   "sideBar": true,
   "skip_h1_title": false,
   "title_cell": "Table of Contents",
   "title_sidebar": "Contents",
   "toc_cell": false,
   "toc_position": {},
   "toc_section_display": true,
   "toc_window_display": false
  },
  "varInspector": {
   "cols": {
    "lenName": 16,
    "lenType": 16,
    "lenVar": 40
   },
   "kernels_config": {
    "python": {
     "delete_cmd_postfix": "",
     "delete_cmd_prefix": "del ",
     "library": "var_list.py",
     "varRefreshCmd": "print(var_dic_list())"
    },
    "r": {
     "delete_cmd_postfix": ") ",
     "delete_cmd_prefix": "rm(",
     "library": "var_list.r",
     "varRefreshCmd": "cat(var_dic_list()) "
    }
   },
   "types_to_exclude": [
    "module",
    "function",
    "builtin_function_or_method",
    "instance",
    "_Feature"
   ],
   "window_display": false
  }
 },
 "nbformat": 4,
 "nbformat_minor": 2
}
