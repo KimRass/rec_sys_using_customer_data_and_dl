{
 "cells": [
  {
   "cell_type": "markdown",
   "metadata": {
    "toc": true
   },
   "source": [
    "<h1>Table of Contents<span class=\"tocSkip\"></span></h1>\n",
    "<div class=\"toc\"><ul class=\"toc-item\"><li><span><a href=\"#Label-Encoding\" data-toc-modified-id=\"Label-Encoding-1\"><span class=\"toc-item-num\">1&nbsp;&nbsp;</span>Label Encoding</a></span></li><li><span><a href=\"#Modeling\" data-toc-modified-id=\"Modeling-2\"><span class=\"toc-item-num\">2&nbsp;&nbsp;</span>Modeling</a></span></li><li><span><a href=\"#Training\" data-toc-modified-id=\"Training-3\"><span class=\"toc-item-num\">3&nbsp;&nbsp;</span>Training</a></span></li><li><span><a href=\"#Recommendation\" data-toc-modified-id=\"Recommendation-4\"><span class=\"toc-item-num\">4&nbsp;&nbsp;</span>Recommendation</a></span></li></ul></div>"
   ]
  },
  {
   "cell_type": "code",
   "execution_count": 212,
   "metadata": {
    "ExecuteTime": {
     "end_time": "2022-01-17T08:33:22.346818Z",
     "start_time": "2022-01-17T08:33:22.316859Z"
    }
   },
   "outputs": [
    {
     "name": "stderr",
     "output_type": "stream",
     "text": [
      "C:\\Users\\82104\\anaconda3\\lib\\site-packages\\tqdm\\std.py:697: FutureWarning: The Panel class is removed from pandas. Accessing it from the top-level namespace will also be removed in the next version\n",
      "  from pandas import Panel\n"
     ]
    }
   ],
   "source": [
    "import os\n",
    "import random\n",
    "from tqdm.notebook import tqdm\n",
    "import numpy as np\n",
    "import pandas as pd\n",
    "import tensorflow as tf\n",
    "from tensorflow.keras import Input, Model, Sequential\n",
    "from tensorflow.keras.preprocessing import image_dataset_from_directory\n",
    "from tensorflow.keras.preprocessing.sequence import pad_sequences\n",
    "from tensorflow.keras.preprocessing.image import load_img, img_to_array, ImageDataGenerator\n",
    "from tensorflow.keras.layers import Layer, Dense, Flatten, Dropout, Concatenate, Add, Dot, Multiply, Reshape, Activation, BatchNormalization, SimpleRNNCell, RNN, SimpleRNN, LSTM, Embedding, Bidirectional, TimeDistributed, Conv1D, Conv2D, MaxPool1D, MaxPool2D, GlobalMaxPool1D, GlobalMaxPool2D, AveragePooling1D, AveragePooling2D, GlobalAveragePooling1D, GlobalAveragePooling2D, ZeroPadding2D\n",
    "from tensorflow.keras.optimizers import SGD, Adam, Adagrad\n",
    "from tensorflow.keras.metrics import MeanSquaredError, RootMeanSquaredError, MeanAbsoluteError, MeanAbsolutePercentageError, BinaryCrossentropy, CategoricalCrossentropy, SparseCategoricalCrossentropy, CosineSimilarity\n",
    "from tensorflow.keras.layers.experimental.preprocessing import Rescaling\n",
    "from tensorflow.keras.callbacks import EarlyStopping, ModelCheckpoint\n",
    "from tensorflow.keras.activations import linear, sigmoid, relu\n",
    "from tensorflow.keras.initializers import RandomNormal, glorot_uniform, he_uniform, Constant\n",
    "from tensorflow.keras.models import load_model\n",
    "import matplotlib.pyplot as plt\n",
    "import seaborn as sb\n",
    "from sklearn.model_selection import train_test_split\n",
    "import copy\n",
    "\n",
    "tqdm.pandas()\n",
    "np.set_printoptions(edgeitems=3, infstr=\"inf\", linewidth=75, nanstr=\"nan\", precision=8, suppress=False, threshold=1000, formatter=None)\n",
    "plt.style.use(\"dark_background\")"
   ]
  },
  {
   "cell_type": "code",
   "execution_count": 213,
   "metadata": {
    "ExecuteTime": {
     "end_time": "2022-01-17T08:33:22.458925Z",
     "start_time": "2022-01-17T08:33:22.348819Z"
    }
   },
   "outputs": [],
   "source": [
    "# age: (0~4: 0, 5~9: 1, 10~14: 2, ...)\n",
    "users = pd.read_csv(\"Datasets/MovieLens 100k/100k_users.csv\")\n",
    "# year: 영화 개봉 연도\n",
    "movies = pd.read_csv(\"Datasets/MovieLens 100k/100k_movies.csv\")\n",
    "ratings = pd.read_csv(\"Datasets/MovieLens 100k/100k_ratings.csv\")\n",
    "\n",
    "data = pd.merge(ratings, users, on=\"user_id\")\n",
    "data = pd.merge(data, movies, on=\"item_id\")"
   ]
  },
  {
   "cell_type": "markdown",
   "metadata": {},
   "source": [
    "# Label Encoding"
   ]
  },
  {
   "cell_type": "code",
   "execution_count": 214,
   "metadata": {
    "ExecuteTime": {
     "end_time": "2022-01-17T08:33:22.634011Z",
     "start_time": "2022-01-17T08:33:22.460822Z"
    }
   },
   "outputs": [],
   "source": [
    "cols = [\"user_id\", \"item_id\", \"age\", \"gender\", \"occupation\", \"year\"] + data.loc[:, \"unknown\":\"Western\"].columns.tolist()\n",
    "for col in cols:\n",
    "    data[col] = pd.Categorical(data[col])\n",
    "    data[col] = data[col].cat.codes"
   ]
  },
  {
   "cell_type": "markdown",
   "metadata": {},
   "source": [
    "- degree $d = 2$인 Factorization Machine의 모델은 다음과 같이 정의됩니다. $d = 2$라는 것은 embedding vectors를 최대 2개 조합하겠다는 의미입니다.\n",
    "$$\n",
    "\\hat{y}(x):=w_0 + \\sum_{i=1}^n w_ix_i + \\sum_{i=1}^n\\sum_{j=i+1}^n w_{i,j}x_ix_j\n",
    "$$\n",
    "- $w_0$: Global Bias\n",
    "- $n$: The Number of Features\n",
    "- $w_i$: The Weight of $i$th Feature\n",
    "- $x_i$: The Value of $i$th Feature of the Sample.\n",
    "- $w_{i,j}$ : The Interactive Weight of $i$th Feature and $j$th Feature\n",
    "$$\n",
    "w_{i,j} := \\vec{v_i}\\cdot\\vec{v_j} = \\sum_{f=1}^k v_{i,f}v_{j,f}\n",
    "$$\n",
    "- $\\vec{v_i}$: The Embedding Vector of $i$th Feature\n",
    "- `tensorflow.keras.layers.Embedding()`를 사용할 경우\n",
    "$$\n",
    "w_0 + \\sum_{i=1}^n w_i\n",
    "$$\n",
    "- Factorization Machine Part\n",
    "$$\n",
    "\\sum_{i=1}^n\\sum_{j=i+1}^nw_{i,j}x_ix_j = \\sum_{i=1}^n\\sum_{j=i+1}^n(\\vec{v_i}\\cdot\\vec{v_j})x_ix_j = \\sum_{i=1}^n\\sum_{j=i+1}^n\\sum_{f=1}^k v_{i,f}v_{j,f}x_ix_j\n",
    "$$\n",
    "- tf.keras.layers.Embedding() 함수를 사용할 경우 다음과 같이 weights만의 연산으로 표현됩니다.\n",
    "$$\n",
    "\\sum_{i=1}^n\\sum_{j=i+1}^n w_{i,j} = \\sum_{i=1}^n\\sum_{j=i+1}^n(\\vec{v_i}\\cdot\\vec{v_j}) = \\sum_{i=1}^n\\sum_{j=i+1}^n\\sum_{f=1}^k v_{i,f}v_{j,f}\n",
    "$$\n",
    "- 이 식의 시간 복잡도는 $O(kn^2)$입니다.\n",
    "- 이를 다음과 같이 수정하여 시간 복잡도를 $O(kn)$으로 만들 수 있습니다.\n",
    "$$\n",
    "\\frac{1}{2}\\sum_{f=1}^k\\left(\\left(\\sum_{i=1}^nv_{i,f}\\right)^2 - \\sum_{i=1}^n{v_{i,f}}^2\\right)\n",
    "$$"
   ]
  },
  {
   "cell_type": "markdown",
   "metadata": {},
   "source": [
    "# Modeling"
   ]
  },
  {
   "cell_type": "code",
   "execution_count": 215,
   "metadata": {
    "ExecuteTime": {
     "end_time": "2022-01-17T08:33:22.997857Z",
     "start_time": "2022-01-17T08:33:22.637826Z"
    },
    "scrolled": false
   },
   "outputs": [
    {
     "name": "stderr",
     "output_type": "stream",
     "text": [
      "C:\\Users\\82104\\anaconda3\\lib\\site-packages\\keras\\optimizer_v2\\adagrad.py:74: UserWarning: The `lr` argument is deprecated, use `learning_rate` instead.\n",
      "  super(Adagrad, self).__init__(name, **kwargs)\n"
     ]
    }
   ],
   "source": [
    "# cols = [\"user_id\", \"item_id\", \"age\", \"year\"]\n",
    "k = 64\n",
    "inputs = list()\n",
    "embedding_mlr_list = list()\n",
    "embedding_fm_list = list()\n",
    "for col in cols:\n",
    "    input_ = Input(shape=(), name=f\"Input_{col}\")\n",
    "    inputs.append(input_)\n",
    "    \n",
    "    input_dim = data[col].nunique()\n",
    "    z1 = Embedding(input_dim=input_dim, output_dim=1, name=f\"Embedding_1_{col}\")(input_)\n",
    "    embedding_mlr_list.append(z1)\n",
    "\n",
    "    logits_mlr\n",
    "    z2 = Embedding(input_dim=input_dim, output_dim=k, name=f\"Embedding_{k}_{col}\")(input_)\n",
    "    embedding_fm_list.append(z2)\n",
    "# Multivariate Linear Regression Part\n",
    "logits_mlr = tf.Variable((0.,)) + tf.math.add_n(embedding_mlr_list)\n",
    "\n",
    "# Factorization Machine Part\n",
    "z = tf.stack(embedding_fm_list, axis=1)\n",
    "logits_fm = 1/2*tf.math.reduce_sum(tf.math.square(tf.math.reduce_sum(z, axis=1)) - tf.math.reduce_sum(tf.math.square(z), axis=1), axis=1, keepdims=True)\n",
    "\n",
    "model = Model(inputs=inputs, outputs=logits_mlr + logits_fm, name=\"movielens100k_fm\")\n",
    "\n",
    "model.compile(optimizer=Adagrad(lr=0.05), loss=\"mse\", metrics=[\"mse\"])\n",
    "# model.summary()"
   ]
  },
  {
   "cell_type": "markdown",
   "metadata": {},
   "source": [
    "# Training"
   ]
  },
  {
   "cell_type": "code",
   "execution_count": 216,
   "metadata": {
    "ExecuteTime": {
     "end_time": "2022-01-17T08:33:52.171018Z",
     "start_time": "2022-01-17T08:33:23.000822Z"
    },
    "scrolled": true
   },
   "outputs": [
    {
     "name": "stdout",
     "output_type": "stream",
     "text": [
      "Epoch 1/64\n",
      "\n",
      "Epoch 00001: val_mse improved from inf to 0.96152, saving model to movielens100k_fm_tensorflow.h5\n",
      "282/282 - 5s - loss: 2.3649 - mse: 2.3649 - val_loss: 0.9615 - val_mse: 0.9615 - 5s/epoch - 19ms/step\n",
      "Epoch 2/64\n",
      "\n",
      "Epoch 00002: val_mse improved from 0.96152 to 0.91152, saving model to movielens100k_fm_tensorflow.h5\n",
      "282/282 - 3s - loss: 0.9117 - mse: 0.9117 - val_loss: 0.9115 - val_mse: 0.9115 - 3s/epoch - 10ms/step\n",
      "Epoch 3/64\n",
      "\n",
      "Epoch 00003: val_mse improved from 0.91152 to 0.90315, saving model to movielens100k_fm_tensorflow.h5\n",
      "282/282 - 3s - loss: 0.8821 - mse: 0.8821 - val_loss: 0.9031 - val_mse: 0.9031 - 3s/epoch - 9ms/step\n",
      "Epoch 4/64\n",
      "\n",
      "Epoch 00004: val_mse improved from 0.90315 to 0.88655, saving model to movielens100k_fm_tensorflow.h5\n",
      "282/282 - 2s - loss: 0.8694 - mse: 0.8694 - val_loss: 0.8866 - val_mse: 0.8866 - 2s/epoch - 9ms/step\n",
      "Epoch 5/64\n",
      "\n",
      "Epoch 00005: val_mse improved from 0.88655 to 0.88051, saving model to movielens100k_fm_tensorflow.h5\n",
      "282/282 - 3s - loss: 0.8571 - mse: 0.8571 - val_loss: 0.8805 - val_mse: 0.8805 - 3s/epoch - 9ms/step\n",
      "Epoch 6/64\n",
      "\n",
      "Epoch 00006: val_mse did not improve from 0.88051\n",
      "282/282 - 3s - loss: 0.8501 - mse: 0.8501 - val_loss: 0.8842 - val_mse: 0.8842 - 3s/epoch - 9ms/step\n",
      "Epoch 7/64\n",
      "\n",
      "Epoch 00007: val_mse improved from 0.88051 to 0.87861, saving model to movielens100k_fm_tensorflow.h5\n",
      "282/282 - 3s - loss: 0.8433 - mse: 0.8433 - val_loss: 0.8786 - val_mse: 0.8786 - 3s/epoch - 10ms/step\n",
      "Epoch 8/64\n",
      "\n",
      "Epoch 00008: val_mse improved from 0.87861 to 0.87860, saving model to movielens100k_fm_tensorflow.h5\n",
      "282/282 - 3s - loss: 0.8390 - mse: 0.8390 - val_loss: 0.8786 - val_mse: 0.8786 - 3s/epoch - 9ms/step\n",
      "Epoch 9/64\n",
      "\n",
      "Epoch 00009: val_mse did not improve from 0.87860\n",
      "282/282 - 3s - loss: 0.8334 - mse: 0.8334 - val_loss: 0.8814 - val_mse: 0.8814 - 3s/epoch - 9ms/step\n",
      "Epoch 10/64\n",
      "\n",
      "Epoch 00010: val_mse did not improve from 0.87860\n",
      "282/282 - 2s - loss: 0.8294 - mse: 0.8294 - val_loss: 0.8846 - val_mse: 0.8846 - 2s/epoch - 8ms/step\n",
      "Epoch 00010: early stopping\n"
     ]
    }
   ],
   "source": [
    "x = data[cols]\n",
    "y = data[[\"user_id\", \"item_id\", \"rating\"]]\n",
    "\n",
    "x_tr_val, x_te, y_tr_val, y_te = train_test_split(x, y, test_size=0.1, shuffle=True)\n",
    "x_tr_val = [ser.values for name, ser in x_tr_val.iteritems()]\n",
    "x_te = [ser.values for name, ser in x_te.iteritems()]\n",
    "y_tr_val = np.array(y_tr_val[\"rating\"])\n",
    "\n",
    "es = EarlyStopping(monitor=\"val_loss\", mode=\"auto\", verbose=1, patience=2)\n",
    "model_path = \"movielens100k_fm_tensorflow.h5\"\n",
    "mc = ModelCheckpoint(filepath=model_path, monitor=\"val_mse\", mode=\"auto\", verbose=1, save_best_only=True)\n",
    "hist = model.fit(x=x_tr_val, y=y_tr_val, validation_split=0.2, batch_size=256, epochs=64, verbose=2, shuffle=True, callbacks=[es, mc])"
   ]
  },
  {
   "cell_type": "code",
   "execution_count": 217,
   "metadata": {
    "ExecuteTime": {
     "end_time": "2022-01-17T08:33:52.346049Z",
     "start_time": "2022-01-17T08:33:52.174023Z"
    }
   },
   "outputs": [
    {
     "data": {
      "image/png": "[encoded data removed]",
      "text/plain": [
       "<Figure size 576x576 with 1 Axes>"
      ]
     },
     "metadata": {},
     "output_type": "display_data"
    }
   ],
   "source": [
    "fig, axes = plt.subplots(figsize=(8, 8))\n",
    "axes.plot(hist.history[\"loss\"][1:], label=\"loss\");\n",
    "axes.plot(hist.history[\"val_loss\"][1:], label=\"val_loss\");\n",
    "axes.legend();"
   ]
  },
  {
   "cell_type": "markdown",
   "metadata": {},
   "source": [
    "# Recommendation"
   ]
  },
  {
   "cell_type": "code",
   "execution_count": 225,
   "metadata": {
    "ExecuteTime": {
     "end_time": "2022-01-17T08:39:45.883651Z",
     "start_time": "2022-01-17T08:39:45.262476Z"
    }
   },
   "outputs": [
    {
     "name": "stdout",
     "output_type": "stream",
     "text": [
      "MAPE: 29.1%\n"
     ]
    }
   ],
   "source": [
    "preds = model.predict(x_te)\n",
    "preds = preds[:, 0]\n",
    "\n",
    "mape = MeanAbsolutePercentageError()(y_te[\"rating\"], preds).numpy()\n",
    "print(f\"MAPE: {mape:.3}%\")"
   ]
  },
  {
   "cell_type": "code",
   "execution_count": 226,
   "metadata": {
    "ExecuteTime": {
     "end_time": "2022-01-17T08:40:12.481042Z",
     "start_time": "2022-01-17T08:40:12.382960Z"
    }
   },
   "outputs": [
    {
     "name": "stdout",
     "output_type": "stream",
     "text": [
      "hit_ratio_like: 75.7%\n",
      "hit_ratio_dislike: 86.3%\n"
     ]
    }
   ],
   "source": [
    "res = copy.deepcopy(y_te)\n",
    "res[\"pred\"] = preds\n",
    "res = res.rename({\"rating\":\"gt\"}, axis=1)\n",
    "\n",
    "likes_gt = res[res[\"gt\"]>=4.0]\n",
    "dislikes_gt = res[res[\"gt\"]<=2.0]\n",
    "likes_pred = res[res[\"pred\"]>=4.0]\n",
    "dislikes_pred = res[res[\"pred\"]<=2.0]\n",
    "\n",
    "likes_gby_gt = likes_gt.groupby([\"user_id\"])[\"item_id\"].apply(set)\n",
    "likes_gby_pred = likes_pred.groupby([\"user_id\"])[\"item_id\"].apply(set)\n",
    "\n",
    "a = 0\n",
    "b = 0\n",
    "for i in likes_gby_pred.index:\n",
    "    if i in likes_gby_gt:\n",
    "        a += len(likes_gby_gt[i] & likes_gby_pred[i])\n",
    "        b += len(likes_gby_pred[i])\n",
    "hit_ratio_dislike = a/b\n",
    "\n",
    "dislikes_gby_gt = dislikes_gt.groupby([\"user_id\"])[\"item_id\"].apply(set)\n",
    "dislikes_gby_pred = dislikes_pred.groupby([\"user_id\"])[\"item_id\"].apply(set)\n",
    "\n",
    "a = 0\n",
    "b = 0\n",
    "for i in dislikes_gby_pred.index:\n",
    "    if i in dislikes_gby_gt:\n",
    "        a += len(dislikes_gby_gt[i] & dislikes_gby_pred[i])\n",
    "        b += len(dislikes_gby_pred[i])\n",
    "hit_ratio_like = a/b\n",
    "\n",
    "print(f\"hit_ratio_like: {hit_ratio_like:.1%}\")\n",
    "print(f\"hit_ratio_dislike: {hit_ratio_dislike:.1%}\")"
   ]
  }
 ],
 "metadata": {
  "hide_input": false,
  "kernelspec": {
   "display_name": "Python 3",
   "language": "python",
   "name": "python3"
  },
  "language_info": {
   "codemirror_mode": {
    "name": "ipython",
    "version": 3
   },
   "file_extension": ".py",
   "mimetype": "text/x-python",
   "name": "python",
   "nbconvert_exporter": "python",
   "pygments_lexer": "ipython3",
   "version": "3.8.5"
  },
  "toc": {
   "base_numbering": 1,
   "nav_menu": {},
   "number_sections": true,
   "sideBar": true,
   "skip_h1_title": false,
   "title_cell": "Table of Contents",
   "title_sidebar": "Contents",
   "toc_cell": true,
   "toc_position": {},
   "toc_section_display": true,
   "toc_window_display": false
  },
  "varInspector": {
   "cols": {
    "lenName": 16,
    "lenType": 16,
    "lenVar": 40
   },
   "kernels_config": {
    "python": {
     "delete_cmd_postfix": "",
     "delete_cmd_prefix": "del ",
     "library": "var_list.py",
     "varRefreshCmd": "print(var_dic_list())"
    },
    "r": {
     "delete_cmd_postfix": ") ",
     "delete_cmd_prefix": "rm(",
     "library": "var_list.r",
     "varRefreshCmd": "cat(var_dic_list()) "
    }
   },
   "types_to_exclude": [
    "module",
    "function",
    "builtin_function_or_method",
    "instance",
    "_Feature"
   ],
   "window_display": false
  }
 },
 "nbformat": 4,
 "nbformat_minor": 4
}
