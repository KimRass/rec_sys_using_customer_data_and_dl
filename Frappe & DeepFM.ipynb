{
 "cells": [
  {
   "cell_type": "markdown",
   "metadata": {
    "toc": true
   },
   "source": [
    "<h1>Table of Contents<span class=\"tocSkip\"></span></h1>\n",
    "<div class=\"toc\"><ul class=\"toc-item\"><li><span><a href=\"#Modeling\" data-toc-modified-id=\"Modeling-1\"><span class=\"toc-item-num\">1&nbsp;&nbsp;</span>Modeling</a></span></li><li><span><a href=\"#Negative-Sampling\" data-toc-modified-id=\"Negative-Sampling-2\"><span class=\"toc-item-num\">2&nbsp;&nbsp;</span>Negative Sampling</a></span></li></ul></div>"
   ]
  },
  {
   "cell_type": "code",
   "execution_count": 484,
   "metadata": {
    "ExecuteTime": {
     "end_time": "2022-01-18T14:38:32.200545Z",
     "start_time": "2022-01-18T14:38:32.188544Z"
    }
   },
   "outputs": [],
   "source": [
    "# for col, z in inputs.items():\n",
    "#     print(col, z)\n",
    "#     embedding_mlr_list[col] = Embedding(input_dim=data[col].nunique(), output_dim=1, name=f\"Embedding_{col}\")(z)\n",
    "\n",
    "# embedding_mlr_list = []\n",
    "# for col in data.columns:\n",
    "#     if col != \"cnt\":\n",
    "#         embedding_mlr_list.append(Embedding(input_dim= data[col].nunique(), output_dim=1, name=f\"{col}_lr_emb\")(inputs[col]))\n",
    "\n",
    "# class LR(Layer):\n",
    "#     def build(self, input_shape):\n",
    "#         # 레이어 연결시 0으로 초기화된 학습 가중치 생성\n",
    "#         self.b = self.add_weight(shape=(1, ), initializer=\"zeros\", trainable=True)\n",
    "#         super().build(input_shape)\n",
    "    \n",
    "#     def call(self, inputs, **kwargs):\n",
    "#         logits = tf.add_n(inputs) + self.b\n",
    "#         return logits\n",
    "\n",
    "# # Order-2 Part\n",
    "# dim = 8\n",
    "# embedding_fm_list = []\n",
    "# for col in data.columns:\n",
    "#     if col != \"cnt\":\n",
    "# #         fm_embedding_mlr_list.append(Embedding(input_dim= data[col].nunique(), output_dim=dim, name=f\"{col}_fm_emb\")(inputs[col]))\n",
    "#         print(Embedding(input_dim= data[col].nunique(), output_dim=dim, name=f\"{col}_fm_emb\").get_weights)\n",
    "\n",
    "# batch_size = 512\n",
    "\n",
    "# train_set = tf.data.Dataset.from_tensor_slices(({k:v.values.astype(\"int16\") for k, v in train_x.iteritems()}, train_y.values)).shuffle(len(train_x)).batch(batch_size, drop_remainder=True)\n",
    "# test_set = tf.data.Dataset.from_tensor_slices(({k:v.values.astype(\"int16\") for k, v in test_x.iteritems()}, test_y.values)).shuffle(len(test_x)).batch(batch_size, drop_remainder=True)\n",
    "\n",
    "# cat2idx = {}\n",
    "# cat2size = {}\n",
    "# for col in data.columns:\n",
    "#     if col != \"cnt\":\n",
    "#         data[col] = data[col].astype(\"category\")\n",
    "        \n",
    "#         cat2idx[col] = {cat:idx for idx, cat in enumerate(data[col].cat.categories)}\n",
    "#         cat2size[col] = len(data[col].cat.categories)\n",
    "\n",
    "# for col, dic in cat2idx.items():\n",
    "#     data[col] = data[col].map(dic)"
   ]
  },
  {
   "cell_type": "code",
   "execution_count": 485,
   "metadata": {
    "ExecuteTime": {
     "end_time": "2022-01-18T14:38:32.231582Z",
     "start_time": "2022-01-18T14:38:32.203547Z"
    },
    "scrolled": false
   },
   "outputs": [],
   "source": [
    "import numpy as np\n",
    "import pandas as pd\n",
    "import tensorflow as tf\n",
    "from tensorflow.keras import Input, Model, Sequential\n",
    "from tensorflow.keras.preprocessing import image_dataset_from_directory\n",
    "from tensorflow.keras.preprocessing.sequence import pad_sequences\n",
    "from tensorflow.keras.preprocessing.image import load_img, img_to_array, ImageDataGenerator\n",
    "from tensorflow.keras.layers import Layer, Dense, Flatten, Dropout, Concatenate, Add, Dot, Multiply, Reshape, Activation, BatchNormalization, SimpleRNNCell, RNN, SimpleRNN, LSTM, Embedding, Bidirectional, TimeDistributed, Conv1D, Conv2D, MaxPool1D, MaxPool2D, GlobalMaxPool1D, GlobalMaxPool2D, AveragePooling1D, AveragePooling2D, GlobalAveragePooling1D, GlobalAveragePooling2D, ZeroPadding2D\n",
    "from tensorflow.keras.optimizers import SGD, Adam, Adagrad\n",
    "from tensorflow.keras.metrics import MeanSquaredError, RootMeanSquaredError, MeanAbsoluteError, MeanAbsolutePercentageError, BinaryCrossentropy, CategoricalCrossentropy, SparseCategoricalCrossentropy, CosineSimilarity\n",
    "from tensorflow.keras.layers.experimental.preprocessing import Rescaling\n",
    "from tensorflow.keras.callbacks import EarlyStopping, ModelCheckpoint\n",
    "from tensorflow.keras.activations import linear, sigmoid, relu\n",
    "from tensorflow.keras.initializers import RandomNormal, glorot_uniform, he_uniform, Constant\n",
    "from tensorflow.keras.models import load_model\n",
    "import matplotlib.pyplot as plt\n",
    "import seaborn as sb\n",
    "import sklearn\n",
    "from sklearn.model_selection import train_test_split\n",
    "import random\n",
    "from tqdm.notebook import tqdm\n",
    "\n",
    "plt.style.use(\"dark_background\")"
   ]
  },
  {
   "cell_type": "code",
   "execution_count": 486,
   "metadata": {
    "ExecuteTime": {
     "end_time": "2022-01-18T14:38:32.437636Z",
     "start_time": "2022-01-18T14:38:32.236585Z"
    }
   },
   "outputs": [],
   "source": [
    "data = pd.read_csv(\"./Datasets/Frappe/frappe.csv\")\n",
    "metadata = pd.read_csv(\"./Datasets/Frappe/frappe_meta.csv\", sep=\"\\t\")\n",
    "\n",
    "# \"특정 상황에서 고객이 한번 쯤 사용해볼 것 같은 어플을 찾는 추천시스템\"으로 목표를 설정해 보겠습니다. 즉, 특정 상황에서 유저가 한번도 사용하지 않았던 어플 중 가장 관심있어 할만한 어플을 찾아주는 문제로 정의할 수 있습니다.\n",
    "# 1번 이상 로그가 있는 Context에 대해서는 모두 \"클릭을 했다\" 라는 의미로 `True`로 변경해줍니다.\n",
    "data[\"cnt\"] = True"
   ]
  },
  {
   "cell_type": "markdown",
   "metadata": {},
   "source": [
    "# Modeling"
   ]
  },
  {
   "cell_type": "code",
   "execution_count": 487,
   "metadata": {
    "ExecuteTime": {
     "end_time": "2022-01-18T14:38:32.675518Z",
     "start_time": "2022-01-18T14:38:32.440496Z"
    }
   },
   "outputs": [
    {
     "name": "stdout",
     "output_type": "stream",
     "text": [
      "Model: \"deepfm\"\n",
      "__________________________________________________________________________________________________\n",
      " Layer (type)                   Output Shape         Param #     Connected to                     \n",
      "==================================================================================================\n",
      " Input_user (InputLayer)        [(None,)]            0           []                               \n",
      "                                                                                                  \n",
      " Input_item (InputLayer)        [(None,)]            0           []                               \n",
      "                                                                                                  \n",
      " Input_daytime (InputLayer)     [(None,)]            0           []                               \n",
      "                                                                                                  \n",
      " Input_weekday (InputLayer)     [(None,)]            0           []                               \n",
      "                                                                                                  \n",
      " Input_isweekend (InputLayer)   [(None,)]            0           []                               \n",
      "                                                                                                  \n",
      " Input_homework (InputLayer)    [(None,)]            0           []                               \n",
      "                                                                                                  \n",
      " Input_cost (InputLayer)        [(None,)]            0           []                               \n",
      "                                                                                                  \n",
      " Input_weather (InputLayer)     [(None,)]            0           []                               \n",
      "                                                                                                  \n",
      " Input_country (InputLayer)     [(None,)]            0           []                               \n",
      "                                                                                                  \n",
      " Input_city (InputLayer)        [(None,)]            0           []                               \n",
      "                                                                                                  \n",
      " Embedding_fm_user (Embedding)  (None, 8)            6336        ['Input_user[0][0]']             \n",
      "                                                                                                  \n",
      " Embedding_fm_item (Embedding)  (None, 8)            16576       ['Input_item[0][0]']             \n",
      "                                                                                                  \n",
      " Embedding_fm_daytime (Embeddin  (None, 8)           56          ['Input_daytime[0][0]']          \n",
      " g)                                                                                               \n",
      "                                                                                                  \n",
      " Embedding_fm_weekday (Embeddin  (None, 8)           56          ['Input_weekday[0][0]']          \n",
      " g)                                                                                               \n",
      "                                                                                                  \n",
      " Embedding_fm_isweekend (Embedd  (None, 8)           16          ['Input_isweekend[0][0]']        \n",
      " ing)                                                                                             \n",
      "                                                                                                  \n",
      " Embedding_fm_homework (Embeddi  (None, 8)           24          ['Input_homework[0][0]']         \n",
      " ng)                                                                                              \n",
      "                                                                                                  \n",
      " Embedding_fm_cost (Embedding)  (None, 8)            16          ['Input_cost[0][0]']             \n",
      "                                                                                                  \n",
      " Embedding_fm_weather (Embeddin  (None, 8)           72          ['Input_weather[0][0]']          \n",
      " g)                                                                                               \n",
      "                                                                                                  \n",
      " Embedding_fm_country (Embeddin  (None, 8)           624         ['Input_country[0][0]']          \n",
      " g)                                                                                               \n",
      "                                                                                                  \n",
      " Embedding_fm_city (Embedding)  (None, 8)            1784        ['Input_city[0][0]']             \n",
      "                                                                                                  \n",
      " concatenate_40 (Concatenate)   (None, 80)           0           ['Embedding_fm_user[0][0]',      \n",
      "                                                                  'Embedding_fm_item[0][0]',      \n",
      "                                                                  'Embedding_fm_daytime[0][0]',   \n",
      "                                                                  'Embedding_fm_weekday[0][0]',   \n",
      "                                                                  'Embedding_fm_isweekend[0][0]', \n",
      "                                                                  'Embedding_fm_homework[0][0]',  \n",
      "                                                                  'Embedding_fm_cost[0][0]',      \n",
      "                                                                  'Embedding_fm_weather[0][0]',   \n",
      "                                                                  'Embedding_fm_country[0][0]',   \n",
      "                                                                  'Embedding_fm_city[0][0]']      \n",
      "                                                                                                  \n",
      " dense_124 (Dense)              (None, 256)          20736       ['concatenate_40[0][0]']         \n",
      "                                                                                                  \n",
      " tf.stack_34 (TFOpLambda)       (None, 10, 8)        0           ['Embedding_fm_user[0][0]',      \n",
      "                                                                  'Embedding_fm_item[0][0]',      \n",
      "                                                                  'Embedding_fm_daytime[0][0]',   \n",
      "                                                                  'Embedding_fm_weekday[0][0]',   \n",
      "                                                                  'Embedding_fm_isweekend[0][0]', \n",
      "                                                                  'Embedding_fm_homework[0][0]',  \n",
      "                                                                  'Embedding_fm_cost[0][0]',      \n",
      "                                                                  'Embedding_fm_weather[0][0]',   \n",
      "                                                                  'Embedding_fm_country[0][0]',   \n",
      "                                                                  'Embedding_fm_city[0][0]']      \n",
      "                                                                                                  \n",
      " dropout_93 (Dropout)           (None, 256)          0           ['dense_124[0][0]']              \n",
      "                                                                                                  \n",
      " tf.math.reduce_sum_102 (TFOpLa  (None, 8)           0           ['tf.stack_34[0][0]']            \n",
      " mbda)                                                                                            \n",
      "                                                                                                  \n",
      " tf.math.square_69 (TFOpLambda)  (None, 10, 8)       0           ['tf.stack_34[0][0]']            \n",
      "                                                                                                  \n",
      " dense_125 (Dense)              (None, 128)          32896       ['dropout_93[0][0]']             \n",
      "                                                                                                  \n",
      " tf.math.square_68 (TFOpLambda)  (None, 8)           0           ['tf.math.reduce_sum_102[0][0]'] \n",
      "                                                                                                  \n",
      " tf.math.reduce_sum_103 (TFOpLa  (None, 8)           0           ['tf.math.square_69[0][0]']      \n",
      " mbda)                                                                                            \n",
      "                                                                                                  \n",
      " dropout_94 (Dropout)           (None, 128)          0           ['dense_125[0][0]']              \n",
      "                                                                                                  \n",
      " Embedding_mlr_user (Embedding)  (None, 1)           792         ['Input_user[0][0]']             \n",
      "                                                                                                  \n",
      " Embedding_mlr_item (Embedding)  (None, 1)           2072        ['Input_item[0][0]']             \n",
      "                                                                                                  \n",
      " Embedding_mlr_daytime (Embeddi  (None, 1)           7           ['Input_daytime[0][0]']          \n",
      " ng)                                                                                              \n",
      "                                                                                                  \n",
      " Embedding_mlr_weekday (Embeddi  (None, 1)           7           ['Input_weekday[0][0]']          \n",
      " ng)                                                                                              \n",
      "                                                                                                  \n",
      " Embedding_mlr_isweekend (Embed  (None, 1)           2           ['Input_isweekend[0][0]']        \n",
      " ding)                                                                                            \n",
      "                                                                                                  \n",
      " Embedding_mlr_homework (Embedd  (None, 1)           3           ['Input_homework[0][0]']         \n",
      " ing)                                                                                             \n",
      "                                                                                                  \n",
      " Embedding_mlr_cost (Embedding)  (None, 1)           2           ['Input_cost[0][0]']             \n",
      "                                                                                                  \n",
      " Embedding_mlr_weather (Embeddi  (None, 1)           9           ['Input_weather[0][0]']          \n",
      " ng)                                                                                              \n",
      "                                                                                                  \n",
      " Embedding_mlr_country (Embeddi  (None, 1)           78          ['Input_country[0][0]']          \n",
      " ng)                                                                                              \n",
      "                                                                                                  \n",
      " Embedding_mlr_city (Embedding)  (None, 1)           223         ['Input_city[0][0]']             \n",
      "                                                                                                  \n",
      " tf.math.subtract_34 (TFOpLambd  (None, 8)           0           ['tf.math.square_68[0][0]',      \n",
      " a)                                                               'tf.math.reduce_sum_103[0][0]'] \n",
      "                                                                                                  \n",
      " dense_126 (Dense)              (None, 64)           8256        ['dropout_94[0][0]']             \n",
      "                                                                                                  \n",
      " tf.math.add_n_34 (TFOpLambda)  (None, 1)            0           ['Embedding_mlr_user[0][0]',     \n",
      "                                                                  'Embedding_mlr_item[0][0]',     \n",
      "                                                                  'Embedding_mlr_daytime[0][0]',  \n",
      "                                                                  'Embedding_mlr_weekday[0][0]',  \n",
      "                                                                  'Embedding_mlr_isweekend[0][0]',\n",
      "                                                                  'Embedding_mlr_homework[0][0]', \n",
      "                                                                  'Embedding_mlr_cost[0][0]',     \n",
      "                                                                  'Embedding_mlr_weather[0][0]',  \n",
      "                                                                  'Embedding_mlr_country[0][0]',  \n",
      "                                                                  'Embedding_mlr_city[0][0]']     \n",
      "                                                                                                  \n",
      " tf.math.reduce_sum_104 (TFOpLa  (None, 1)           0           ['tf.math.subtract_34[0][0]']    \n",
      " mbda)                                                                                            \n",
      "                                                                                                  \n",
      " dropout_95 (Dropout)           (None, 64)           0           ['dense_126[0][0]']              \n",
      "                                                                                                  \n",
      " tf.__operators__.add_34 (TFOpL  (None, 1)           0           ['tf.math.add_n_34[0][0]']       \n",
      " ambda)                                                                                           \n",
      "                                                                                                  \n",
      " tf.math.multiply_34 (TFOpLambd  (None, 1)           0           ['tf.math.reduce_sum_104[0][0]'] \n",
      " a)                                                                                               \n",
      "                                                                                                  \n",
      " dense_127 (Dense)              (None, 1)            65          ['dropout_95[0][0]']             \n",
      "                                                                                                  \n",
      " add_30 (Add)                   (None, 1)            0           ['tf.__operators__.add_34[0][0]',\n",
      "                                                                  'tf.math.multiply_34[0][0]',    \n",
      "                                                                  'dense_127[0][0]']              \n",
      "                                                                                                  \n",
      " tf.math.sigmoid_28 (TFOpLambda  (None, 1)           0           ['add_30[0][0]']                 \n",
      " )                                                                                                \n",
      "                                                                                                  \n",
      "==================================================================================================\n",
      "Total params: 90,708\n",
      "Trainable params: 90,708\n",
      "Non-trainable params: 0\n",
      "__________________________________________________________________________________________________\n"
     ]
    }
   ],
   "source": [
    "output_dim = 8\n",
    "inputs = dict()\n",
    "embedding_mlr_list = list()\n",
    "embedding_fm_list = list()\n",
    "for col in data.columns:\n",
    "    if col != \"cnt\":\n",
    "        input_dim = data[col].nunique()\n",
    "        z = Input(shape=(), name=f\"Input_{col}\")\n",
    "        inputs[col] = z\n",
    "\n",
    "        # Order-1 Part\n",
    "        z1 = Embedding(input_dim=input_dim, output_dim=1, name=f\"Embedding_mlr_{col}\")(z)\n",
    "        embedding_mlr_list.append(z1)\n",
    "        \n",
    "        # Order-2 Part\n",
    "        z2 = Embedding(input_dim=input_dim, output_dim=output_dim, name=f\"Embedding_fm_{col}\")(z)\n",
    "        embedding_fm_list.append(z2)\n",
    "logits_mlr = tf.Variable((0.,)) + tf.math.add_n(embedding_mlr_list)\n",
    "\n",
    "# Order-2 Part\n",
    "z = tf.stack(embedding_fm_list, axis=1)\n",
    "logits_fm = 1/2*tf.math.reduce_sum(tf.math.square(tf.math.reduce_sum(z, axis=1)) - tf.math.reduce_sum(tf.math.square(z), axis=1), axis=1, keepdims=True)\n",
    "\n",
    "# Order-3 Part\n",
    "z = Concatenate(axis=1)(embedding_fm_list)\n",
    "z = Dense(units=256, activation=\"relu\")(z)\n",
    "z = Dropout(rate=0.5)(z)\n",
    "z = Dense(units=128, activation=\"relu\")(z)\n",
    "z = Dropout(rate=0.5)(z)\n",
    "z = Dense(units=64, activation=\"relu\")(z)\n",
    "z = Dropout(rate=0.5)(z)\n",
    "logits_mlp = Dense(units=1)(z)\n",
    "\n",
    "z = Add()([logits_mlr, logits_fm, logits_mlp])\n",
    "logits = sigmoid(z)\n",
    "model = Model(inputs=inputs, outputs=logits, name=\"deepfm\")\n",
    "\n",
    "model.compile(optimizer=Adagrad(), loss=\"binary_crossentropy\", metrics=[\"acc\"])\n",
    "model.summary()"
   ]
  },
  {
   "cell_type": "markdown",
   "metadata": {},
   "source": [
    "# Negative Sampling\n",
    "- 현재 해당 데이터는 특정 컨택스트에서 고객의 앱에 대한 사용 여부로서 \"Positive\" 데이터만 존재하고 있습니다. 즉, 고객 행동의 긍정적인 행동만 기록되어있다는 것입니다. 우리는 고객이 클릭하지 않은 앱에 대한 사용 여부, 즉 Positive 데이터 한개당 Negative 데이터 3개씩을 생성하되 item 이외의 다른 feature는 고정하고 item을 무작위로 결정하는 식으로 진행해보도록 하겠습니다."
   ]
  },
  {
   "cell_type": "code",
   "execution_count": 488,
   "metadata": {
    "ExecuteTime": {
     "end_time": "2022-01-18T14:38:32.690557Z",
     "start_time": "2022-01-18T14:38:32.678517Z"
    }
   },
   "outputs": [],
   "source": [
    "def negative_sampling(data, n):\n",
    "    data_neg = pd.concat([data]*n)\n",
    "    data_neg = data_neg.reset_index(drop=True)\n",
    "    item_cnt = data.groupby([\"item\"])[\"cnt\"].sum()\n",
    "    # data_neg[\"item\"] = random.choices(item_cnt.index, k=len(data_neg), weights=item_cnt.values)\n",
    "    data_neg[\"item\"] = random.choices(item_cnt.index, k=len(data_neg))\n",
    "    data_neg[\"cnt\"] = False\n",
    "\n",
    "    data = pd.concat([data, data_neg], axis=0)\n",
    "    data = data.drop_duplicates(data.columns.drop([\"cnt\"]))\n",
    "    data = data.reset_index(drop=True)\n",
    "    return data"
   ]
  },
  {
   "cell_type": "code",
   "execution_count": 489,
   "metadata": {
    "ExecuteTime": {
     "end_time": "2022-01-18T14:38:43.497802Z",
     "start_time": "2022-01-18T14:38:32.692518Z"
    }
   },
   "outputs": [
    {
     "name": "stdout",
     "output_type": "stream",
     "text": [
      "Epoch 1/3\n",
      "\n",
      "Epoch 00001: val_loss improved from inf to 0.44092, saving model to .\\frappe_deepfm.h5\n",
      "1042/1042 - 7s - loss: 0.6457 - acc: 0.6707 - val_loss: 0.4409 - val_acc: 1.0000 - 7s/epoch - 6ms/step\n",
      "Epoch 2/3\n"
     ]
    },
    {
     "name": "stderr",
     "output_type": "stream",
     "text": [
      "C:\\Users\\82104\\anaconda3\\lib\\site-packages\\keras\\engine\\functional.py:1410: CustomMaskWarning: Custom mask layers require a config and must override get_config. When loading, the custom mask layer must be passed to the custom_objects argument.\n",
      "  layer_config = serialize_layer_fn(layer)\n"
     ]
    },
    {
     "ename": "KeyboardInterrupt",
     "evalue": "",
     "output_type": "error",
     "traceback": [
      "\u001b[1;31m---------------------------------------------------------------------------\u001b[0m",
      "\u001b[1;31mKeyboardInterrupt\u001b[0m                         Traceback (most recent call last)",
      "\u001b[1;32m<ipython-input-489-eade753d2c31>\u001b[0m in \u001b[0;36m<module>\u001b[1;34m\u001b[0m\n\u001b[0;32m     23\u001b[0m \u001b[0mmc\u001b[0m \u001b[1;33m=\u001b[0m \u001b[0mModelCheckpoint\u001b[0m\u001b[1;33m(\u001b[0m\u001b[0mfilepath\u001b[0m\u001b[1;33m=\u001b[0m\u001b[0mmodel_path\u001b[0m\u001b[1;33m,\u001b[0m \u001b[0mmonito\u001b[0m\u001b[1;33m=\u001b[0m\u001b[1;34m\"val_acc\"\u001b[0m\u001b[1;33m,\u001b[0m \u001b[0mverbose\u001b[0m\u001b[1;33m=\u001b[0m\u001b[1;36m1\u001b[0m\u001b[1;33m,\u001b[0m \u001b[0msave_best_only\u001b[0m\u001b[1;33m=\u001b[0m\u001b[1;32mTrue\u001b[0m\u001b[1;33m)\u001b[0m\u001b[1;33m\u001b[0m\u001b[1;33m\u001b[0m\u001b[0m\n\u001b[0;32m     24\u001b[0m \u001b[0mbatch_size\u001b[0m \u001b[1;33m=\u001b[0m \u001b[1;36m256\u001b[0m\u001b[1;33m\u001b[0m\u001b[1;33m\u001b[0m\u001b[0m\n\u001b[1;32m---> 25\u001b[1;33m \u001b[0mhist\u001b[0m \u001b[1;33m=\u001b[0m \u001b[0mmodel\u001b[0m\u001b[1;33m.\u001b[0m\u001b[0mfit\u001b[0m\u001b[1;33m(\u001b[0m\u001b[0mx\u001b[0m\u001b[1;33m=\u001b[0m\u001b[0mtr_val_X\u001b[0m\u001b[1;33m,\u001b[0m \u001b[0my\u001b[0m\u001b[1;33m=\u001b[0m\u001b[0mtr_val_y\u001b[0m\u001b[1;33m,\u001b[0m \u001b[0mvalidation_split\u001b[0m\u001b[1;33m=\u001b[0m\u001b[1;36m0.2\u001b[0m\u001b[1;33m,\u001b[0m \u001b[0mshuffle\u001b[0m\u001b[1;33m=\u001b[0m\u001b[1;32mTrue\u001b[0m\u001b[1;33m,\u001b[0m \u001b[0mbatch_size\u001b[0m\u001b[1;33m=\u001b[0m\u001b[0mbatch_size\u001b[0m\u001b[1;33m,\u001b[0m \u001b[0mepochs\u001b[0m\u001b[1;33m=\u001b[0m\u001b[1;36m3\u001b[0m\u001b[1;33m,\u001b[0m \u001b[0mverbose\u001b[0m\u001b[1;33m=\u001b[0m\u001b[1;36m2\u001b[0m\u001b[1;33m,\u001b[0m \u001b[0mcallbacks\u001b[0m\u001b[1;33m=\u001b[0m\u001b[1;33m[\u001b[0m\u001b[0mes\u001b[0m\u001b[1;33m,\u001b[0m \u001b[0mmc\u001b[0m\u001b[1;33m]\u001b[0m\u001b[1;33m)\u001b[0m\u001b[1;33m\u001b[0m\u001b[1;33m\u001b[0m\u001b[0m\n\u001b[0m",
      "\u001b[1;32m~\\anaconda3\\lib\\site-packages\\keras\\utils\\traceback_utils.py\u001b[0m in \u001b[0;36merror_handler\u001b[1;34m(*args, **kwargs)\u001b[0m\n\u001b[0;32m     62\u001b[0m     \u001b[0mfiltered_tb\u001b[0m \u001b[1;33m=\u001b[0m \u001b[1;32mNone\u001b[0m\u001b[1;33m\u001b[0m\u001b[1;33m\u001b[0m\u001b[0m\n\u001b[0;32m     63\u001b[0m     \u001b[1;32mtry\u001b[0m\u001b[1;33m:\u001b[0m\u001b[1;33m\u001b[0m\u001b[1;33m\u001b[0m\u001b[0m\n\u001b[1;32m---> 64\u001b[1;33m       \u001b[1;32mreturn\u001b[0m \u001b[0mfn\u001b[0m\u001b[1;33m(\u001b[0m\u001b[1;33m*\u001b[0m\u001b[0margs\u001b[0m\u001b[1;33m,\u001b[0m \u001b[1;33m**\u001b[0m\u001b[0mkwargs\u001b[0m\u001b[1;33m)\u001b[0m\u001b[1;33m\u001b[0m\u001b[1;33m\u001b[0m\u001b[0m\n\u001b[0m\u001b[0;32m     65\u001b[0m     \u001b[1;32mexcept\u001b[0m \u001b[0mException\u001b[0m \u001b[1;32mas\u001b[0m \u001b[0me\u001b[0m\u001b[1;33m:\u001b[0m  \u001b[1;31m# pylint: disable=broad-except\u001b[0m\u001b[1;33m\u001b[0m\u001b[1;33m\u001b[0m\u001b[0m\n\u001b[0;32m     66\u001b[0m       \u001b[0mfiltered_tb\u001b[0m \u001b[1;33m=\u001b[0m \u001b[0m_process_traceback_frames\u001b[0m\u001b[1;33m(\u001b[0m\u001b[0me\u001b[0m\u001b[1;33m.\u001b[0m\u001b[0m__traceback__\u001b[0m\u001b[1;33m)\u001b[0m\u001b[1;33m\u001b[0m\u001b[1;33m\u001b[0m\u001b[0m\n",
      "\u001b[1;32m~\\anaconda3\\lib\\site-packages\\keras\\engine\\training.py\u001b[0m in \u001b[0;36mfit\u001b[1;34m(self, x, y, batch_size, epochs, verbose, callbacks, validation_split, validation_data, shuffle, class_weight, sample_weight, initial_epoch, steps_per_epoch, validation_steps, validation_batch_size, validation_freq, max_queue_size, workers, use_multiprocessing)\u001b[0m\n\u001b[0;32m   1214\u001b[0m                 _r=1):\n\u001b[0;32m   1215\u001b[0m               \u001b[0mcallbacks\u001b[0m\u001b[1;33m.\u001b[0m\u001b[0mon_train_batch_begin\u001b[0m\u001b[1;33m(\u001b[0m\u001b[0mstep\u001b[0m\u001b[1;33m)\u001b[0m\u001b[1;33m\u001b[0m\u001b[1;33m\u001b[0m\u001b[0m\n\u001b[1;32m-> 1216\u001b[1;33m               \u001b[0mtmp_logs\u001b[0m \u001b[1;33m=\u001b[0m \u001b[0mself\u001b[0m\u001b[1;33m.\u001b[0m\u001b[0mtrain_function\u001b[0m\u001b[1;33m(\u001b[0m\u001b[0miterator\u001b[0m\u001b[1;33m)\u001b[0m\u001b[1;33m\u001b[0m\u001b[1;33m\u001b[0m\u001b[0m\n\u001b[0m\u001b[0;32m   1217\u001b[0m               \u001b[1;32mif\u001b[0m \u001b[0mdata_handler\u001b[0m\u001b[1;33m.\u001b[0m\u001b[0mshould_sync\u001b[0m\u001b[1;33m:\u001b[0m\u001b[1;33m\u001b[0m\u001b[1;33m\u001b[0m\u001b[0m\n\u001b[0;32m   1218\u001b[0m                 \u001b[0mcontext\u001b[0m\u001b[1;33m.\u001b[0m\u001b[0masync_wait\u001b[0m\u001b[1;33m(\u001b[0m\u001b[1;33m)\u001b[0m\u001b[1;33m\u001b[0m\u001b[1;33m\u001b[0m\u001b[0m\n",
      "\u001b[1;32m~\\anaconda3\\lib\\site-packages\\tensorflow\\python\\util\\traceback_utils.py\u001b[0m in \u001b[0;36merror_handler\u001b[1;34m(*args, **kwargs)\u001b[0m\n\u001b[0;32m    148\u001b[0m     \u001b[0mfiltered_tb\u001b[0m \u001b[1;33m=\u001b[0m \u001b[1;32mNone\u001b[0m\u001b[1;33m\u001b[0m\u001b[1;33m\u001b[0m\u001b[0m\n\u001b[0;32m    149\u001b[0m     \u001b[1;32mtry\u001b[0m\u001b[1;33m:\u001b[0m\u001b[1;33m\u001b[0m\u001b[1;33m\u001b[0m\u001b[0m\n\u001b[1;32m--> 150\u001b[1;33m       \u001b[1;32mreturn\u001b[0m \u001b[0mfn\u001b[0m\u001b[1;33m(\u001b[0m\u001b[1;33m*\u001b[0m\u001b[0margs\u001b[0m\u001b[1;33m,\u001b[0m \u001b[1;33m**\u001b[0m\u001b[0mkwargs\u001b[0m\u001b[1;33m)\u001b[0m\u001b[1;33m\u001b[0m\u001b[1;33m\u001b[0m\u001b[0m\n\u001b[0m\u001b[0;32m    151\u001b[0m     \u001b[1;32mexcept\u001b[0m \u001b[0mException\u001b[0m \u001b[1;32mas\u001b[0m \u001b[0me\u001b[0m\u001b[1;33m:\u001b[0m\u001b[1;33m\u001b[0m\u001b[1;33m\u001b[0m\u001b[0m\n\u001b[0;32m    152\u001b[0m       \u001b[0mfiltered_tb\u001b[0m \u001b[1;33m=\u001b[0m \u001b[0m_process_traceback_frames\u001b[0m\u001b[1;33m(\u001b[0m\u001b[0me\u001b[0m\u001b[1;33m.\u001b[0m\u001b[0m__traceback__\u001b[0m\u001b[1;33m)\u001b[0m\u001b[1;33m\u001b[0m\u001b[1;33m\u001b[0m\u001b[0m\n",
      "\u001b[1;32m~\\anaconda3\\lib\\site-packages\\tensorflow\\python\\eager\\def_function.py\u001b[0m in \u001b[0;36m__call__\u001b[1;34m(self, *args, **kwds)\u001b[0m\n\u001b[0;32m    908\u001b[0m \u001b[1;33m\u001b[0m\u001b[0m\n\u001b[0;32m    909\u001b[0m       \u001b[1;32mwith\u001b[0m \u001b[0mOptionalXlaContext\u001b[0m\u001b[1;33m(\u001b[0m\u001b[0mself\u001b[0m\u001b[1;33m.\u001b[0m\u001b[0m_jit_compile\u001b[0m\u001b[1;33m)\u001b[0m\u001b[1;33m:\u001b[0m\u001b[1;33m\u001b[0m\u001b[1;33m\u001b[0m\u001b[0m\n\u001b[1;32m--> 910\u001b[1;33m         \u001b[0mresult\u001b[0m \u001b[1;33m=\u001b[0m \u001b[0mself\u001b[0m\u001b[1;33m.\u001b[0m\u001b[0m_call\u001b[0m\u001b[1;33m(\u001b[0m\u001b[1;33m*\u001b[0m\u001b[0margs\u001b[0m\u001b[1;33m,\u001b[0m \u001b[1;33m**\u001b[0m\u001b[0mkwds\u001b[0m\u001b[1;33m)\u001b[0m\u001b[1;33m\u001b[0m\u001b[1;33m\u001b[0m\u001b[0m\n\u001b[0m\u001b[0;32m    911\u001b[0m \u001b[1;33m\u001b[0m\u001b[0m\n\u001b[0;32m    912\u001b[0m       \u001b[0mnew_tracing_count\u001b[0m \u001b[1;33m=\u001b[0m \u001b[0mself\u001b[0m\u001b[1;33m.\u001b[0m\u001b[0mexperimental_get_tracing_count\u001b[0m\u001b[1;33m(\u001b[0m\u001b[1;33m)\u001b[0m\u001b[1;33m\u001b[0m\u001b[1;33m\u001b[0m\u001b[0m\n",
      "\u001b[1;32m~\\anaconda3\\lib\\site-packages\\tensorflow\\python\\eager\\def_function.py\u001b[0m in \u001b[0;36m_call\u001b[1;34m(self, *args, **kwds)\u001b[0m\n\u001b[0;32m    940\u001b[0m       \u001b[1;31m# In this case we have created variables on the first call, so we run the\u001b[0m\u001b[1;33m\u001b[0m\u001b[1;33m\u001b[0m\u001b[1;33m\u001b[0m\u001b[0m\n\u001b[0;32m    941\u001b[0m       \u001b[1;31m# defunned version which is guaranteed to never create variables.\u001b[0m\u001b[1;33m\u001b[0m\u001b[1;33m\u001b[0m\u001b[1;33m\u001b[0m\u001b[0m\n\u001b[1;32m--> 942\u001b[1;33m       \u001b[1;32mreturn\u001b[0m \u001b[0mself\u001b[0m\u001b[1;33m.\u001b[0m\u001b[0m_stateless_fn\u001b[0m\u001b[1;33m(\u001b[0m\u001b[1;33m*\u001b[0m\u001b[0margs\u001b[0m\u001b[1;33m,\u001b[0m \u001b[1;33m**\u001b[0m\u001b[0mkwds\u001b[0m\u001b[1;33m)\u001b[0m  \u001b[1;31m# pylint: disable=not-callable\u001b[0m\u001b[1;33m\u001b[0m\u001b[1;33m\u001b[0m\u001b[0m\n\u001b[0m\u001b[0;32m    943\u001b[0m     \u001b[1;32melif\u001b[0m \u001b[0mself\u001b[0m\u001b[1;33m.\u001b[0m\u001b[0m_stateful_fn\u001b[0m \u001b[1;32mis\u001b[0m \u001b[1;32mnot\u001b[0m \u001b[1;32mNone\u001b[0m\u001b[1;33m:\u001b[0m\u001b[1;33m\u001b[0m\u001b[1;33m\u001b[0m\u001b[0m\n\u001b[0;32m    944\u001b[0m       \u001b[1;31m# Release the lock early so that multiple threads can perform the call\u001b[0m\u001b[1;33m\u001b[0m\u001b[1;33m\u001b[0m\u001b[1;33m\u001b[0m\u001b[0m\n",
      "\u001b[1;32m~\\anaconda3\\lib\\site-packages\\tensorflow\\python\\eager\\function.py\u001b[0m in \u001b[0;36m__call__\u001b[1;34m(self, *args, **kwargs)\u001b[0m\n\u001b[0;32m   3128\u001b[0m       (graph_function,\n\u001b[0;32m   3129\u001b[0m        filtered_flat_args) = self._maybe_define_function(args, kwargs)\n\u001b[1;32m-> 3130\u001b[1;33m     return graph_function._call_flat(\n\u001b[0m\u001b[0;32m   3131\u001b[0m         filtered_flat_args, captured_inputs=graph_function.captured_inputs)  # pylint: disable=protected-access\n\u001b[0;32m   3132\u001b[0m \u001b[1;33m\u001b[0m\u001b[0m\n",
      "\u001b[1;32m~\\anaconda3\\lib\\site-packages\\tensorflow\\python\\eager\\function.py\u001b[0m in \u001b[0;36m_call_flat\u001b[1;34m(self, args, captured_inputs, cancellation_manager)\u001b[0m\n\u001b[0;32m   1957\u001b[0m         and executing_eagerly):\n\u001b[0;32m   1958\u001b[0m       \u001b[1;31m# No tape is watching; skip to running the function.\u001b[0m\u001b[1;33m\u001b[0m\u001b[1;33m\u001b[0m\u001b[1;33m\u001b[0m\u001b[0m\n\u001b[1;32m-> 1959\u001b[1;33m       return self._build_call_outputs(self._inference_function.call(\n\u001b[0m\u001b[0;32m   1960\u001b[0m           ctx, args, cancellation_manager=cancellation_manager))\n\u001b[0;32m   1961\u001b[0m     forward_backward = self._select_forward_and_backward_functions(\n",
      "\u001b[1;32m~\\anaconda3\\lib\\site-packages\\tensorflow\\python\\eager\\function.py\u001b[0m in \u001b[0;36mcall\u001b[1;34m(self, ctx, args, cancellation_manager)\u001b[0m\n\u001b[0;32m    596\u001b[0m       \u001b[1;32mwith\u001b[0m \u001b[0m_InterpolateFunctionError\u001b[0m\u001b[1;33m(\u001b[0m\u001b[0mself\u001b[0m\u001b[1;33m)\u001b[0m\u001b[1;33m:\u001b[0m\u001b[1;33m\u001b[0m\u001b[1;33m\u001b[0m\u001b[0m\n\u001b[0;32m    597\u001b[0m         \u001b[1;32mif\u001b[0m \u001b[0mcancellation_manager\u001b[0m \u001b[1;32mis\u001b[0m \u001b[1;32mNone\u001b[0m\u001b[1;33m:\u001b[0m\u001b[1;33m\u001b[0m\u001b[1;33m\u001b[0m\u001b[0m\n\u001b[1;32m--> 598\u001b[1;33m           outputs = execute.execute(\n\u001b[0m\u001b[0;32m    599\u001b[0m               \u001b[0mstr\u001b[0m\u001b[1;33m(\u001b[0m\u001b[0mself\u001b[0m\u001b[1;33m.\u001b[0m\u001b[0msignature\u001b[0m\u001b[1;33m.\u001b[0m\u001b[0mname\u001b[0m\u001b[1;33m)\u001b[0m\u001b[1;33m,\u001b[0m\u001b[1;33m\u001b[0m\u001b[1;33m\u001b[0m\u001b[0m\n\u001b[0;32m    600\u001b[0m               \u001b[0mnum_outputs\u001b[0m\u001b[1;33m=\u001b[0m\u001b[0mself\u001b[0m\u001b[1;33m.\u001b[0m\u001b[0m_num_outputs\u001b[0m\u001b[1;33m,\u001b[0m\u001b[1;33m\u001b[0m\u001b[1;33m\u001b[0m\u001b[0m\n",
      "\u001b[1;32m~\\anaconda3\\lib\\site-packages\\tensorflow\\python\\eager\\execute.py\u001b[0m in \u001b[0;36mquick_execute\u001b[1;34m(op_name, num_outputs, inputs, attrs, ctx, name)\u001b[0m\n\u001b[0;32m     56\u001b[0m   \u001b[1;32mtry\u001b[0m\u001b[1;33m:\u001b[0m\u001b[1;33m\u001b[0m\u001b[1;33m\u001b[0m\u001b[0m\n\u001b[0;32m     57\u001b[0m     \u001b[0mctx\u001b[0m\u001b[1;33m.\u001b[0m\u001b[0mensure_initialized\u001b[0m\u001b[1;33m(\u001b[0m\u001b[1;33m)\u001b[0m\u001b[1;33m\u001b[0m\u001b[1;33m\u001b[0m\u001b[0m\n\u001b[1;32m---> 58\u001b[1;33m     tensors = pywrap_tfe.TFE_Py_Execute(ctx._handle, device_name, op_name,\n\u001b[0m\u001b[0;32m     59\u001b[0m                                         inputs, attrs, num_outputs)\n\u001b[0;32m     60\u001b[0m   \u001b[1;32mexcept\u001b[0m \u001b[0mcore\u001b[0m\u001b[1;33m.\u001b[0m\u001b[0m_NotOkStatusException\u001b[0m \u001b[1;32mas\u001b[0m \u001b[0me\u001b[0m\u001b[1;33m:\u001b[0m\u001b[1;33m\u001b[0m\u001b[1;33m\u001b[0m\u001b[0m\n",
      "\u001b[1;31mKeyboardInterrupt\u001b[0m: "
     ]
    }
   ],
   "source": [
    "for col in data.columns:\n",
    "    if col != \"cnt\":\n",
    "        data[col] = pd.Categorical(data[col])\n",
    "        data[col] = data[col].cat.codes\n",
    "\n",
    "# tr_val, te = train_test_split(data, test_size=0.1, shuffle=True, stratify=data[\"cnt\"])\n",
    "tr_val, te = train_test_split(data, test_size=0.1, shuffle=True)\n",
    "\n",
    "tr_val = negative_sampling(tr_val, 3)\n",
    "te = negative_sampling(te, 3)\n",
    "\n",
    "tr_val_X = tr_val.drop([\"cnt\"], axis=1)\n",
    "te_X = te.drop([\"cnt\"], axis=1)\n",
    "\n",
    "tr_val_X = {col:tr_val_X[col].values for col in tr_val_X.columns}\n",
    "te_X = {col:te_X[col].values for col in te_X.columns}\n",
    "\n",
    "tr_val_y = tr_val[[\"cnt\"]].values\n",
    "te_y = te[[\"cnt\"]].values\n",
    "\n",
    "es = EarlyStopping(monitor=\"val_loss\", mode=\"auto\", verbose=1, patience=3)\n",
    "model_path = \"./frappe_deepfm.h5\"\n",
    "mc = ModelCheckpoint(filepath=model_path, monito=\"val_acc\", verbose=1, save_best_only=True)\n",
    "batch_size = 256\n",
    "hist = model.fit(x=tr_val_X, y=tr_val_y, validation_split=0.2, shuffle=True, batch_size=batch_size, epochs=3, verbose=2, callbacks=[es, mc])"
   ]
  },
  {
   "cell_type": "code",
   "execution_count": null,
   "metadata": {
    "ExecuteTime": {
     "end_time": "2022-01-18T14:38:43.500788Z",
     "start_time": "2022-01-18T14:38:32.204Z"
    }
   },
   "outputs": [],
   "source": [
    "tr_val_X"
   ]
  },
  {
   "cell_type": "code",
   "execution_count": null,
   "metadata": {
    "ExecuteTime": {
     "end_time": "2022-01-18T14:38:43.501785Z",
     "start_time": "2022-01-18T14:38:32.206Z"
    }
   },
   "outputs": [],
   "source": [
    "te_y"
   ]
  },
  {
   "cell_type": "code",
   "execution_count": null,
   "metadata": {
    "ExecuteTime": {
     "end_time": "2022-01-18T14:38:43.503785Z",
     "start_time": "2022-01-18T14:38:32.209Z"
    }
   },
   "outputs": [],
   "source": [
    "model.predict(te_X)"
   ]
  },
  {
   "cell_type": "code",
   "execution_count": null,
   "metadata": {
    "ExecuteTime": {
     "end_time": "2022-01-18T14:38:43.504787Z",
     "start_time": "2022-01-18T14:38:32.211Z"
    }
   },
   "outputs": [],
   "source": [
    "fig, axes = plt.subplots(figsize=(8, 8))\n",
    "axes.plot(hist.history[\"loss\"][1:], label=\"loss\");\n",
    "axes.plot(hist.history[\"val_loss\"][1:], label=\"val_loss\");\n",
    "axes.legend();"
   ]
  },
  {
   "cell_type": "code",
   "execution_count": null,
   "metadata": {
    "ExecuteTime": {
     "end_time": "2022-01-18T14:38:43.505787Z",
     "start_time": "2022-01-18T14:38:32.212Z"
    }
   },
   "outputs": [],
   "source": [
    "model.predict(te_X)"
   ]
  },
  {
   "cell_type": "code",
   "execution_count": null,
   "metadata": {
    "ExecuteTime": {
     "end_time": "2022-01-18T14:38:43.506787Z",
     "start_time": "2022-01-18T14:38:32.214Z"
    }
   },
   "outputs": [],
   "source": [
    "te_y"
   ]
  }
 ],
 "metadata": {
  "hide_input": false,
  "kernelspec": {
   "display_name": "Python 3",
   "language": "python",
   "name": "python3"
  },
  "language_info": {
   "codemirror_mode": {
    "name": "ipython",
    "version": 3
   },
   "file_extension": ".py",
   "mimetype": "text/x-python",
   "name": "python",
   "nbconvert_exporter": "python",
   "pygments_lexer": "ipython3",
   "version": "3.8.5"
  },
  "toc": {
   "base_numbering": 1,
   "nav_menu": {},
   "number_sections": true,
   "sideBar": true,
   "skip_h1_title": false,
   "title_cell": "Table of Contents",
   "title_sidebar": "Contents",
   "toc_cell": true,
   "toc_position": {},
   "toc_section_display": true,
   "toc_window_display": false
  },
  "varInspector": {
   "cols": {
    "lenName": 16,
    "lenType": 16,
    "lenVar": 40
   },
   "kernels_config": {
    "python": {
     "delete_cmd_postfix": "",
     "delete_cmd_prefix": "del ",
     "library": "var_list.py",
     "varRefreshCmd": "print(var_dic_list())"
    },
    "r": {
     "delete_cmd_postfix": ") ",
     "delete_cmd_prefix": "rm(",
     "library": "var_list.r",
     "varRefreshCmd": "cat(var_dic_list()) "
    }
   },
   "types_to_exclude": [
    "module",
    "function",
    "builtin_function_or_method",
    "instance",
    "_Feature"
   ],
   "window_display": false
  }
 },
 "nbformat": 4,
 "nbformat_minor": 2
}
