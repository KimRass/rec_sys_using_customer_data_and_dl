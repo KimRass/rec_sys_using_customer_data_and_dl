{
 "cells": [
  {
   "cell_type": "markdown",
   "metadata": {},
   "source": [
    "# Collaborative Filtering\n",
    "- collaborative filtering에서는 사용자와 아이템 간 상호작용 데이터를 바탕으로 어떤 사용자와 유사한 취향을 가진 사용자가 좋아하는 아이템을 추천하거나(user-based collaborative filtering) 어떤 아이템과 유사한 아이템을 추천합니다(item-based collaborative filtering).\n",
    "- 사용자나 아이템의 세부정보와 다르게 상호작용 데이터는 시스템을 운영하면서 자연스럽게 축적되므로 데이터를 수집하고 정제하는 데 별도의 시간이 소요되지 않습니다.\n",
    "- 여기서 핵심은 유사도를 어떻게 정의하는가입니다."
   ]
  },
  {
   "cell_type": "code",
   "execution_count": 2,
   "metadata": {
    "ExecuteTime": {
     "end_time": "2022-01-11T13:16:23.093883Z",
     "start_time": "2022-01-11T13:16:18.550618Z"
    }
   },
   "outputs": [],
   "source": [
    "import os\n",
    "import numpy as np\n",
    "import pandas as pd\n",
    "from datetime import datetime\n",
    "from tensorflow.keras.utils import get_file\n",
    "from itertools import combinations\n",
    "import matplotlib.pyplot as plt\n",
    "from google_drive_downloader import GoogleDriveDownloader as gdd"
   ]
  },
  {
   "cell_type": "code",
   "execution_count": 3,
   "metadata": {
    "ExecuteTime": {
     "end_time": "2022-01-11T13:16:30.848431Z",
     "start_time": "2022-01-11T13:16:23.127866Z"
    }
   },
   "outputs": [],
   "source": [
    "movies = pd.read_csv(\"./Datasets/MovieLens/movies.csv\", index_col=0)\n",
    "genres = pd.read_csv(\"./Datasets/MovieLens/genres.csv\", index_col=0)\n",
    "gdd.download_file_from_google_drive(file_id=\"15vsm-VWAC3Y-7jr7ROL_xy0ufkIfqSke\", dest_path=\"D:/ratings.csv\")\n",
    "ratings = pd.read_csv(\"D:/ratings.csv\")\n",
    "ratings = ratings.drop([\"Unnamed: 0\"], axis=1)"
   ]
  },
  {
   "cell_type": "markdown",
   "metadata": {},
   "source": [
    "- 다음 5개 영화를 대상으로 알아보겠습니다."
   ]
  },
  {
   "cell_type": "code",
   "execution_count": 4,
   "metadata": {
    "ExecuteTime": {
     "end_time": "2022-01-11T13:18:10.433055Z",
     "start_time": "2022-01-11T13:18:10.396044Z"
    }
   },
   "outputs": [
    {
     "data": {
      "text/html": [
       "<div>\n",
       "<style scoped>\n",
       "    .dataframe tbody tr th:only-of-type {\n",
       "        vertical-align: middle;\n",
       "    }\n",
       "\n",
       "    .dataframe tbody tr th {\n",
       "        vertical-align: top;\n",
       "    }\n",
       "\n",
       "    .dataframe thead th {\n",
       "        text-align: right;\n",
       "    }\n",
       "</style>\n",
       "<table border=\"1\" class=\"dataframe\">\n",
       "  <thead>\n",
       "    <tr style=\"text-align: right;\">\n",
       "      <th></th>\n",
       "      <th>id</th>\n",
       "      <th>title</th>\n",
       "      <th>release_year</th>\n",
       "      <th>movie_id</th>\n",
       "      <th>genre</th>\n",
       "    </tr>\n",
       "  </thead>\n",
       "  <tbody>\n",
       "    <tr>\n",
       "      <th>0</th>\n",
       "      <td>215</td>\n",
       "      <td>Before Sunrise</td>\n",
       "      <td>1995</td>\n",
       "      <td>215</td>\n",
       "      <td>Drama</td>\n",
       "    </tr>\n",
       "    <tr>\n",
       "      <th>1</th>\n",
       "      <td>215</td>\n",
       "      <td>Before Sunrise</td>\n",
       "      <td>1995</td>\n",
       "      <td>215</td>\n",
       "      <td>Romance</td>\n",
       "    </tr>\n",
       "    <tr>\n",
       "      <th>2</th>\n",
       "      <td>2232</td>\n",
       "      <td>Cube</td>\n",
       "      <td>1997</td>\n",
       "      <td>2232</td>\n",
       "      <td>Horror</td>\n",
       "    </tr>\n",
       "    <tr>\n",
       "      <th>3</th>\n",
       "      <td>2232</td>\n",
       "      <td>Cube</td>\n",
       "      <td>1997</td>\n",
       "      <td>2232</td>\n",
       "      <td>Mystery</td>\n",
       "    </tr>\n",
       "    <tr>\n",
       "      <th>4</th>\n",
       "      <td>2232</td>\n",
       "      <td>Cube</td>\n",
       "      <td>1997</td>\n",
       "      <td>2232</td>\n",
       "      <td>Sci-Fi</td>\n",
       "    </tr>\n",
       "    <tr>\n",
       "      <th>5</th>\n",
       "      <td>2232</td>\n",
       "      <td>Cube</td>\n",
       "      <td>1997</td>\n",
       "      <td>2232</td>\n",
       "      <td>Thriller</td>\n",
       "    </tr>\n",
       "    <tr>\n",
       "      <th>6</th>\n",
       "      <td>6323</td>\n",
       "      <td>Identity</td>\n",
       "      <td>2003</td>\n",
       "      <td>6323</td>\n",
       "      <td>Crime</td>\n",
       "    </tr>\n",
       "    <tr>\n",
       "      <th>7</th>\n",
       "      <td>6323</td>\n",
       "      <td>Identity</td>\n",
       "      <td>2003</td>\n",
       "      <td>6323</td>\n",
       "      <td>Horror</td>\n",
       "    </tr>\n",
       "    <tr>\n",
       "      <th>8</th>\n",
       "      <td>6323</td>\n",
       "      <td>Identity</td>\n",
       "      <td>2003</td>\n",
       "      <td>6323</td>\n",
       "      <td>Mystery</td>\n",
       "    </tr>\n",
       "    <tr>\n",
       "      <th>9</th>\n",
       "      <td>6323</td>\n",
       "      <td>Identity</td>\n",
       "      <td>2003</td>\n",
       "      <td>6323</td>\n",
       "      <td>Thriller</td>\n",
       "    </tr>\n",
       "    <tr>\n",
       "      <th>10</th>\n",
       "      <td>8638</td>\n",
       "      <td>Before Sunset</td>\n",
       "      <td>2004</td>\n",
       "      <td>8638</td>\n",
       "      <td>Drama</td>\n",
       "    </tr>\n",
       "    <tr>\n",
       "      <th>11</th>\n",
       "      <td>8638</td>\n",
       "      <td>Before Sunset</td>\n",
       "      <td>2004</td>\n",
       "      <td>8638</td>\n",
       "      <td>Romance</td>\n",
       "    </tr>\n",
       "    <tr>\n",
       "      <th>12</th>\n",
       "      <td>8957</td>\n",
       "      <td>Saw</td>\n",
       "      <td>2004</td>\n",
       "      <td>8957</td>\n",
       "      <td>Horror</td>\n",
       "    </tr>\n",
       "    <tr>\n",
       "      <th>13</th>\n",
       "      <td>8957</td>\n",
       "      <td>Saw</td>\n",
       "      <td>2004</td>\n",
       "      <td>8957</td>\n",
       "      <td>Mystery</td>\n",
       "    </tr>\n",
       "    <tr>\n",
       "      <th>14</th>\n",
       "      <td>8957</td>\n",
       "      <td>Saw</td>\n",
       "      <td>2004</td>\n",
       "      <td>8957</td>\n",
       "      <td>Thriller</td>\n",
       "    </tr>\n",
       "  </tbody>\n",
       "</table>\n",
       "</div>"
      ],
      "text/plain": [
       "      id           title  release_year  movie_id     genre\n",
       "0    215  Before Sunrise          1995       215     Drama\n",
       "1    215  Before Sunrise          1995       215   Romance\n",
       "2   2232            Cube          1997      2232    Horror\n",
       "3   2232            Cube          1997      2232   Mystery\n",
       "4   2232            Cube          1997      2232    Sci-Fi\n",
       "5   2232            Cube          1997      2232  Thriller\n",
       "6   6323        Identity          2003      6323     Crime\n",
       "7   6323        Identity          2003      6323    Horror\n",
       "8   6323        Identity          2003      6323   Mystery\n",
       "9   6323        Identity          2003      6323  Thriller\n",
       "10  8638   Before Sunset          2004      8638     Drama\n",
       "11  8638   Before Sunset          2004      8638   Romance\n",
       "12  8957             Saw          2004      8957    Horror\n",
       "13  8957             Saw          2004      8957   Mystery\n",
       "14  8957             Saw          2004      8957  Thriller"
      ]
     },
     "execution_count": 4,
     "metadata": {},
     "output_type": "execute_result"
    }
   ],
   "source": [
    "target = {8957: \"Saw\", 2232: \"Cube\", 6323: \"Identity\", 8638: \"Before Sunset\", 215: \"Before Sunrise\"}\n",
    "\n",
    "#각 영화의 세부정보를 가져옵니다.\n",
    "df1 = movies[movies[\"id\"].isin(target)]\n",
    "df2 = genres[genres[\"movie_id\"].isin(target)]\n",
    "\n",
    "pd.merge(df1, df2, left_on=\"id\", right_on=\"movie_id\")"
   ]
  },
  {
   "cell_type": "code",
   "execution_count": 5,
   "metadata": {
    "ExecuteTime": {
     "end_time": "2022-01-11T13:18:16.743543Z",
     "start_time": "2022-01-11T13:18:15.810039Z"
    }
   },
   "outputs": [],
   "source": [
    "#id:title의 dictionary를 만듭니다.\n",
    "id2title = dict(zip(movies[\"id\"], movies[\"title\"]))\n",
    "ratings[\"title\"] = ratings[\"movie_id\"].map(id2title)\n",
    "\n",
    "#각 영화의 평점 데이터를 가져옵니다.\n",
    "ratings_target = ratings[ratings[\"movie_id\"].isin(target.keys())]"
   ]
  },
  {
   "cell_type": "code",
   "execution_count": 6,
   "metadata": {
    "ExecuteTime": {
     "end_time": "2022-01-11T13:18:17.713197Z",
     "start_time": "2022-01-11T13:18:17.689193Z"
    }
   },
   "outputs": [
    {
     "data": {
      "text/html": [
       "<div>\n",
       "<style scoped>\n",
       "    .dataframe tbody tr th:only-of-type {\n",
       "        vertical-align: middle;\n",
       "    }\n",
       "\n",
       "    .dataframe tbody tr th {\n",
       "        vertical-align: top;\n",
       "    }\n",
       "\n",
       "    .dataframe thead th {\n",
       "        text-align: right;\n",
       "    }\n",
       "</style>\n",
       "<table border=\"1\" class=\"dataframe\">\n",
       "  <thead>\n",
       "    <tr style=\"text-align: right;\">\n",
       "      <th></th>\n",
       "      <th>user_id</th>\n",
       "      <th>movie_id</th>\n",
       "      <th>rating</th>\n",
       "      <th>rated_at</th>\n",
       "      <th>title</th>\n",
       "    </tr>\n",
       "  </thead>\n",
       "  <tbody>\n",
       "    <tr>\n",
       "      <th>1099</th>\n",
       "      <td>11</td>\n",
       "      <td>2232</td>\n",
       "      <td>4.5</td>\n",
       "      <td>1230788590</td>\n",
       "      <td>Cube</td>\n",
       "    </tr>\n",
       "    <tr>\n",
       "      <th>3638</th>\n",
       "      <td>31</td>\n",
       "      <td>8957</td>\n",
       "      <td>0.5</td>\n",
       "      <td>1424736694</td>\n",
       "      <td>Saw</td>\n",
       "    </tr>\n",
       "    <tr>\n",
       "      <th>4977</th>\n",
       "      <td>50</td>\n",
       "      <td>215</td>\n",
       "      <td>5.0</td>\n",
       "      <td>1182347856</td>\n",
       "      <td>Before Sunrise</td>\n",
       "    </tr>\n",
       "    <tr>\n",
       "      <th>5058</th>\n",
       "      <td>50</td>\n",
       "      <td>8638</td>\n",
       "      <td>5.0</td>\n",
       "      <td>1182348573</td>\n",
       "      <td>Before Sunset</td>\n",
       "    </tr>\n",
       "    <tr>\n",
       "      <th>6156</th>\n",
       "      <td>56</td>\n",
       "      <td>215</td>\n",
       "      <td>3.0</td>\n",
       "      <td>1003025941</td>\n",
       "      <td>Before Sunrise</td>\n",
       "    </tr>\n",
       "    <tr>\n",
       "      <th>...</th>\n",
       "      <td>...</td>\n",
       "      <td>...</td>\n",
       "      <td>...</td>\n",
       "      <td>...</td>\n",
       "      <td>...</td>\n",
       "    </tr>\n",
       "    <tr>\n",
       "      <th>19997430</th>\n",
       "      <td>138472</td>\n",
       "      <td>8957</td>\n",
       "      <td>3.0</td>\n",
       "      <td>1267119268</td>\n",
       "      <td>Saw</td>\n",
       "    </tr>\n",
       "    <tr>\n",
       "      <th>19997639</th>\n",
       "      <td>138473</td>\n",
       "      <td>2232</td>\n",
       "      <td>4.5</td>\n",
       "      <td>1274234130</td>\n",
       "      <td>Cube</td>\n",
       "    </tr>\n",
       "    <tr>\n",
       "      <th>19998940</th>\n",
       "      <td>138483</td>\n",
       "      <td>215</td>\n",
       "      <td>4.0</td>\n",
       "      <td>833831946</td>\n",
       "      <td>Before Sunrise</td>\n",
       "    </tr>\n",
       "    <tr>\n",
       "      <th>19999482</th>\n",
       "      <td>138486</td>\n",
       "      <td>8957</td>\n",
       "      <td>5.0</td>\n",
       "      <td>1207076826</td>\n",
       "      <td>Saw</td>\n",
       "    </tr>\n",
       "    <tr>\n",
       "      <th>20000025</th>\n",
       "      <td>138493</td>\n",
       "      <td>2232</td>\n",
       "      <td>5.0</td>\n",
       "      <td>1255817892</td>\n",
       "      <td>Cube</td>\n",
       "    </tr>\n",
       "  </tbody>\n",
       "</table>\n",
       "<p>25260 rows × 5 columns</p>\n",
       "</div>"
      ],
      "text/plain": [
       "          user_id  movie_id  rating    rated_at           title\n",
       "1099           11      2232     4.5  1230788590            Cube\n",
       "3638           31      8957     0.5  1424736694             Saw\n",
       "4977           50       215     5.0  1182347856  Before Sunrise\n",
       "5058           50      8638     5.0  1182348573   Before Sunset\n",
       "6156           56       215     3.0  1003025941  Before Sunrise\n",
       "...           ...       ...     ...         ...             ...\n",
       "19997430   138472      8957     3.0  1267119268             Saw\n",
       "19997639   138473      2232     4.5  1274234130            Cube\n",
       "19998940   138483       215     4.0   833831946  Before Sunrise\n",
       "19999482   138486      8957     5.0  1207076826             Saw\n",
       "20000025   138493      2232     5.0  1255817892            Cube\n",
       "\n",
       "[25260 rows x 5 columns]"
      ]
     },
     "execution_count": 6,
     "metadata": {},
     "output_type": "execute_result"
    }
   ],
   "source": [
    "ratings_target"
   ]
  },
  {
   "cell_type": "code",
   "execution_count": 7,
   "metadata": {
    "ExecuteTime": {
     "end_time": "2022-01-11T13:18:28.791127Z",
     "start_time": "2022-01-11T13:18:28.448346Z"
    }
   },
   "outputs": [],
   "source": [
    "ratings_target_set = ratings_target.groupby(\"user_id\")[\"title\"].apply(set)"
   ]
  },
  {
   "cell_type": "code",
   "execution_count": 8,
   "metadata": {
    "ExecuteTime": {
     "end_time": "2022-01-11T13:18:28.960078Z",
     "start_time": "2022-01-11T13:18:28.951078Z"
    }
   },
   "outputs": [
    {
     "data": {
      "text/plain": [
       "user_id\n",
       "11                                 {Cube}\n",
       "31                                  {Saw}\n",
       "50        {Before Sunrise, Before Sunset}\n",
       "56                       {Before Sunrise}\n",
       "58                             {Identity}\n",
       "                       ...               \n",
       "138472                              {Saw}\n",
       "138473                             {Cube}\n",
       "138483                   {Before Sunrise}\n",
       "138486                              {Saw}\n",
       "138493                             {Cube}\n",
       "Name: title, Length: 16922, dtype: object"
      ]
     },
     "execution_count": 8,
     "metadata": {},
     "output_type": "execute_result"
    }
   ],
   "source": [
    "ratings_target_set"
   ]
  },
  {
   "cell_type": "markdown",
   "metadata": {},
   "source": [
    "- 5개의 영화를 모두 본 사용자만 뽑겠습니다."
   ]
  },
  {
   "cell_type": "code",
   "execution_count": 9,
   "metadata": {
    "ExecuteTime": {
     "end_time": "2022-01-11T13:18:32.593931Z",
     "start_time": "2022-01-11T13:18:32.578886Z"
    }
   },
   "outputs": [],
   "source": [
    "all_seen = ratings_target_set[ratings_target_set.map(lambda x : len(x)==5)].index\n",
    "ratings_all_seen = ratings_target[ratings_target[\"user_id\"].isin(all_seen)]"
   ]
  },
  {
   "cell_type": "code",
   "execution_count": 10,
   "metadata": {
    "ExecuteTime": {
     "end_time": "2022-01-11T13:18:33.079899Z",
     "start_time": "2022-01-11T13:18:33.060915Z"
    }
   },
   "outputs": [
    {
     "data": {
      "text/html": [
       "<div>\n",
       "<style scoped>\n",
       "    .dataframe tbody tr th:only-of-type {\n",
       "        vertical-align: middle;\n",
       "    }\n",
       "\n",
       "    .dataframe tbody tr th {\n",
       "        vertical-align: top;\n",
       "    }\n",
       "\n",
       "    .dataframe thead th {\n",
       "        text-align: right;\n",
       "    }\n",
       "</style>\n",
       "<table border=\"1\" class=\"dataframe\">\n",
       "  <thead>\n",
       "    <tr style=\"text-align: right;\">\n",
       "      <th></th>\n",
       "      <th>user_id</th>\n",
       "      <th>movie_id</th>\n",
       "      <th>rating</th>\n",
       "      <th>rated_at</th>\n",
       "      <th>title</th>\n",
       "    </tr>\n",
       "  </thead>\n",
       "  <tbody>\n",
       "    <tr>\n",
       "      <th>146330</th>\n",
       "      <td>982</td>\n",
       "      <td>215</td>\n",
       "      <td>3.5</td>\n",
       "      <td>1195746062</td>\n",
       "      <td>Before Sunrise</td>\n",
       "    </tr>\n",
       "    <tr>\n",
       "      <th>146993</th>\n",
       "      <td>982</td>\n",
       "      <td>2232</td>\n",
       "      <td>3.5</td>\n",
       "      <td>1141652908</td>\n",
       "      <td>Cube</td>\n",
       "    </tr>\n",
       "    <tr>\n",
       "      <th>147899</th>\n",
       "      <td>982</td>\n",
       "      <td>6323</td>\n",
       "      <td>3.0</td>\n",
       "      <td>1193323976</td>\n",
       "      <td>Identity</td>\n",
       "    </tr>\n",
       "    <tr>\n",
       "      <th>148143</th>\n",
       "      <td>982</td>\n",
       "      <td>8638</td>\n",
       "      <td>4.0</td>\n",
       "      <td>1195747667</td>\n",
       "      <td>Before Sunset</td>\n",
       "    </tr>\n",
       "    <tr>\n",
       "      <th>148181</th>\n",
       "      <td>982</td>\n",
       "      <td>8957</td>\n",
       "      <td>3.0</td>\n",
       "      <td>1141659791</td>\n",
       "      <td>Saw</td>\n",
       "    </tr>\n",
       "    <tr>\n",
       "      <th>...</th>\n",
       "      <td>...</td>\n",
       "      <td>...</td>\n",
       "      <td>...</td>\n",
       "      <td>...</td>\n",
       "      <td>...</td>\n",
       "    </tr>\n",
       "    <tr>\n",
       "      <th>19885812</th>\n",
       "      <td>137686</td>\n",
       "      <td>215</td>\n",
       "      <td>4.0</td>\n",
       "      <td>899415564</td>\n",
       "      <td>Before Sunrise</td>\n",
       "    </tr>\n",
       "    <tr>\n",
       "      <th>19886569</th>\n",
       "      <td>137686</td>\n",
       "      <td>2232</td>\n",
       "      <td>4.0</td>\n",
       "      <td>1087503954</td>\n",
       "      <td>Cube</td>\n",
       "    </tr>\n",
       "    <tr>\n",
       "      <th>19887442</th>\n",
       "      <td>137686</td>\n",
       "      <td>6323</td>\n",
       "      <td>3.5</td>\n",
       "      <td>1079896026</td>\n",
       "      <td>Identity</td>\n",
       "    </tr>\n",
       "    <tr>\n",
       "      <th>19887645</th>\n",
       "      <td>137686</td>\n",
       "      <td>8638</td>\n",
       "      <td>4.0</td>\n",
       "      <td>1151393086</td>\n",
       "      <td>Before Sunset</td>\n",
       "    </tr>\n",
       "    <tr>\n",
       "      <th>19887671</th>\n",
       "      <td>137686</td>\n",
       "      <td>8957</td>\n",
       "      <td>3.5</td>\n",
       "      <td>1110399064</td>\n",
       "      <td>Saw</td>\n",
       "    </tr>\n",
       "  </tbody>\n",
       "</table>\n",
       "<p>905 rows × 5 columns</p>\n",
       "</div>"
      ],
      "text/plain": [
       "          user_id  movie_id  rating    rated_at           title\n",
       "146330        982       215     3.5  1195746062  Before Sunrise\n",
       "146993        982      2232     3.5  1141652908            Cube\n",
       "147899        982      6323     3.0  1193323976        Identity\n",
       "148143        982      8638     4.0  1195747667   Before Sunset\n",
       "148181        982      8957     3.0  1141659791             Saw\n",
       "...           ...       ...     ...         ...             ...\n",
       "19885812   137686       215     4.0   899415564  Before Sunrise\n",
       "19886569   137686      2232     4.0  1087503954            Cube\n",
       "19887442   137686      6323     3.5  1079896026        Identity\n",
       "19887645   137686      8638     4.0  1151393086   Before Sunset\n",
       "19887671   137686      8957     3.5  1110399064             Saw\n",
       "\n",
       "[905 rows x 5 columns]"
      ]
     },
     "execution_count": 10,
     "metadata": {},
     "output_type": "execute_result"
    }
   ],
   "source": [
    "ratings_all_seen"
   ]
  },
  {
   "cell_type": "markdown",
   "metadata": {},
   "source": [
    "## User-Item Matrix\n",
    "- 이 데이터를 바탕으로 user-item matrix를 만듭니다."
   ]
  },
  {
   "cell_type": "code",
   "execution_count": 11,
   "metadata": {
    "ExecuteTime": {
     "end_time": "2022-01-11T13:18:40.241566Z",
     "start_time": "2022-01-11T13:18:40.148318Z"
    }
   },
   "outputs": [],
   "source": [
    "ui = pd.pivot_table(ratings_all_seen, index=\"user_id\", columns=\"title\", values=\"rating\")"
   ]
  },
  {
   "cell_type": "code",
   "execution_count": 12,
   "metadata": {
    "ExecuteTime": {
     "end_time": "2022-01-11T13:18:40.791161Z",
     "start_time": "2022-01-11T13:18:40.770135Z"
    }
   },
   "outputs": [
    {
     "data": {
      "text/html": [
       "<div>\n",
       "<style scoped>\n",
       "    .dataframe tbody tr th:only-of-type {\n",
       "        vertical-align: middle;\n",
       "    }\n",
       "\n",
       "    .dataframe tbody tr th {\n",
       "        vertical-align: top;\n",
       "    }\n",
       "\n",
       "    .dataframe thead th {\n",
       "        text-align: right;\n",
       "    }\n",
       "</style>\n",
       "<table border=\"1\" class=\"dataframe\">\n",
       "  <thead>\n",
       "    <tr style=\"text-align: right;\">\n",
       "      <th>title</th>\n",
       "      <th>Before Sunrise</th>\n",
       "      <th>Before Sunset</th>\n",
       "      <th>Cube</th>\n",
       "      <th>Identity</th>\n",
       "      <th>Saw</th>\n",
       "    </tr>\n",
       "    <tr>\n",
       "      <th>user_id</th>\n",
       "      <th></th>\n",
       "      <th></th>\n",
       "      <th></th>\n",
       "      <th></th>\n",
       "      <th></th>\n",
       "    </tr>\n",
       "  </thead>\n",
       "  <tbody>\n",
       "    <tr>\n",
       "      <th>982</th>\n",
       "      <td>3.5</td>\n",
       "      <td>4.0</td>\n",
       "      <td>3.5</td>\n",
       "      <td>3.0</td>\n",
       "      <td>3.0</td>\n",
       "    </tr>\n",
       "    <tr>\n",
       "      <th>1165</th>\n",
       "      <td>4.5</td>\n",
       "      <td>4.0</td>\n",
       "      <td>4.0</td>\n",
       "      <td>2.5</td>\n",
       "      <td>2.5</td>\n",
       "    </tr>\n",
       "    <tr>\n",
       "      <th>1288</th>\n",
       "      <td>4.0</td>\n",
       "      <td>3.5</td>\n",
       "      <td>3.5</td>\n",
       "      <td>3.0</td>\n",
       "      <td>4.0</td>\n",
       "    </tr>\n",
       "    <tr>\n",
       "      <th>2650</th>\n",
       "      <td>4.0</td>\n",
       "      <td>4.0</td>\n",
       "      <td>3.0</td>\n",
       "      <td>4.0</td>\n",
       "      <td>4.5</td>\n",
       "    </tr>\n",
       "    <tr>\n",
       "      <th>2669</th>\n",
       "      <td>4.0</td>\n",
       "      <td>4.0</td>\n",
       "      <td>3.5</td>\n",
       "      <td>4.0</td>\n",
       "      <td>3.5</td>\n",
       "    </tr>\n",
       "    <tr>\n",
       "      <th>...</th>\n",
       "      <td>...</td>\n",
       "      <td>...</td>\n",
       "      <td>...</td>\n",
       "      <td>...</td>\n",
       "      <td>...</td>\n",
       "    </tr>\n",
       "    <tr>\n",
       "      <th>133329</th>\n",
       "      <td>5.0</td>\n",
       "      <td>4.5</td>\n",
       "      <td>5.0</td>\n",
       "      <td>3.0</td>\n",
       "      <td>4.0</td>\n",
       "    </tr>\n",
       "    <tr>\n",
       "      <th>134290</th>\n",
       "      <td>4.0</td>\n",
       "      <td>4.5</td>\n",
       "      <td>4.0</td>\n",
       "      <td>3.0</td>\n",
       "      <td>3.5</td>\n",
       "    </tr>\n",
       "    <tr>\n",
       "      <th>135071</th>\n",
       "      <td>3.5</td>\n",
       "      <td>3.5</td>\n",
       "      <td>3.5</td>\n",
       "      <td>3.5</td>\n",
       "      <td>3.5</td>\n",
       "    </tr>\n",
       "    <tr>\n",
       "      <th>137277</th>\n",
       "      <td>3.5</td>\n",
       "      <td>4.0</td>\n",
       "      <td>3.5</td>\n",
       "      <td>3.5</td>\n",
       "      <td>3.5</td>\n",
       "    </tr>\n",
       "    <tr>\n",
       "      <th>137686</th>\n",
       "      <td>4.0</td>\n",
       "      <td>4.0</td>\n",
       "      <td>4.0</td>\n",
       "      <td>3.5</td>\n",
       "      <td>3.5</td>\n",
       "    </tr>\n",
       "  </tbody>\n",
       "</table>\n",
       "<p>181 rows × 5 columns</p>\n",
       "</div>"
      ],
      "text/plain": [
       "title    Before Sunrise  Before Sunset  Cube  Identity  Saw\n",
       "user_id                                                    \n",
       "982                 3.5            4.0   3.5       3.0  3.0\n",
       "1165                4.5            4.0   4.0       2.5  2.5\n",
       "1288                4.0            3.5   3.5       3.0  4.0\n",
       "2650                4.0            4.0   3.0       4.0  4.5\n",
       "2669                4.0            4.0   3.5       4.0  3.5\n",
       "...                 ...            ...   ...       ...  ...\n",
       "133329              5.0            4.5   5.0       3.0  4.0\n",
       "134290              4.0            4.5   4.0       3.0  3.5\n",
       "135071              3.5            3.5   3.5       3.5  3.5\n",
       "137277              3.5            4.0   3.5       3.5  3.5\n",
       "137686              4.0            4.0   4.0       3.5  3.5\n",
       "\n",
       "[181 rows x 5 columns]"
      ]
     },
     "execution_count": 12,
     "metadata": {},
     "output_type": "execute_result"
    }
   ],
   "source": [
    "ui"
   ]
  },
  {
   "cell_type": "markdown",
   "metadata": {},
   "source": [
    "### 사용자와 아이템의 편향 제거하기\n",
    "- 예를 들어 Saw에 똑같이 4점을 준 두 사용자가 동일한 정도로 그 영화를 좋아한다고 볼 수 없습니다.\n",
    "- 왜냐하면 사용자 A는 웬만해서는 4점을 주지 않는 성향이고 사용자 B는 비교적 점수를 후하게 주는 성향일 수 있기 때문입니다.\n",
    "- 또한 어떤 사용자가 Saw와 Before Sunset에 똑같이 4점을 주었다고 해도 Saw는 전반적으로 평가가 좋은 영화인 반면 Before Sunset은 이 사용자가 유일하게 높은 점수를 주었을 수도 있습니다.\n",
    "- 이런 왜곡을 피하기 위해 사용자와 아이템의 편향을 각각 제거해주어야 합니다."
   ]
  },
  {
   "cell_type": "code",
   "execution_count": 13,
   "metadata": {
    "ExecuteTime": {
     "end_time": "2022-01-11T13:18:49.904463Z",
     "start_time": "2022-01-11T13:18:49.880461Z"
    }
   },
   "outputs": [],
   "source": [
    "#사용자별 평균 평점\n",
    "avg_rating_user = ui.mean(axis=1).sort_values()"
   ]
  },
  {
   "cell_type": "code",
   "execution_count": 14,
   "metadata": {
    "ExecuteTime": {
     "end_time": "2022-01-11T13:18:50.327869Z",
     "start_time": "2022-01-11T13:18:50.312847Z"
    }
   },
   "outputs": [
    {
     "data": {
      "text/plain": [
       "user_id\n",
       "116900    1.6\n",
       "67346     1.9\n",
       "22122     2.4\n",
       "113668    2.4\n",
       "15701     2.4\n",
       "         ... \n",
       "87383     4.6\n",
       "77247     4.6\n",
       "101887    4.7\n",
       "80285     4.8\n",
       "74241     4.8\n",
       "Length: 181, dtype: float64"
      ]
     },
     "execution_count": 14,
     "metadata": {},
     "output_type": "execute_result"
    }
   ],
   "source": [
    "avg_rating_user"
   ]
  },
  {
   "cell_type": "code",
   "execution_count": 15,
   "metadata": {
    "ExecuteTime": {
     "end_time": "2022-01-11T13:18:52.828740Z",
     "start_time": "2022-01-11T13:18:52.360214Z"
    }
   },
   "outputs": [
    {
     "data": {
      "image/png": "[encoded data removed]",
      "text/plain": [
       "<Figure size 432x288 with 1 Axes>"
      ]
     },
     "metadata": {
      "needs_background": "light"
     },
     "output_type": "display_data"
    }
   ],
   "source": [
    "fig, ax = plt.subplots()\n",
    "\n",
    "ax.bar(x=range(len(avg_rating_user)), height=avg_rating_user)\n",
    "\n",
    "fig.tight_layout()"
   ]
  },
  {
   "cell_type": "code",
   "execution_count": 16,
   "metadata": {
    "ExecuteTime": {
     "end_time": "2022-01-11T13:19:01.009822Z",
     "start_time": "2022-01-11T13:19:01.004817Z"
    }
   },
   "outputs": [],
   "source": [
    "#아이템별 평균 평점\n",
    "avg_rating_item = ui.mean(axis=0).sort_values()"
   ]
  },
  {
   "cell_type": "code",
   "execution_count": 17,
   "metadata": {
    "ExecuteTime": {
     "end_time": "2022-01-11T13:19:01.245136Z",
     "start_time": "2022-01-11T13:19:01.224135Z"
    }
   },
   "outputs": [
    {
     "data": {
      "text/plain": [
       "title\n",
       "Saw               3.298343\n",
       "Identity          3.400552\n",
       "Cube              3.577348\n",
       "Before Sunset     3.881215\n",
       "Before Sunrise    3.950276\n",
       "dtype: float64"
      ]
     },
     "execution_count": 17,
     "metadata": {},
     "output_type": "execute_result"
    }
   ],
   "source": [
    "avg_rating_item"
   ]
  },
  {
   "cell_type": "code",
   "execution_count": 18,
   "metadata": {
    "ExecuteTime": {
     "end_time": "2022-01-11T13:19:09.802738Z",
     "start_time": "2022-01-11T13:19:09.660232Z"
    }
   },
   "outputs": [
    {
     "data": {
      "image/png": "[encoded data removed]",
      "text/plain": [
       "<Figure size 432x288 with 1 Axes>"
      ]
     },
     "metadata": {
      "needs_background": "light"
     },
     "output_type": "display_data"
    }
   ],
   "source": [
    "fig, ax = plt.subplots()\n",
    "\n",
    "ax.bar(x=avg_rating_item.index, height=avg_rating_item)\n",
    "\n",
    "fig.tight_layout()"
   ]
  },
  {
   "cell_type": "markdown",
   "metadata": {},
   "source": [
    "- 사용자 편향과 아이템 편향을 반영하여 user-item matrix를 조정합니다."
   ]
  },
  {
   "cell_type": "code",
   "execution_count": 19,
   "metadata": {
    "ExecuteTime": {
     "end_time": "2022-01-11T13:19:10.778753Z",
     "start_time": "2022-01-11T13:19:10.754789Z"
    }
   },
   "outputs": [],
   "source": [
    "avg_rating = ui.mean().mean()\n",
    "\n",
    "#사용자 편향을 계산합니다.\n",
    "user_bias = ui.mean(axis=1) - avg_rating\n",
    "#아이템 편향을 계산합니다.\n",
    "item_bias = ui.mean(axis=0) - avg_rating\n",
    "\n",
    "adj_ui = ui.sub(user_bias, axis=0).sub(item_bias, axis=1)"
   ]
  },
  {
   "cell_type": "code",
   "execution_count": 20,
   "metadata": {
    "ExecuteTime": {
     "end_time": "2022-01-11T13:19:11.891829Z",
     "start_time": "2022-01-11T13:19:11.868829Z"
    }
   },
   "outputs": [
    {
     "data": {
      "text/html": [
       "<div>\n",
       "<style scoped>\n",
       "    .dataframe tbody tr th:only-of-type {\n",
       "        vertical-align: middle;\n",
       "    }\n",
       "\n",
       "    .dataframe tbody tr th {\n",
       "        vertical-align: top;\n",
       "    }\n",
       "\n",
       "    .dataframe thead th {\n",
       "        text-align: right;\n",
       "    }\n",
       "</style>\n",
       "<table border=\"1\" class=\"dataframe\">\n",
       "  <thead>\n",
       "    <tr style=\"text-align: right;\">\n",
       "      <th>title</th>\n",
       "      <th>Before Sunrise</th>\n",
       "      <th>Before Sunset</th>\n",
       "      <th>Cube</th>\n",
       "      <th>Identity</th>\n",
       "      <th>Saw</th>\n",
       "    </tr>\n",
       "    <tr>\n",
       "      <th>user_id</th>\n",
       "      <th></th>\n",
       "      <th></th>\n",
       "      <th></th>\n",
       "      <th></th>\n",
       "      <th></th>\n",
       "    </tr>\n",
       "  </thead>\n",
       "  <tbody>\n",
       "    <tr>\n",
       "      <th>2650</th>\n",
       "      <td>3.392818</td>\n",
       "      <td>3.461878</td>\n",
       "      <td>2.765746</td>\n",
       "      <td>3.942541</td>\n",
       "      <td>4.544751</td>\n",
       "    </tr>\n",
       "    <tr>\n",
       "      <th>80501</th>\n",
       "      <td>2.492818</td>\n",
       "      <td>2.061878</td>\n",
       "      <td>4.365746</td>\n",
       "      <td>4.542541</td>\n",
       "      <td>4.644751</td>\n",
       "    </tr>\n",
       "    <tr>\n",
       "      <th>65304</th>\n",
       "      <td>3.592818</td>\n",
       "      <td>4.661878</td>\n",
       "      <td>3.965746</td>\n",
       "      <td>3.142541</td>\n",
       "      <td>2.744751</td>\n",
       "    </tr>\n",
       "    <tr>\n",
       "      <th>13431</th>\n",
       "      <td>3.792818</td>\n",
       "      <td>3.861878</td>\n",
       "      <td>3.165746</td>\n",
       "      <td>4.342541</td>\n",
       "      <td>2.944751</td>\n",
       "    </tr>\n",
       "    <tr>\n",
       "      <th>130767</th>\n",
       "      <td>4.792818</td>\n",
       "      <td>4.361878</td>\n",
       "      <td>3.665746</td>\n",
       "      <td>2.842541</td>\n",
       "      <td>2.444751</td>\n",
       "    </tr>\n",
       "  </tbody>\n",
       "</table>\n",
       "</div>"
      ],
      "text/plain": [
       "title    Before Sunrise  Before Sunset      Cube  Identity       Saw\n",
       "user_id                                                             \n",
       "2650           3.392818       3.461878  2.765746  3.942541  4.544751\n",
       "80501          2.492818       2.061878  4.365746  4.542541  4.644751\n",
       "65304          3.592818       4.661878  3.965746  3.142541  2.744751\n",
       "13431          3.792818       3.861878  3.165746  4.342541  2.944751\n",
       "130767         4.792818       4.361878  3.665746  2.842541  2.444751"
      ]
     },
     "execution_count": 20,
     "metadata": {},
     "output_type": "execute_result"
    }
   ],
   "source": [
    "adj_ui.sample(5)"
   ]
  },
  {
   "cell_type": "markdown",
   "metadata": {},
   "source": [
    "# Similarity 구하기\n",
    "- 거리 기반 유사도 : 유클리드 거리 유사도 등\n",
    "- 방향 기반 유사도 : 코사인 유사도 등"
   ]
  },
  {
   "cell_type": "markdown",
   "metadata": {},
   "source": [
    "## User-Based Collaborative Filtering"
   ]
  },
  {
   "cell_type": "code",
   "execution_count": 21,
   "metadata": {
    "ExecuteTime": {
     "end_time": "2022-01-11T13:19:19.074221Z",
     "start_time": "2022-01-11T13:19:19.065476Z"
    }
   },
   "outputs": [],
   "source": [
    "#adj_ui에서 5개의 샘플만 랜덤으로 뽑겠습니다.\n",
    "sample5 = adj_ui.sample(5)"
   ]
  },
  {
   "cell_type": "code",
   "execution_count": 22,
   "metadata": {
    "ExecuteTime": {
     "end_time": "2022-01-11T13:19:19.761419Z",
     "start_time": "2022-01-11T13:19:19.745414Z"
    }
   },
   "outputs": [
    {
     "data": {
      "text/html": [
       "<div>\n",
       "<style scoped>\n",
       "    .dataframe tbody tr th:only-of-type {\n",
       "        vertical-align: middle;\n",
       "    }\n",
       "\n",
       "    .dataframe tbody tr th {\n",
       "        vertical-align: top;\n",
       "    }\n",
       "\n",
       "    .dataframe thead th {\n",
       "        text-align: right;\n",
       "    }\n",
       "</style>\n",
       "<table border=\"1\" class=\"dataframe\">\n",
       "  <thead>\n",
       "    <tr style=\"text-align: right;\">\n",
       "      <th>title</th>\n",
       "      <th>Before Sunrise</th>\n",
       "      <th>Before Sunset</th>\n",
       "      <th>Cube</th>\n",
       "      <th>Identity</th>\n",
       "      <th>Saw</th>\n",
       "    </tr>\n",
       "    <tr>\n",
       "      <th>user_id</th>\n",
       "      <th></th>\n",
       "      <th></th>\n",
       "      <th></th>\n",
       "      <th></th>\n",
       "      <th></th>\n",
       "    </tr>\n",
       "  </thead>\n",
       "  <tbody>\n",
       "    <tr>\n",
       "      <th>120572</th>\n",
       "      <td>4.092818</td>\n",
       "      <td>4.161878</td>\n",
       "      <td>3.465746</td>\n",
       "      <td>3.642541</td>\n",
       "      <td>2.744751</td>\n",
       "    </tr>\n",
       "    <tr>\n",
       "      <th>40285</th>\n",
       "      <td>2.692818</td>\n",
       "      <td>2.261878</td>\n",
       "      <td>4.065746</td>\n",
       "      <td>4.242541</td>\n",
       "      <td>4.844751</td>\n",
       "    </tr>\n",
       "    <tr>\n",
       "      <th>110048</th>\n",
       "      <td>3.292818</td>\n",
       "      <td>4.361878</td>\n",
       "      <td>1.665746</td>\n",
       "      <td>4.842541</td>\n",
       "      <td>3.944751</td>\n",
       "    </tr>\n",
       "    <tr>\n",
       "      <th>71970</th>\n",
       "      <td>3.092818</td>\n",
       "      <td>3.661878</td>\n",
       "      <td>4.465746</td>\n",
       "      <td>3.142541</td>\n",
       "      <td>3.744751</td>\n",
       "    </tr>\n",
       "    <tr>\n",
       "      <th>133329</th>\n",
       "      <td>3.992818</td>\n",
       "      <td>3.561878</td>\n",
       "      <td>4.365746</td>\n",
       "      <td>2.542541</td>\n",
       "      <td>3.644751</td>\n",
       "    </tr>\n",
       "  </tbody>\n",
       "</table>\n",
       "</div>"
      ],
      "text/plain": [
       "title    Before Sunrise  Before Sunset      Cube  Identity       Saw\n",
       "user_id                                                             \n",
       "120572         4.092818       4.161878  3.465746  3.642541  2.744751\n",
       "40285          2.692818       2.261878  4.065746  4.242541  4.844751\n",
       "110048         3.292818       4.361878  1.665746  4.842541  3.944751\n",
       "71970          3.092818       3.661878  4.465746  3.142541  3.744751\n",
       "133329         3.992818       3.561878  4.365746  2.542541  3.644751"
      ]
     },
     "execution_count": 22,
     "metadata": {},
     "output_type": "execute_result"
    }
   ],
   "source": [
    "sample5"
   ]
  },
  {
   "cell_type": "code",
   "execution_count": 23,
   "metadata": {
    "ExecuteTime": {
     "end_time": "2022-01-11T13:19:26.622240Z",
     "start_time": "2022-01-11T13:19:26.613107Z"
    }
   },
   "outputs": [],
   "source": [
    "#유클리드 거리 기반 유사도를 계산하는 함수를 만듭니다.\n",
    "def euc_sim(x, y):\n",
    "    return 1/(1 + np.sqrt(np.sum((x - y)**2)))\n",
    "\n",
    "#코사인 유사도를 계산하는 함수를 만듭니다.\n",
    "def cos_sim(x, y):\n",
    "    return np.sum(x*y)/(np.linalg.norm(x)*np.linalg.norm(x))"
   ]
  },
  {
   "cell_type": "code",
   "execution_count": 24,
   "metadata": {
    "ExecuteTime": {
     "end_time": "2022-01-11T13:19:26.825856Z",
     "start_time": "2022-01-11T13:19:26.802479Z"
    }
   },
   "outputs": [
    {
     "name": "stdout",
     "output_type": "stream",
     "text": [
      "120572 |  40285 | euc_sim : 0.234 | cos_sim : 0.946\n",
      "120572 | 110048 | euc_sim : 0.277 | cos_sim : 0.985\n",
      "120572 |  71970 | euc_sim : 0.348 | cos_sim : 0.973\n",
      "120572 | 133329 | euc_sim : 0.359 | cos_sim : 0.980\n",
      " 40285 | 110048 | euc_sim : 0.226 | cos_sim : 0.926\n",
      " 40285 |  71970 | euc_sim : 0.316 | cos_sim : 0.941\n",
      " 40285 | 133329 | euc_sim : 0.264 | cos_sim : 0.924\n",
      "110048 |  71970 | euc_sim : 0.229 | cos_sim : 0.887\n",
      "110048 | 133329 | euc_sim : 0.212 | cos_sim : 0.874\n",
      " 71970 | 133329 | euc_sim : 0.477 | cos_sim : 0.996\n"
     ]
    }
   ],
   "source": [
    "for user1, user2 in combinations(sample5.index, 2):\n",
    "    sim1 = euc_sim(sample5.loc[user1], sample5.loc[user2])\n",
    "    sim2 = cos_sim(sample5.loc[user1], sample5.loc[user2])\n",
    "    print(f\"{user1:>6d} | {user2:>6d} | euc_sim : {sim1:>4.3f} | cos_sim : {sim2:>4.3f}\")"
   ]
  },
  {
   "cell_type": "markdown",
   "metadata": {},
   "source": [
    "## Item-Based Collaborative Filtering"
   ]
  },
  {
   "cell_type": "code",
   "execution_count": 108,
   "metadata": {},
   "outputs": [
    {
     "data": {
      "text/html": [
       "<div>\n",
       "<style scoped>\n",
       "    .dataframe tbody tr th:only-of-type {\n",
       "        vertical-align: middle;\n",
       "    }\n",
       "\n",
       "    .dataframe tbody tr th {\n",
       "        vertical-align: top;\n",
       "    }\n",
       "\n",
       "    .dataframe thead th {\n",
       "        text-align: right;\n",
       "    }\n",
       "</style>\n",
       "<table border=\"1\" class=\"dataframe\">\n",
       "  <thead>\n",
       "    <tr style=\"text-align: right;\">\n",
       "      <th>user_id</th>\n",
       "      <th>982</th>\n",
       "      <th>1165</th>\n",
       "      <th>1288</th>\n",
       "      <th>2650</th>\n",
       "      <th>2669</th>\n",
       "      <th>3676</th>\n",
       "      <th>3907</th>\n",
       "      <th>5725</th>\n",
       "      <th>6099</th>\n",
       "      <th>6373</th>\n",
       "      <th>...</th>\n",
       "      <th>131180</th>\n",
       "      <th>131736</th>\n",
       "      <th>132509</th>\n",
       "      <th>132603</th>\n",
       "      <th>133133</th>\n",
       "      <th>133329</th>\n",
       "      <th>134290</th>\n",
       "      <th>135071</th>\n",
       "      <th>137277</th>\n",
       "      <th>137686</th>\n",
       "    </tr>\n",
       "    <tr>\n",
       "      <th>title</th>\n",
       "      <th></th>\n",
       "      <th></th>\n",
       "      <th></th>\n",
       "      <th></th>\n",
       "      <th></th>\n",
       "      <th></th>\n",
       "      <th></th>\n",
       "      <th></th>\n",
       "      <th></th>\n",
       "      <th></th>\n",
       "      <th></th>\n",
       "      <th></th>\n",
       "      <th></th>\n",
       "      <th></th>\n",
       "      <th></th>\n",
       "      <th></th>\n",
       "      <th></th>\n",
       "      <th></th>\n",
       "      <th></th>\n",
       "      <th></th>\n",
       "      <th></th>\n",
       "    </tr>\n",
       "  </thead>\n",
       "  <tbody>\n",
       "    <tr>\n",
       "      <th>Before Sunrise</th>\n",
       "      <td>3.392818</td>\n",
       "      <td>4.292818</td>\n",
       "      <td>3.692818</td>\n",
       "      <td>3.392818</td>\n",
       "      <td>3.492818</td>\n",
       "      <td>3.292818</td>\n",
       "      <td>3.892818</td>\n",
       "      <td>3.392818</td>\n",
       "      <td>3.192818</td>\n",
       "      <td>2.992818</td>\n",
       "      <td>...</td>\n",
       "      <td>4.092818</td>\n",
       "      <td>2.792818</td>\n",
       "      <td>3.492818</td>\n",
       "      <td>3.692818</td>\n",
       "      <td>3.392818</td>\n",
       "      <td>3.992818</td>\n",
       "      <td>3.492818</td>\n",
       "      <td>3.292818</td>\n",
       "      <td>3.192818</td>\n",
       "      <td>3.492818</td>\n",
       "    </tr>\n",
       "    <tr>\n",
       "      <th>Before Sunset</th>\n",
       "      <td>3.961878</td>\n",
       "      <td>3.861878</td>\n",
       "      <td>3.261878</td>\n",
       "      <td>3.461878</td>\n",
       "      <td>3.561878</td>\n",
       "      <td>3.361878</td>\n",
       "      <td>4.461878</td>\n",
       "      <td>3.961878</td>\n",
       "      <td>4.261878</td>\n",
       "      <td>3.061878</td>\n",
       "      <td>...</td>\n",
       "      <td>3.661878</td>\n",
       "      <td>2.861878</td>\n",
       "      <td>4.061878</td>\n",
       "      <td>3.261878</td>\n",
       "      <td>3.461878</td>\n",
       "      <td>3.561878</td>\n",
       "      <td>4.061878</td>\n",
       "      <td>3.361878</td>\n",
       "      <td>3.761878</td>\n",
       "      <td>3.561878</td>\n",
       "    </tr>\n",
       "    <tr>\n",
       "      <th>Cube</th>\n",
       "      <td>3.765746</td>\n",
       "      <td>4.165746</td>\n",
       "      <td>3.565746</td>\n",
       "      <td>2.765746</td>\n",
       "      <td>3.365746</td>\n",
       "      <td>3.165746</td>\n",
       "      <td>3.765746</td>\n",
       "      <td>3.765746</td>\n",
       "      <td>3.065746</td>\n",
       "      <td>3.365746</td>\n",
       "      <td>...</td>\n",
       "      <td>3.465746</td>\n",
       "      <td>4.165746</td>\n",
       "      <td>3.865746</td>\n",
       "      <td>3.565746</td>\n",
       "      <td>3.765746</td>\n",
       "      <td>4.365746</td>\n",
       "      <td>3.865746</td>\n",
       "      <td>3.665746</td>\n",
       "      <td>3.565746</td>\n",
       "      <td>3.865746</td>\n",
       "    </tr>\n",
       "    <tr>\n",
       "      <th>Identity</th>\n",
       "      <td>3.442541</td>\n",
       "      <td>2.842541</td>\n",
       "      <td>3.242541</td>\n",
       "      <td>3.942541</td>\n",
       "      <td>4.042541</td>\n",
       "      <td>4.342541</td>\n",
       "      <td>3.442541</td>\n",
       "      <td>2.942541</td>\n",
       "      <td>3.742541</td>\n",
       "      <td>4.042541</td>\n",
       "      <td>...</td>\n",
       "      <td>3.142541</td>\n",
       "      <td>3.842541</td>\n",
       "      <td>4.042541</td>\n",
       "      <td>3.742541</td>\n",
       "      <td>3.442541</td>\n",
       "      <td>2.542541</td>\n",
       "      <td>3.042541</td>\n",
       "      <td>3.842541</td>\n",
       "      <td>3.742541</td>\n",
       "      <td>3.542541</td>\n",
       "    </tr>\n",
       "    <tr>\n",
       "      <th>Saw</th>\n",
       "      <td>3.544751</td>\n",
       "      <td>2.944751</td>\n",
       "      <td>4.344751</td>\n",
       "      <td>4.544751</td>\n",
       "      <td>3.644751</td>\n",
       "      <td>3.944751</td>\n",
       "      <td>2.544751</td>\n",
       "      <td>4.044751</td>\n",
       "      <td>3.844751</td>\n",
       "      <td>4.644751</td>\n",
       "      <td>...</td>\n",
       "      <td>3.744751</td>\n",
       "      <td>4.444751</td>\n",
       "      <td>2.644751</td>\n",
       "      <td>3.844751</td>\n",
       "      <td>4.044751</td>\n",
       "      <td>3.644751</td>\n",
       "      <td>3.644751</td>\n",
       "      <td>3.944751</td>\n",
       "      <td>3.844751</td>\n",
       "      <td>3.644751</td>\n",
       "    </tr>\n",
       "  </tbody>\n",
       "</table>\n",
       "<p>5 rows × 181 columns</p>\n",
       "</div>"
      ],
      "text/plain": [
       "user_id           982       1165      1288      2650      2669      3676    \\\n",
       "title                                                                        \n",
       "Before Sunrise  3.392818  4.292818  3.692818  3.392818  3.492818  3.292818   \n",
       "Before Sunset   3.961878  3.861878  3.261878  3.461878  3.561878  3.361878   \n",
       "Cube            3.765746  4.165746  3.565746  2.765746  3.365746  3.165746   \n",
       "Identity        3.442541  2.842541  3.242541  3.942541  4.042541  4.342541   \n",
       "Saw             3.544751  2.944751  4.344751  4.544751  3.644751  3.944751   \n",
       "\n",
       "user_id           3907      5725      6099      6373    ...    131180  \\\n",
       "title                                                   ...             \n",
       "Before Sunrise  3.892818  3.392818  3.192818  2.992818  ...  4.092818   \n",
       "Before Sunset   4.461878  3.961878  4.261878  3.061878  ...  3.661878   \n",
       "Cube            3.765746  3.765746  3.065746  3.365746  ...  3.465746   \n",
       "Identity        3.442541  2.942541  3.742541  4.042541  ...  3.142541   \n",
       "Saw             2.544751  4.044751  3.844751  4.644751  ...  3.744751   \n",
       "\n",
       "user_id           131736    132509    132603    133133    133329    134290  \\\n",
       "title                                                                        \n",
       "Before Sunrise  2.792818  3.492818  3.692818  3.392818  3.992818  3.492818   \n",
       "Before Sunset   2.861878  4.061878  3.261878  3.461878  3.561878  4.061878   \n",
       "Cube            4.165746  3.865746  3.565746  3.765746  4.365746  3.865746   \n",
       "Identity        3.842541  4.042541  3.742541  3.442541  2.542541  3.042541   \n",
       "Saw             4.444751  2.644751  3.844751  4.044751  3.644751  3.644751   \n",
       "\n",
       "user_id           135071    137277    137686  \n",
       "title                                         \n",
       "Before Sunrise  3.292818  3.192818  3.492818  \n",
       "Before Sunset   3.361878  3.761878  3.561878  \n",
       "Cube            3.665746  3.565746  3.865746  \n",
       "Identity        3.842541  3.742541  3.542541  \n",
       "Saw             3.944751  3.844751  3.644751  \n",
       "\n",
       "[5 rows x 181 columns]"
      ]
     },
     "execution_count": 108,
     "metadata": {},
     "output_type": "execute_result"
    }
   ],
   "source": [
    "adj_ui.T"
   ]
  },
  {
   "cell_type": "code",
   "execution_count": 117,
   "metadata": {},
   "outputs": [
    {
     "name": "stdout",
     "output_type": "stream",
     "text": [
      "Before Sunrise |  Before Sunset | euc_sim : 0.112 | cos_sim : 0.987\n",
      "Before Sunrise |           Cube | euc_sim : 0.063 | cos_sim : 0.954\n",
      "Before Sunrise |       Identity | euc_sim : 0.064 | cos_sim : 0.955\n",
      "Before Sunrise |            Saw | euc_sim : 0.056 | cos_sim : 0.947\n",
      " Before Sunset |           Cube | euc_sim : 0.063 | cos_sim : 0.954\n",
      " Before Sunset |       Identity | euc_sim : 0.064 | cos_sim : 0.955\n",
      " Before Sunset |            Saw | euc_sim : 0.056 | cos_sim : 0.947\n",
      "          Cube |       Identity | euc_sim : 0.072 | cos_sim : 0.965\n",
      "          Cube |            Saw | euc_sim : 0.071 | cos_sim : 0.969\n",
      "      Identity |            Saw | euc_sim : 0.072 | cos_sim : 0.972\n"
     ]
    }
   ],
   "source": [
    "for item1, item2 in combinations(adj_ui.T.index, 2):\n",
    "    sim1 = euc_sim(adj_ui.T.loc[item1], adj_ui.T.loc[item2])\n",
    "    sim2 = cos_sim(adj_ui.T.loc[item1], adj_ui.T.loc[item2])\n",
    "    print(f\"{item1:>14s} | {item2:>14s} | euc_sim : {sim1:>4.3f} | cos_sim : {sim2:>4.3f}\")"
   ]
  },
  {
   "cell_type": "code",
   "execution_count": null,
   "metadata": {},
   "outputs": [],
   "source": []
  }
 ],
 "metadata": {
  "hide_input": false,
  "kernelspec": {
   "display_name": "Python 3",
   "language": "python",
   "name": "python3"
  },
  "language_info": {
   "codemirror_mode": {
    "name": "ipython",
    "version": 3
   },
   "file_extension": ".py",
   "mimetype": "text/x-python",
   "name": "python",
   "nbconvert_exporter": "python",
   "pygments_lexer": "ipython3",
   "version": "3.8.5"
  },
  "toc": {
   "base_numbering": 1,
   "nav_menu": {},
   "number_sections": false,
   "sideBar": true,
   "skip_h1_title": false,
   "title_cell": "Table of Contents",
   "title_sidebar": "Contents",
   "toc_cell": false,
   "toc_position": {
    "height": "calc(100% - 180px)",
    "left": "10px",
    "top": "150px",
    "width": "165px"
   },
   "toc_section_display": true,
   "toc_window_display": false
  },
  "varInspector": {
   "cols": {
    "lenName": 16,
    "lenType": 16,
    "lenVar": 40
   },
   "kernels_config": {
    "python": {
     "delete_cmd_postfix": "",
     "delete_cmd_prefix": "del ",
     "library": "var_list.py",
     "varRefreshCmd": "print(var_dic_list())"
    },
    "r": {
     "delete_cmd_postfix": ") ",
     "delete_cmd_prefix": "rm(",
     "library": "var_list.r",
     "varRefreshCmd": "cat(var_dic_list()) "
    }
   },
   "types_to_exclude": [
    "module",
    "function",
    "builtin_function_or_method",
    "instance",
    "_Feature"
   ],
   "window_display": false
  }
 },
 "nbformat": 4,
 "nbformat_minor": 4
}
