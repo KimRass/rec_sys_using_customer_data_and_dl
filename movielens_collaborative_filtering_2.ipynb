{
 "cells": [
  {
   "cell_type": "markdown",
   "metadata": {
    "toc": true
   },
   "source": [
    "<h1>Table of Contents<span class=\"tocSkip\"></span></h1>\n",
    "<div class=\"toc\"><ul class=\"toc-item\"><li><span><a href=\"#User-Item-Matrix\" data-toc-modified-id=\"User-Item-Matrix-1\"><span class=\"toc-item-num\">1&nbsp;&nbsp;</span>User-Item Matrix</a></span><ul class=\"toc-item\"><li><span><a href=\"#Normalization\" data-toc-modified-id=\"Normalization-1.1\"><span class=\"toc-item-num\">1.1&nbsp;&nbsp;</span>Normalization</a></span></li><li><span><a href=\"#Similarity-Measure\" data-toc-modified-id=\"Similarity-Measure-1.2\"><span class=\"toc-item-num\">1.2&nbsp;&nbsp;</span>Similarity Measure</a></span><ul class=\"toc-item\"><li><span><a href=\"#Consine-Similarity\" data-toc-modified-id=\"Consine-Similarity-1.2.1\"><span class=\"toc-item-num\">1.2.1&nbsp;&nbsp;</span>Consine Similarity</a></span><ul class=\"toc-item\"><li><span><a href=\"#Implementation\" data-toc-modified-id=\"Implementation-1.2.1.1\"><span class=\"toc-item-num\">1.2.1.1&nbsp;&nbsp;</span>Implementation</a></span></li><li><span><a href=\"#Using-sklearn.metrics.pairwise.cosine_similarity()\" data-toc-modified-id=\"Using-sklearn.metrics.pairwise.cosine_similarity()-1.2.1.2\"><span class=\"toc-item-num\">1.2.1.2&nbsp;&nbsp;</span>Using <code>sklearn.metrics.pairwise.cosine_similarity()</code></a></span></li></ul></li><li><span><a href=\"#Euclidean-Similarity\" data-toc-modified-id=\"Euclidean-Similarity-1.2.2\"><span class=\"toc-item-num\">1.2.2&nbsp;&nbsp;</span>Euclidean Similarity</a></span><ul class=\"toc-item\"><li><span><a href=\"#Implementation\" data-toc-modified-id=\"Implementation-1.2.2.1\"><span class=\"toc-item-num\">1.2.2.1&nbsp;&nbsp;</span>Implementation</a></span></li><li><span><a href=\"#Using-sklearn.metrics.pairwise.euclidean_distances()\" data-toc-modified-id=\"Using-sklearn.metrics.pairwise.euclidean_distances()-1.2.2.2\"><span class=\"toc-item-num\">1.2.2.2&nbsp;&nbsp;</span>Using <code>sklearn.metrics.pairwise.euclidean_distances()</code></a></span></li></ul></li></ul></li><li><span><a href=\"#Recommendation\" data-toc-modified-id=\"Recommendation-1.3\"><span class=\"toc-item-num\">1.3&nbsp;&nbsp;</span>Recommendation</a></span></li></ul></li></ul></div>"
   ]
  },
  {
   "cell_type": "code",
   "execution_count": 1,
   "metadata": {
    "ExecuteTime": {
     "end_time": "2022-01-16T08:57:17.636778Z",
     "start_time": "2022-01-16T08:57:12.592576Z"
    }
   },
   "outputs": [],
   "source": [
    "import os\n",
    "import numpy as np\n",
    "import pandas as pd\n",
    "from tqdm import tqdm\n",
    "import matplotlib.pyplot as plt\n",
    "from datetime import datetime\n",
    "from tensorflow.keras.utils import get_file\n",
    "from sklearn.metrics.pairwise import cosine_similarity, euclidean_distances\n",
    "from google_drive_downloader import GoogleDriveDownloader as gdd\n",
    "\n",
    "np.set_printoptions(precision=3)\n",
    "plt.style.use(\"dark_background\")"
   ]
  },
  {
   "cell_type": "code",
   "execution_count": 2,
   "metadata": {
    "ExecuteTime": {
     "end_time": "2022-01-16T08:57:26.953759Z",
     "start_time": "2022-01-16T08:57:17.671758Z"
    },
    "scrolled": true
   },
   "outputs": [],
   "source": [
    "movies = pd.read_csv(\"./Datasets/MovieLens/movies.csv\", index_col=0)\n",
    "genres = pd.read_csv(\"./Datasets/MovieLens/genres.csv\", index_col=0)\n",
    "gdd.download_file_from_google_drive(file_id=\"15vsm-VWAC3Y-7jr7ROL_xy0ufkIfqSke\", dest_path=\"D:/ratings.csv\")\n",
    "ratings = pd.read_csv(\"D:/ratings.csv\")\n",
    "ratings = ratings.drop([\"Unnamed: 0\"], axis=1)\n",
    "\n",
    "id2title = {row[\"id\"]:row[\"title\"] for _, row in movies.iterrows()}\n",
    "ratings[\"title\"] = ratings[\"movie_id\"].map(id2title)"
   ]
  },
  {
   "cell_type": "code",
   "execution_count": 4,
   "metadata": {
    "ExecuteTime": {
     "end_time": "2022-01-16T04:43:09.535171Z",
     "start_time": "2022-01-16T04:43:09.166389Z"
    }
   },
   "outputs": [
    {
     "name": "stdout",
     "output_type": "stream",
     "text": [
      "density: 0.54%\n"
     ]
    }
   ],
   "source": [
    "n_users = ratings[\"user_id\"].nunique()\n",
    "n_items = ratings[\"movie_id\"].nunique()\n",
    "print(f\"density: {len(ratings)/(n_users*n_items):.2%}\")"
   ]
  },
  {
   "cell_type": "markdown",
   "metadata": {},
   "source": [
    "- 평점을 준 사용자의 수가 매우 적은 영화 또는 평점을 매우 적게 남긴 사용자를 활용하면 분석에 왜곡이 발생할 수 있으므로 이를 방지하고 Data density를 높이기 위해 평점 갯수에 기준을 정하고 기준 이하인 샘플을 제거합니다."
   ]
  },
  {
   "cell_type": "code",
   "execution_count": 6,
   "metadata": {
    "ExecuteTime": {
     "end_time": "2022-01-16T04:43:18.297488Z",
     "start_time": "2022-01-16T04:43:17.933670Z"
    }
   },
   "outputs": [
    {
     "data": {
      "image/png": "[encoded data removed]",
      "text/plain": [
       "<Figure size 432x288 with 1 Axes>"
      ]
     },
     "metadata": {},
     "output_type": "display_data"
    }
   ],
   "source": [
    "user_n_ratings = ratings[\"user_id\"].value_counts()\n",
    "cumsum_user = user_n_ratings.cumsum()/len(ratings)\n",
    "cumsum_user.reset_index(drop=True).plot.line();\n",
    "concat = pd.concat([user_n_ratings, cumsum_user], axis=1)\n",
    "concat.columns = [\"n_rating\", \"cumsum\"]\n",
    "# 평점을 `thr_user`개 이상 남긴 사용자가 전체 평점의 90%를 차지합니다.\n",
    "thr_user = concat[concat[\"cumsum\"]<0.9][\"n_rating\"].tolist()[-1]"
   ]
  },
  {
   "cell_type": "code",
   "execution_count": 7,
   "metadata": {
    "ExecuteTime": {
     "end_time": "2022-01-16T04:43:19.840750Z",
     "start_time": "2022-01-16T04:43:19.060145Z"
    }
   },
   "outputs": [
    {
     "data": {
      "image/png": "[encoded data removed]",
      "text/plain": [
       "<Figure size 432x288 with 1 Axes>"
      ]
     },
     "metadata": {},
     "output_type": "display_data"
    }
   ],
   "source": [
    "item_n_ratings = ratings[\"movie_id\"].value_counts()\n",
    "cumsum_item = item_n_ratings.cumsum()/len(ratings)\n",
    "item_n_ratings.cumsum().reset_index(drop=True).plot.line();\n",
    "concat = pd.concat([item_n_ratings, cumsum_item], axis=1)\n",
    "concat.columns = [\"n_rating\", \"cumsum\"]\n",
    "# 평점이 `thr_item`개 이상인 영화가 전체 평점의 90%를 차지합니다.\n",
    "thr_item = concat[concat[\"cumsum\"]<0.9][\"n_rating\"].tolist()[-1]"
   ]
  },
  {
   "cell_type": "code",
   "execution_count": 8,
   "metadata": {
    "ExecuteTime": {
     "end_time": "2022-01-16T04:43:28.922634Z",
     "start_time": "2022-01-16T04:43:23.993275Z"
    }
   },
   "outputs": [
    {
     "name": "stdout",
     "output_type": "stream",
     "text": [
      "Number of Records: 80.4%\n"
     ]
    }
   ],
   "source": [
    "ratings_tar = ratings[(ratings[\"user_id\"].isin(user_n_ratings[user_n_ratings>=thr_user].index)) & (ratings[\"movie_id\"].isin(item_n_ratings[item_n_ratings>=thr_item].index))]\n",
    "print(f\"Number of Records: {len(ratings_tar)/len(ratings):.1%}\")"
   ]
  },
  {
   "cell_type": "markdown",
   "metadata": {},
   "source": [
    "# User-Item Matrix"
   ]
  },
  {
   "cell_type": "code",
   "execution_count": 9,
   "metadata": {
    "ExecuteTime": {
     "end_time": "2022-01-12T02:33:49.478468Z",
     "start_time": "2022-01-12T02:33:11.171838Z"
    }
   },
   "outputs": [
    {
     "name": "stdout",
     "output_type": "stream",
     "text": [
      "Loading...\n",
      "Completed!\n"
     ]
    }
   ],
   "source": [
    "file = \"D:/ui_movielens.csv\"\n",
    "gdd.download_file_from_google_drive(file_id=\"1jawc0X5l5HERfIirnEnhBatQ9lL3sefB\", dest_path=file)\n",
    "if os.path.exists(file):\n",
    "    print(\"Loading...\")\n",
    "    ui = pd.read_csv(file, index_col=0)\n",
    "else:\n",
    "    ui = pd.pivot_table(ratings_tar, index=\"user_id\", columns=\"movie_id\", values=\"rating\")\n",
    "    print(\"Saving...\")\n",
    "    ui.to_csv(file)\n",
    "print(\"Completed!\")"
   ]
  },
  {
   "cell_type": "markdown",
   "metadata": {},
   "source": [
    "## Normalization"
   ]
  },
  {
   "cell_type": "code",
   "execution_count": 10,
   "metadata": {
    "ExecuteTime": {
     "end_time": "2022-01-12T02:34:03.057887Z",
     "start_time": "2022-01-12T02:33:49.818175Z"
    }
   },
   "outputs": [],
   "source": [
    "avg_rating = ui.mean().mean()\n",
    "# User-Side Popularity-Opportunity Bias\n",
    "user_bias = ui.mean(axis=1) - avg_rating\n",
    "# Item-Side Popularity-Opportunity Bias\n",
    "item_bias = ui.mean(axis=0) - avg_rating\n",
    "adj_ui = ui.sub(user_bias, axis=0).sub(item_bias, axis=1)"
   ]
  },
  {
   "cell_type": "markdown",
   "metadata": {},
   "source": [
    "## Similarity Measure\n",
    "\n",
    "### Consine Similarity\n",
    "\n",
    "#### Implementation"
   ]
  },
  {
   "cell_type": "code",
   "execution_count": 53,
   "metadata": {
    "ExecuteTime": {
     "end_time": "2022-01-12T03:25:43.210345Z",
     "start_time": "2022-01-12T03:25:21.682665Z"
    }
   },
   "outputs": [],
   "source": [
    "adj_ui = adj_ui.fillna(0)\n",
    "# Vector Normalization\n",
    "norm_item = np.linalg.norm(adj_ui, axis=0, ord=2)\n",
    "adj_ui_norm = adj_ui.div(norm_item, axis=1)\n",
    "titles = [id2title[int(i)] for i in adj_ui.columns]\n",
    "cos_sim_item = pd.DataFrame(np.dot(adj_ui_norm.T, adj_ui_norm), index=titles, columns=titles)"
   ]
  },
  {
   "cell_type": "markdown",
   "metadata": {},
   "source": [
    "#### Using `sklearn.metrics.pairwise.cosine_similarity()`"
   ]
  },
  {
   "cell_type": "code",
   "execution_count": 48,
   "metadata": {
    "ExecuteTime": {
     "end_time": "2022-01-12T03:18:19.917309Z",
     "start_time": "2022-01-12T03:17:58.060341Z"
    }
   },
   "outputs": [],
   "source": [
    "# titles = [id2title[int(i)] for i in adj_ui.columns]\n",
    "cos_sim_item = pd.DataFrame(cosine_similarity(adj_ui.T), index=titles, columns=titles)"
   ]
  },
  {
   "cell_type": "markdown",
   "metadata": {},
   "source": [
    "### Euclidean Similarity\n",
    "\n",
    "#### Implementation\n",
    "$$\n",
    "euc\\_dist(\\vec{X}, \\vec{Y}) = \\sqrt{\\sum(X_i - Y_i)^2} = \\sqrt{\\sum(X_i^2 + Y_i^2 - 2X_iY_i)} = \\sqrt{\\sum X_i^2 + \\sum Y_i^2 - 2\\vec{X} \\cdot \\vec{Y}}\n",
    "$$\n",
    "$$\n",
    "euc\\_sim(\\vec{X},\\vec{Y}) = \\frac{1}{1 + euc\\_dist(\\vec{X}, \\vec{Y})}\n",
    "$$"
   ]
  },
  {
   "cell_type": "code",
   "execution_count": 123,
   "metadata": {
    "ExecuteTime": {
     "end_time": "2022-01-12T05:08:15.345767Z",
     "start_time": "2022-01-12T05:07:48.149075Z"
    }
   },
   "outputs": [
    {
     "name": "stderr",
     "output_type": "stream",
     "text": [
      "<ipython-input-123-69c40a32158e>:4: RuntimeWarning: invalid value encountered in sqrt\n",
      "  euc_dist_item = np.sqrt(square - 2*dot)\n"
     ]
    }
   ],
   "source": [
    "adj_ui = adj_ui.fillna(0)\n",
    "square = np.array(np.square(adj_ui).sum(axis=0))\n",
    "square = np.add.outer(square, square)\n",
    "dot = np.dot(adj_ui.T, adj_ui)\n",
    "euc_dist_item = np.sqrt(square - 2*dot)\n",
    "# titles = [id2title[int(i)] for i in adj_ui.columns]\n",
    "euc_sim_item = 1/(1 + euc_dist_item)\n",
    "np.fill_diagonal(euc_sim_item, 1)\n",
    "euc_sim_item = pd.DataFrame(euc_sim_item, index=titles, columns=titles)"
   ]
  },
  {
   "cell_type": "markdown",
   "metadata": {},
   "source": [
    "#### Using `sklearn.metrics.pairwise.euclidean_distances()`"
   ]
  },
  {
   "cell_type": "code",
   "execution_count": 119,
   "metadata": {
    "ExecuteTime": {
     "end_time": "2022-01-12T05:06:26.332948Z",
     "start_time": "2022-01-12T05:06:13.651593Z"
    }
   },
   "outputs": [],
   "source": [
    "euc_dist_item = euclidean_distances(adj_ui.T)\n",
    "euc_sim_item = pd.DataFrame(1/(1 + euc_dist_item), index=titles, columns=titles)"
   ]
  },
  {
   "cell_type": "code",
   "execution_count": 120,
   "metadata": {
    "ExecuteTime": {
     "end_time": "2022-01-12T05:06:26.966405Z",
     "start_time": "2022-01-12T05:06:26.936070Z"
    }
   },
   "outputs": [
    {
     "data": {
      "text/html": [
       "<div>\n",
       "<style scoped>\n",
       "    .dataframe tbody tr th:only-of-type {\n",
       "        vertical-align: middle;\n",
       "    }\n",
       "\n",
       "    .dataframe tbody tr th {\n",
       "        vertical-align: top;\n",
       "    }\n",
       "\n",
       "    .dataframe thead th {\n",
       "        text-align: right;\n",
       "    }\n",
       "</style>\n",
       "<table border=\"1\" class=\"dataframe\">\n",
       "  <thead>\n",
       "    <tr style=\"text-align: right;\">\n",
       "      <th></th>\n",
       "      <th>Toy Story</th>\n",
       "      <th>Jumanji</th>\n",
       "      <th>Grumpier Old Men</th>\n",
       "      <th>Waiting to Exhale</th>\n",
       "      <th>Father of the Bride Part II</th>\n",
       "      <th>Heat</th>\n",
       "      <th>Sabrina</th>\n",
       "      <th>Tom and Huck</th>\n",
       "      <th>Sudden Death</th>\n",
       "      <th>GoldenEye</th>\n",
       "      <th>...</th>\n",
       "      <th>Her</th>\n",
       "      <th>The Lego Movie</th>\n",
       "      <th>Grand Budapest Hotel, The</th>\n",
       "      <th>Interstellar</th>\n",
       "      <th>Captain America: The Winter Soldier</th>\n",
       "      <th>X-Men: Days of Future Past</th>\n",
       "      <th>Edge of Tomorrow</th>\n",
       "      <th>Boyhood</th>\n",
       "      <th>Gone Girl</th>\n",
       "      <th>Guardians of the Galaxy</th>\n",
       "    </tr>\n",
       "  </thead>\n",
       "  <tbody>\n",
       "    <tr>\n",
       "      <th>Toy Story</th>\n",
       "      <td>1.000000</td>\n",
       "      <td>0.001697</td>\n",
       "      <td>0.001610</td>\n",
       "      <td>0.001561</td>\n",
       "      <td>0.001609</td>\n",
       "      <td>0.001610</td>\n",
       "      <td>0.001609</td>\n",
       "      <td>0.001566</td>\n",
       "      <td>0.001571</td>\n",
       "      <td>0.001650</td>\n",
       "      <td>...</td>\n",
       "      <td>0.001563</td>\n",
       "      <td>0.001569</td>\n",
       "      <td>0.001562</td>\n",
       "      <td>0.001560</td>\n",
       "      <td>0.001565</td>\n",
       "      <td>0.001565</td>\n",
       "      <td>0.001564</td>\n",
       "      <td>0.001560</td>\n",
       "      <td>0.001560</td>\n",
       "      <td>0.001566</td>\n",
       "    </tr>\n",
       "    <tr>\n",
       "      <th>Jumanji</th>\n",
       "      <td>0.001697</td>\n",
       "      <td>1.000000</td>\n",
       "      <td>0.002068</td>\n",
       "      <td>0.002109</td>\n",
       "      <td>0.002116</td>\n",
       "      <td>0.001849</td>\n",
       "      <td>0.002040</td>\n",
       "      <td>0.002151</td>\n",
       "      <td>0.002100</td>\n",
       "      <td>0.002038</td>\n",
       "      <td>...</td>\n",
       "      <td>0.002091</td>\n",
       "      <td>0.002105</td>\n",
       "      <td>0.002081</td>\n",
       "      <td>0.002091</td>\n",
       "      <td>0.002103</td>\n",
       "      <td>0.002102</td>\n",
       "      <td>0.002095</td>\n",
       "      <td>0.002100</td>\n",
       "      <td>0.002096</td>\n",
       "      <td>0.002094</td>\n",
       "    </tr>\n",
       "    <tr>\n",
       "      <th>Grumpier Old Men</th>\n",
       "      <td>0.001610</td>\n",
       "      <td>0.002068</td>\n",
       "      <td>1.000000</td>\n",
       "      <td>0.003033</td>\n",
       "      <td>0.003016</td>\n",
       "      <td>0.002075</td>\n",
       "      <td>0.002791</td>\n",
       "      <td>0.003108</td>\n",
       "      <td>0.003099</td>\n",
       "      <td>0.001965</td>\n",
       "      <td>...</td>\n",
       "      <td>0.002935</td>\n",
       "      <td>0.003009</td>\n",
       "      <td>0.002908</td>\n",
       "      <td>0.002956</td>\n",
       "      <td>0.003001</td>\n",
       "      <td>0.002980</td>\n",
       "      <td>0.002964</td>\n",
       "      <td>0.003038</td>\n",
       "      <td>0.002988</td>\n",
       "      <td>0.002935</td>\n",
       "    </tr>\n",
       "    <tr>\n",
       "      <th>Waiting to Exhale</th>\n",
       "      <td>0.001561</td>\n",
       "      <td>0.002109</td>\n",
       "      <td>0.003033</td>\n",
       "      <td>1.000000</td>\n",
       "      <td>0.003159</td>\n",
       "      <td>0.002119</td>\n",
       "      <td>0.003010</td>\n",
       "      <td>0.005094</td>\n",
       "      <td>0.004239</td>\n",
       "      <td>0.001995</td>\n",
       "      <td>...</td>\n",
       "      <td>0.004639</td>\n",
       "      <td>0.004923</td>\n",
       "      <td>0.004512</td>\n",
       "      <td>0.004757</td>\n",
       "      <td>0.004910</td>\n",
       "      <td>0.004808</td>\n",
       "      <td>0.004756</td>\n",
       "      <td>0.005165</td>\n",
       "      <td>0.004880</td>\n",
       "      <td>0.004602</td>\n",
       "    </tr>\n",
       "    <tr>\n",
       "      <th>Father of the Bride Part II</th>\n",
       "      <td>0.001609</td>\n",
       "      <td>0.002116</td>\n",
       "      <td>0.003016</td>\n",
       "      <td>0.003159</td>\n",
       "      <td>1.000000</td>\n",
       "      <td>0.002047</td>\n",
       "      <td>0.002887</td>\n",
       "      <td>0.003229</td>\n",
       "      <td>0.003155</td>\n",
       "      <td>0.001976</td>\n",
       "      <td>...</td>\n",
       "      <td>0.003018</td>\n",
       "      <td>0.003094</td>\n",
       "      <td>0.002984</td>\n",
       "      <td>0.003042</td>\n",
       "      <td>0.003087</td>\n",
       "      <td>0.003062</td>\n",
       "      <td>0.003047</td>\n",
       "      <td>0.003127</td>\n",
       "      <td>0.003073</td>\n",
       "      <td>0.003015</td>\n",
       "    </tr>\n",
       "  </tbody>\n",
       "</table>\n",
       "<p>5 rows × 3413 columns</p>\n",
       "</div>"
      ],
      "text/plain": [
       "                             Toy Story   Jumanji  Grumpier Old Men  \\\n",
       "Toy Story                     1.000000  0.001697          0.001610   \n",
       "Jumanji                       0.001697  1.000000          0.002068   \n",
       "Grumpier Old Men              0.001610  0.002068          1.000000   \n",
       "Waiting to Exhale             0.001561  0.002109          0.003033   \n",
       "Father of the Bride Part II   0.001609  0.002116          0.003016   \n",
       "\n",
       "                             Waiting to Exhale  Father of the Bride Part II  \\\n",
       "Toy Story                             0.001561                     0.001609   \n",
       "Jumanji                               0.002109                     0.002116   \n",
       "Grumpier Old Men                      0.003033                     0.003016   \n",
       "Waiting to Exhale                     1.000000                     0.003159   \n",
       "Father of the Bride Part II           0.003159                     1.000000   \n",
       "\n",
       "                                 Heat   Sabrina  Tom and Huck  Sudden Death  \\\n",
       "Toy Story                    0.001610  0.001609      0.001566      0.001571   \n",
       "Jumanji                      0.001849  0.002040      0.002151      0.002100   \n",
       "Grumpier Old Men             0.002075  0.002791      0.003108      0.003099   \n",
       "Waiting to Exhale            0.002119  0.003010      0.005094      0.004239   \n",
       "Father of the Bride Part II  0.002047  0.002887      0.003229      0.003155   \n",
       "\n",
       "                             GoldenEye  ...       Her  The Lego Movie  \\\n",
       "Toy Story                     0.001650  ...  0.001563        0.001569   \n",
       "Jumanji                       0.002038  ...  0.002091        0.002105   \n",
       "Grumpier Old Men              0.001965  ...  0.002935        0.003009   \n",
       "Waiting to Exhale             0.001995  ...  0.004639        0.004923   \n",
       "Father of the Bride Part II   0.001976  ...  0.003018        0.003094   \n",
       "\n",
       "                             Grand Budapest Hotel, The  Interstellar  \\\n",
       "Toy Story                                     0.001562      0.001560   \n",
       "Jumanji                                       0.002081      0.002091   \n",
       "Grumpier Old Men                              0.002908      0.002956   \n",
       "Waiting to Exhale                             0.004512      0.004757   \n",
       "Father of the Bride Part II                   0.002984      0.003042   \n",
       "\n",
       "                             Captain America: The Winter Soldier  \\\n",
       "Toy Story                                               0.001565   \n",
       "Jumanji                                                 0.002103   \n",
       "Grumpier Old Men                                        0.003001   \n",
       "Waiting to Exhale                                       0.004910   \n",
       "Father of the Bride Part II                             0.003087   \n",
       "\n",
       "                             X-Men: Days of Future Past  Edge of Tomorrow  \\\n",
       "Toy Story                                      0.001565          0.001564   \n",
       "Jumanji                                        0.002102          0.002095   \n",
       "Grumpier Old Men                               0.002980          0.002964   \n",
       "Waiting to Exhale                              0.004808          0.004756   \n",
       "Father of the Bride Part II                    0.003062          0.003047   \n",
       "\n",
       "                              Boyhood  Gone Girl  Guardians of the Galaxy  \n",
       "Toy Story                    0.001560   0.001560                 0.001566  \n",
       "Jumanji                      0.002100   0.002096                 0.002094  \n",
       "Grumpier Old Men             0.003038   0.002988                 0.002935  \n",
       "Waiting to Exhale            0.005165   0.004880                 0.004602  \n",
       "Father of the Bride Part II  0.003127   0.003073                 0.003015  \n",
       "\n",
       "[5 rows x 3413 columns]"
      ]
     },
     "execution_count": 120,
     "metadata": {},
     "output_type": "execute_result"
    }
   ],
   "source": [
    "euc_sim_item.head()"
   ]
  },
  {
   "cell_type": "markdown",
   "metadata": {},
   "source": [
    "## Recommendation"
   ]
  },
  {
   "cell_type": "code",
   "execution_count": 125,
   "metadata": {
    "ExecuteTime": {
     "end_time": "2022-01-12T05:13:03.448725Z",
     "start_time": "2022-01-12T05:13:03.413471Z"
    }
   },
   "outputs": [
    {
     "data": {
      "text/plain": [
       "Forrest Gump                          0.630181\n",
       "Star Wars: Episode IV - A New Hope    0.628852\n",
       "Jurassic Park                         0.626524\n",
       "Toy Story 2                           0.624472\n",
       "Back to the Future                    0.623630\n",
       "Name: Toy Story, dtype: float64"
      ]
     },
     "metadata": {},
     "output_type": "display_data"
    },
    {
     "data": {
      "text/plain": [
       "Toy Story 2       0.001974\n",
       "Aladdin           0.001862\n",
       "Lion King, The    0.001844\n",
       "Bug's Life, A     0.001834\n",
       "Monsters, Inc.    0.001813\n",
       "Name: Toy Story, dtype: float64"
      ]
     },
     "metadata": {},
     "output_type": "display_data"
    }
   ],
   "source": [
    "title = \"Toy Story\"\n",
    "display(cos_sim_item[title].sort_values(ascending=False)[1:6])\n",
    "display(euc_sim_item[title].sort_values(ascending=False)[1:6])"
   ]
  }
 ],
 "metadata": {
  "hide_input": false,
  "kernelspec": {
   "display_name": "Python 3",
   "language": "python",
   "name": "python3"
  },
  "language_info": {
   "codemirror_mode": {
    "name": "ipython",
    "version": 3
   },
   "file_extension": ".py",
   "mimetype": "text/x-python",
   "name": "python",
   "nbconvert_exporter": "python",
   "pygments_lexer": "ipython3",
   "version": "3.8.5"
  },
  "toc": {
   "base_numbering": 1,
   "nav_menu": {},
   "number_sections": true,
   "sideBar": true,
   "skip_h1_title": false,
   "title_cell": "Table of Contents",
   "title_sidebar": "Contents",
   "toc_cell": true,
   "toc_position": {
    "height": "calc(100% - 180px)",
    "left": "10px",
    "top": "150px",
    "width": "165px"
   },
   "toc_section_display": false,
   "toc_window_display": false
  },
  "varInspector": {
   "cols": {
    "lenName": 16,
    "lenType": 16,
    "lenVar": 40
   },
   "kernels_config": {
    "python": {
     "delete_cmd_postfix": "",
     "delete_cmd_prefix": "del ",
     "library": "var_list.py",
     "varRefreshCmd": "print(var_dic_list())"
    },
    "r": {
     "delete_cmd_postfix": ") ",
     "delete_cmd_prefix": "rm(",
     "library": "var_list.r",
     "varRefreshCmd": "cat(var_dic_list()) "
    }
   },
   "types_to_exclude": [
    "module",
    "function",
    "builtin_function_or_method",
    "instance",
    "_Feature"
   ],
   "window_display": false
  }
 },
 "nbformat": 4,
 "nbformat_minor": 4
}
